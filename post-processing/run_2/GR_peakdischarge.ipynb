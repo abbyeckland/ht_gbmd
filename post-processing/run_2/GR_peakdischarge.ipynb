{
 "cells": [
  {
   "cell_type": "code",
   "execution_count": 27,
   "metadata": {},
   "outputs": [],
   "source": [
    "import pandas as pd\n",
    "import matplotlib.pyplot as plt\n",
    "import numpy as np\n",
    "from numpy import reshape\n",
    "import pylab"
   ]
  },
  {
   "cell_type": "markdown",
   "metadata": {},
   "source": [
    "## Contents of Notebook\n",
    "\n",
    "**Part 1: Import and reshape simulated data**\n",
    "- Import and reshape simulated discharge (water and sediment) data from each time period *manually*\n",
    "- Import and reshape simulated discharge (water and sediment) data from each time period *automatically*\n",
    "\n",
    "**Part 2: Determine how the discharge hydrograph changes throughout the 21st century**\n",
    "- Calculate day of peak Qw for all scenarios\n",
    "- Calculate percent increase in peak Qw by EOC\n",
    "- Calculate percent increase in minimum Qw by EOC\n",
    "- Calculate the timing shift for peak Qw by EOC\n",
    "\n",
    "**Part 3: Plot how peak discharge changes over time**\n",
    "- Mean daily water discharge over time\n",
    "- Mean daily sediment discharge over time"
   ]
  },
  {
   "cell_type": "markdown",
   "metadata": {},
   "source": [
    "## Part 1: Import and reshape simulated data\n",
    "\n",
    "### 1.1. Import water data from each time period\n",
    "\n",
    "#### 1.1a) 1976-2006"
   ]
  },
  {
   "cell_type": "code",
   "execution_count": 28,
   "metadata": {},
   "outputs": [],
   "source": [
    "gfdl_qw_ref = np.genfromtxt('../../setup/run_2/Ganga/reference/GFDL-ESM2M/Hydrotrend/HYDROASCII.Q', skip_header = True)\n",
    "hadgem_qw_ref = np.genfromtxt('../../setup/run_2/Ganga/reference/HadGEM2/Hydrotrend/HYDROASCII.Q', skip_header = True)\n",
    "ipsl_qw_ref = np.genfromtxt('../../setup/run_2/Ganga/reference/IPSL_CM5A/Hydrotrend/HYDROASCII.Q', skip_header = True)\n",
    "miroc_qw_ref = np.genfromtxt('../../setup/run_2/Ganga/reference/MIROC-ESM-CHEM/Hydrotrend/HYDROASCII.Q', skip_header = True)\n",
    "noresm_qw_ref = np.genfromtxt('../../setup/run_2/Ganga/reference/NORESM-M/Hydrotrend/HYDROASCII.Q', skip_header = True)   "
   ]
  },
  {
   "cell_type": "code",
   "execution_count": 29,
   "metadata": {},
   "outputs": [],
   "source": [
    "gfdl_qs_ref = np.genfromtxt('../../setup/run_2/Ganga/reference/GFDL-ESM2M/Hydrotrend/HYDROASCII.QS', skip_header = True)\n",
    "hadgem_qs_ref = np.genfromtxt('../../setup/run_2/Ganga/reference/HadGEM2/Hydrotrend/HYDROASCII.QS', skip_header = True)\n",
    "ipsl_qs_ref = np.genfromtxt('../../setup/run_2/Ganga/reference/IPSL_CM5A/Hydrotrend/HYDROASCII.QS', skip_header = True)\n",
    "miroc_qs_ref = np.genfromtxt('../../setup/run_2/Ganga/reference/MIROC-ESM-CHEM/Hydrotrend/HYDROASCII.QS', skip_header = True)\n",
    "noresm_qs_ref = np.genfromtxt('../../setup/run_2/Ganga/reference/NORESM-M/Hydrotrend/HYDROASCII.QS', skip_header = True)   "
   ]
  },
  {
   "cell_type": "markdown",
   "metadata": {},
   "source": [
    "#### 1.1b) Reshape Qw arrays: Mean Daily Water Discharge"
   ]
  },
  {
   "cell_type": "code",
   "execution_count": 30,
   "metadata": {},
   "outputs": [],
   "source": [
    "gfdl_reshape_qw = gfdl_qw_ref[0:-1].reshape(30, 365)\n",
    "gfdl_mean_cols_qw = np.mean(gfdl_reshape_qw, axis = 0)\n",
    "\n",
    "hadgem_reshape_qw = hadgem_qw_ref[0:-1].reshape(30, 365)\n",
    "hadgem_mean_cols_qw = np.mean(hadgem_reshape_qw, axis = 0)\n",
    "\n",
    "ipsl_reshape_qw = ipsl_qw_ref[0:-1].reshape(30, 365)\n",
    "ipsl_mean_cols_qw = np.mean(ipsl_reshape_qw, axis = 0)\n",
    "\n",
    "miroc_reshape_qw = miroc_qw_ref[0:-1].reshape(30, 365)\n",
    "miroc_mean_cols_qw = np.mean(miroc_reshape_qw, axis = 0)\n",
    "\n",
    "noresm_reshape_qw = noresm_qw_ref[0:-1].reshape(30, 365)\n",
    "noresm_mean_cols_qw = np.mean(noresm_reshape_qw, axis = 0)"
   ]
  },
  {
   "cell_type": "markdown",
   "metadata": {},
   "source": [
    "#### 1.1c) Reshape Qs arrays: Mean Daily Sediment Discharge"
   ]
  },
  {
   "cell_type": "code",
   "execution_count": 31,
   "metadata": {},
   "outputs": [],
   "source": [
    "gfdl_reshape_qs = gfdl_qs_ref[0:-1].reshape(30, 365)\n",
    "gfdl_mean_cols_qs = np.mean(gfdl_reshape_qs, axis = 0)\n",
    "\n",
    "hadgem_reshape_qs = hadgem_qs_ref[0:-1].reshape(30, 365)\n",
    "hadgem_mean_cols_qs = np.mean(hadgem_reshape_qs, axis = 0)\n",
    "\n",
    "ipsl_reshape_qs = ipsl_qs_ref[0:-1].reshape(30, 365)\n",
    "ipsl_mean_cols_qs = np.mean(ipsl_reshape_qs, axis = 0)\n",
    "\n",
    "miroc_reshape_qs = miroc_qs_ref[0:-1].reshape(30, 365)\n",
    "miroc_mean_cols_qs = np.mean(miroc_reshape_qs, axis = 0)\n",
    "\n",
    "noresm_reshape_qs = noresm_qs_ref[0:-1].reshape(30, 365)\n",
    "noresm_mean_cols_qs = np.mean(noresm_reshape_qs, axis = 0)"
   ]
  },
  {
   "cell_type": "markdown",
   "metadata": {},
   "source": [
    "#### 1.1d) Reshape Qw arrays: Mean Annual Water Discharge"
   ]
  },
  {
   "cell_type": "code",
   "execution_count": 32,
   "metadata": {},
   "outputs": [],
   "source": [
    "gfdl_reshape_qw = gfdl_qw_ref[0:-1].reshape(30, 365)\n",
    "gfdl_mean_rows_qw = np.mean(gfdl_reshape_qw, axis = 1)\n",
    "\n",
    "hadgem_reshape_qw = hadgem_qw_ref[0:-1].reshape(30, 365)\n",
    "hadgem_mean_rows_qw = np.mean(hadgem_reshape_qw, axis = 1)\n",
    "\n",
    "ipsl_reshape_qw = ipsl_qw_ref[0:-1].reshape(30, 365)\n",
    "ipsl_mean_rows_qw = np.mean(ipsl_reshape_qw, axis = 1)\n",
    "\n",
    "miroc_reshape_qw = miroc_qw_ref[0:-1].reshape(30, 365)\n",
    "miroc_mean_rows_qw = np.mean(miroc_reshape_qw, axis = 1)\n",
    "\n",
    "noresm_reshape_qw = noresm_qw_ref[0:-1].reshape(30, 365)\n",
    "noresm_mean_rows_qw = np.mean(noresm_reshape_qw, axis = 1)"
   ]
  },
  {
   "cell_type": "markdown",
   "metadata": {},
   "source": [
    "#### 1.1e) Reshape Qs arrays: Mean Annual Sediment Discharge"
   ]
  },
  {
   "cell_type": "code",
   "execution_count": 33,
   "metadata": {},
   "outputs": [],
   "source": [
    "gfdl_reshape_qs = gfdl_qs_ref[0:-1].reshape(30, 365)\n",
    "gfdl_mean_rows_qs = np.mean(gfdl_reshape_qs, axis = 1)\n",
    "\n",
    "hadgem_reshape_qs = hadgem_qs_ref[0:-1].reshape(30, 365)\n",
    "hadgem_mean_rows_qs = np.mean(hadgem_reshape_qs, axis = 1)\n",
    "\n",
    "ipsl_reshape_qs = ipsl_qs_ref[0:-1].reshape(30, 365)\n",
    "ipsl_mean_rows_qs = np.mean(ipsl_reshape_qs, axis = 1)\n",
    "\n",
    "miroc_reshape_qs = miroc_qs_ref[0:-1].reshape(30, 365)\n",
    "miroc_mean_rows_qs = np.mean(miroc_reshape_qs, axis = 1)\n",
    "\n",
    "noresm_reshape_qs = noresm_qs_ref[0:-1].reshape(30, 365)\n",
    "noresm_mean_rows_qs = np.mean(noresm_reshape_qs, axis = 1)"
   ]
  },
  {
   "cell_type": "markdown",
   "metadata": {},
   "source": [
    "### 1.2. Write function to automatically reshape the data for the remaining time periods"
   ]
  },
  {
   "cell_type": "code",
   "execution_count": 34,
   "metadata": {},
   "outputs": [],
   "source": [
    "def reshape_cols(record):\n",
    "    return np.mean(record[0:-1].reshape(30, 365), axis = 0)\n",
    "\n",
    "def reshape_rows(record):\n",
    "    return np.mean(record[0:-1].reshape(30,365), axis = 1)"
   ]
  },
  {
   "cell_type": "markdown",
   "metadata": {},
   "source": [
    "#### 1.2a) 2006-2036"
   ]
  },
  {
   "cell_type": "code",
   "execution_count": 35,
   "metadata": {},
   "outputs": [],
   "source": [
    "gfdl_qw_20_4p5 = np.genfromtxt('../../setup/run_2/Ganga/rcp4p5/GFDL-ESM2M/2020/Hydrotrend/HYDROASCII.Q', skip_header = True)\n",
    "hadgem_qw_20_4p5 = np.genfromtxt('../../setup/run_2/Ganga/rcp4p5/HadGEM2/2020/Hydrotrend/HYDROASCII.Q', skip_header = True)\n",
    "ipsl_qw_20_4p5 = np.genfromtxt('../../setup/run_2/Ganga/rcp4p5/IPSL_CM5A/2020/Hydrotrend/HYDROASCII.Q', skip_header = True)\n",
    "miroc_qw_20_4p5 = np.genfromtxt('../../setup/run_2/Ganga/rcp4p5/MIROC-ESM-CHEM/2020/Hydrotrend/HYDROASCII.Q', skip_header = True)\n",
    "noresm_qw_20_4p5 = np.genfromtxt('../../setup/run_2/Ganga/rcp4p5/NORESM-M/2020/Hydrotrend/HYDROASCII.Q', skip_header = True)  \n",
    "\n",
    "gfdl_qw_20_8p5 = np.genfromtxt('../../setup/run_2/Ganga/rcp8p5/GFDL-ESM2M/2020/Hydrotrend/HYDROASCII.Q', skip_header = True)\n",
    "hadgem_qw_20_8p5 = np.genfromtxt('../../setup/run_2/Ganga/rcp8p5/HadGEM2/2020/Hydrotrend/HYDROASCII.Q', skip_header = True)\n",
    "ipsl_qw_20_8p5 = np.genfromtxt('../../setup/run_2/Ganga/rcp8p5/IPSL_CM5A/2020/Hydrotrend/HYDROASCII.Q', skip_header = True)\n",
    "miroc_qw_20_8p5 = np.genfromtxt('../../setup/run_2/Ganga/rcp8p5/MIROC-ESM-CHEM/2020/Hydrotrend/HYDROASCII.Q', skip_header = True)\n",
    "noresm_qw_20_8p5 = np.genfromtxt('../../setup/run_2/Ganga/rcp8p5/NORESM-M/2020/Hydrotrend/HYDROASCII.Q', skip_header = True)   "
   ]
  },
  {
   "cell_type": "code",
   "execution_count": 36,
   "metadata": {},
   "outputs": [],
   "source": [
    "gfdl_qs_20_4p5 = np.genfromtxt('../../setup/run_2/Ganga/rcp4p5/GFDL-ESM2M/2020/Hydrotrend/HYDROASCII.QS', skip_header = True)\n",
    "hadgem_qs_20_4p5 = np.genfromtxt('../../setup/run_2/Ganga/rcp4p5/HadGEM2/2020/Hydrotrend/HYDROASCII.QS', skip_header = True)\n",
    "ipsl_qs_20_4p5 = np.genfromtxt('../../setup/run_2/Ganga/rcp4p5/IPSL_CM5A/2020/Hydrotrend/HYDROASCII.QS', skip_header = True)\n",
    "miroc_qs_20_4p5 = np.genfromtxt('../../setup/run_2/Ganga/rcp4p5/MIROC-ESM-CHEM/2020/Hydrotrend/HYDROASCII.QS', skip_header = True)\n",
    "noresm_qs_20_4p5 = np.genfromtxt('../../setup/run_2/Ganga/rcp4p5/NORESM-M/2020/Hydrotrend/HYDROASCII.QS', skip_header = True)  \n",
    "\n",
    "gfdl_qs_20_8p5 = np.genfromtxt('../../setup/run_2/Ganga/rcp8p5/GFDL-ESM2M/2020/Hydrotrend/HYDROASCII.QS', skip_header = True)\n",
    "hadgem_qs_20_8p5 = np.genfromtxt('../../setup/run_2/Ganga/rcp8p5/HadGEM2/2020/Hydrotrend/HYDROASCII.QS', skip_header = True)\n",
    "ipsl_qs_20_8p5 = np.genfromtxt('../../setup/run_2/Ganga/rcp8p5/IPSL_CM5A/2020/Hydrotrend/HYDROASCII.QS', skip_header = True)\n",
    "miroc_qs_20_8p5 = np.genfromtxt('../../setup/run_2/Ganga/rcp8p5/MIROC-ESM-CHEM/2020/Hydrotrend/HYDROASCII.QS', skip_header = True)\n",
    "noresm_qs_20_8p5 = np.genfromtxt('../../setup/run_2/Ganga/rcp8p5/NORESM-M/2020/Hydrotrend/HYDROASCII.QS', skip_header = True)   "
   ]
  },
  {
   "cell_type": "markdown",
   "metadata": {},
   "source": [
    "#### 1.2b) 2026-2056"
   ]
  },
  {
   "cell_type": "code",
   "execution_count": 37,
   "metadata": {},
   "outputs": [],
   "source": [
    "gfdl_qw_40_4p5 = np.genfromtxt('../../setup/run_2/Ganga/rcp4p5/GFDL-ESM2M/2040/Hydrotrend/HYDROASCII.Q', skip_header = True)\n",
    "hadgem_qw_40_4p5 = np.genfromtxt('../../setup/run_2/Ganga/rcp4p5/HadGEM2/2040/Hydrotrend/HYDROASCII.Q', skip_header = True)\n",
    "ipsl_qw_40_4p5 = np.genfromtxt('../../setup/run_2/Ganga/rcp4p5/IPSL_CM5A/2040/Hydrotrend/HYDROASCII.Q', skip_header = True)\n",
    "miroc_qw_40_4p5 = np.genfromtxt('../../setup/run_2/Ganga/rcp4p5/MIROC-ESM-CHEM/2040/Hydrotrend/HYDROASCII.Q', skip_header = True)\n",
    "noresm_qw_40_4p5 = np.genfromtxt('../../setup/run_2/Ganga/rcp4p5/NORESM-M/2040/Hydrotrend/HYDROASCII.Q', skip_header = True)  \n",
    "\n",
    "gfdl_qw_40_8p5 = np.genfromtxt('../../setup/run_2/Ganga/rcp8p5/GFDL-ESM2M/2040/Hydrotrend/HYDROASCII.Q', skip_header = True)\n",
    "hadgem_qw_40_8p5 = np.genfromtxt('../../setup/run_2/Ganga/rcp8p5/HadGEM2/2040/Hydrotrend/HYDROASCII.Q', skip_header = True)\n",
    "ipsl_qw_40_8p5 = np.genfromtxt('../../setup/run_2/Ganga/rcp8p5/IPSL_CM5A/2040/Hydrotrend/HYDROASCII.Q', skip_header = True)\n",
    "miroc_qw_40_8p5 = np.genfromtxt('../../setup/run_2/Ganga/rcp8p5/MIROC-ESM-CHEM/2040/Hydrotrend/HYDROASCII.Q', skip_header = True)\n",
    "noresm_qw_40_8p5 = np.genfromtxt('../../setup/run_2/Ganga/rcp8p5/NORESM-M/2040/Hydrotrend/HYDROASCII.Q', skip_header = True)   "
   ]
  },
  {
   "cell_type": "code",
   "execution_count": 38,
   "metadata": {},
   "outputs": [],
   "source": [
    "gfdl_qs_40_4p5 = np.genfromtxt('../../setup/run_2/Ganga/rcp4p5/GFDL-ESM2M/2040/Hydrotrend/HYDROASCII.QS', skip_header = True)\n",
    "hadgem_qs_40_4p5 = np.genfromtxt('../../setup/run_2/Ganga/rcp4p5/HadGEM2/2040/Hydrotrend/HYDROASCII.QS', skip_header = True)\n",
    "ipsl_qs_40_4p5 = np.genfromtxt('../../setup/run_2/Ganga/rcp4p5/IPSL_CM5A/2040/Hydrotrend/HYDROASCII.QS', skip_header = True)\n",
    "miroc_qs_40_4p5 = np.genfromtxt('../../setup/run_2/Ganga/rcp4p5/MIROC-ESM-CHEM/2040/Hydrotrend/HYDROASCII.QS', skip_header = True)\n",
    "noresm_qs_40_4p5 = np.genfromtxt('../../setup/run_2/Ganga/rcp4p5/NORESM-M/2040/Hydrotrend/HYDROASCII.QS', skip_header = True)  \n",
    "\n",
    "gfdl_qs_40_8p5 = np.genfromtxt('../../setup/run_2/Ganga/rcp8p5/GFDL-ESM2M/2040/Hydrotrend/HYDROASCII.QS', skip_header = True)\n",
    "hadgem_qs_40_8p5 = np.genfromtxt('../../setup/run_2/Ganga/rcp8p5/HadGEM2/2040/Hydrotrend/HYDROASCII.QS', skip_header = True)\n",
    "ipsl_qs_40_8p5 = np.genfromtxt('../../setup/run_2/Ganga/rcp8p5/IPSL_CM5A/2040/Hydrotrend/HYDROASCII.QS', skip_header = True)\n",
    "miroc_qs_40_8p5 = np.genfromtxt('../../setup/run_2/Ganga/rcp8p5/MIROC-ESM-CHEM/2040/Hydrotrend/HYDROASCII.QS', skip_header = True)\n",
    "noresm_qs_40_8p5 = np.genfromtxt('../../setup/run_2/Ganga/rcp8p5/NORESM-M/2040/Hydrotrend/HYDROASCII.QS', skip_header = True)   "
   ]
  },
  {
   "cell_type": "markdown",
   "metadata": {},
   "source": [
    "#### 1.2c) 2046-2076"
   ]
  },
  {
   "cell_type": "code",
   "execution_count": 39,
   "metadata": {},
   "outputs": [],
   "source": [
    "gfdl_qw_60_4p5 = np.genfromtxt('../../setup/run_2/Ganga/rcp4p5/GFDL-ESM2M/2060/Hydrotrend/HYDROASCII.Q', skip_header = True)\n",
    "hadgem_qw_60_4p5 = np.genfromtxt('../../setup/run_2/Ganga/rcp4p5/HadGEM2/2060/Hydrotrend/HYDROASCII.Q', skip_header = True)\n",
    "ipsl_qw_60_4p5 = np.genfromtxt('../../setup/run_2/Ganga/rcp4p5/IPSL_CM5A/2060/Hydrotrend/HYDROASCII.Q', skip_header = True)\n",
    "miroc_qw_60_4p5 = np.genfromtxt('../../setup/run_2/Ganga/rcp4p5/MIROC-ESM-CHEM/2060/Hydrotrend/HYDROASCII.Q', skip_header = True)\n",
    "noresm_qw_60_4p5 = np.genfromtxt('../../setup/run_2/Ganga/rcp4p5/NORESM-M/2060/Hydrotrend/HYDROASCII.Q', skip_header = True)\n",
    "\n",
    "gfdl_qw_60_8p5 = np.genfromtxt('../../setup/run_2/Ganga/rcp8p5/GFDL-ESM2M/2060/Hydrotrend/HYDROASCII.Q', skip_header = True)\n",
    "hadgem_qw_60_8p5 = np.genfromtxt('../../setup/run_2/Ganga/rcp8p5/HadGEM2/2060/Hydrotrend/HYDROASCII.Q', skip_header = True)\n",
    "ipsl_qw_60_8p5 = np.genfromtxt('../../setup/run_2/Ganga/rcp8p5/IPSL_CM5A/2060/Hydrotrend/HYDROASCII.Q', skip_header = True)\n",
    "miroc_qw_60_8p5 = np.genfromtxt('../../setup/run_2/Ganga/rcp8p5/MIROC-ESM-CHEM/2060/Hydrotrend/HYDROASCII.Q', skip_header = True)\n",
    "noresm_qw_60_8p5 = np.genfromtxt('../../setup/run_2/Ganga/rcp8p5/NORESM-M/2060/Hydrotrend/HYDROASCII.Q', skip_header = True)   "
   ]
  },
  {
   "cell_type": "code",
   "execution_count": 40,
   "metadata": {},
   "outputs": [],
   "source": [
    "gfdl_qs_60_4p5 = np.genfromtxt('../../setup/run_2/Ganga/rcp4p5/GFDL-ESM2M/2060/Hydrotrend/HYDROASCII.QS', skip_header = True)\n",
    "hadgem_qs_60_4p5 = np.genfromtxt('../../setup/run_2/Ganga/rcp4p5/HadGEM2/2060/Hydrotrend/HYDROASCII.QS', skip_header = True)\n",
    "ipsl_qs_60_4p5 = np.genfromtxt('../../setup/run_2/Ganga/rcp4p5/IPSL_CM5A/2060/Hydrotrend/HYDROASCII.QS', skip_header = True)\n",
    "miroc_qs_60_4p5 = np.genfromtxt('../../setup/run_2/Ganga/rcp4p5/MIROC-ESM-CHEM/2060/Hydrotrend/HYDROASCII.QS', skip_header = True)\n",
    "noresm_qs_60_4p5 = np.genfromtxt('../../setup/run_2/Ganga/rcp4p5/NORESM-M/2060/Hydrotrend/HYDROASCII.QS', skip_header = True)\n",
    "\n",
    "gfdl_qs_60_8p5 = np.genfromtxt('../../setup/run_2/Ganga/rcp8p5/GFDL-ESM2M/2060/Hydrotrend/HYDROASCII.QS', skip_header = True)\n",
    "hadgem_qs_60_8p5 = np.genfromtxt('../../setup/run_2/Ganga/rcp8p5/HadGEM2/2060/Hydrotrend/HYDROASCII.QS', skip_header = True)\n",
    "ipsl_qs_60_8p5 = np.genfromtxt('../../setup/run_2/Ganga/rcp8p5/IPSL_CM5A/2060/Hydrotrend/HYDROASCII.QS', skip_header = True)\n",
    "miroc_qs_60_8p5 = np.genfromtxt('../../setup/run_2/Ganga/rcp8p5/MIROC-ESM-CHEM/2060/Hydrotrend/HYDROASCII.QS', skip_header = True)\n",
    "noresm_qs_60_8p5 = np.genfromtxt('../../setup/run_2/Ganga/rcp8p5/NORESM-M/2060/Hydrotrend/HYDROASCII.QS', skip_header = True)   "
   ]
  },
  {
   "cell_type": "markdown",
   "metadata": {},
   "source": [
    "#### 1.2d) 2066 - 2096"
   ]
  },
  {
   "cell_type": "code",
   "execution_count": 41,
   "metadata": {},
   "outputs": [],
   "source": [
    "gfdl_qw_80_4p5 = np.genfromtxt('../../setup/run_2/Ganga/rcp4p5/GFDL-ESM2M/2080/Hydrotrend/HYDROASCII.Q', skip_header = True)\n",
    "hadgem_qw_80_4p5 = np.genfromtxt('../../setup/run_2/Ganga/rcp4p5/HadGEM2/2080/Hydrotrend/HYDROASCII.Q', skip_header = True)\n",
    "ipsl_qw_80_4p5 = np.genfromtxt('../../setup/run_2/Ganga/rcp4p5/IPSL_CM5A/2080/Hydrotrend/HYDROASCII.Q', skip_header = True)\n",
    "miroc_qw_80_4p5 = np.genfromtxt('../../setup/run_2/Ganga/rcp4p5/MIROC-ESM-CHEM/2080/Hydrotrend/HYDROASCII.Q', skip_header = True)\n",
    "noresm_qw_80_4p5 = np.genfromtxt('../../setup/run_2/Ganga/rcp4p5/NORESM-M/2080/Hydrotrend/HYDROASCII.Q', skip_header = True) \n",
    "\n",
    "gfdl_qw_80_8p5 = np.genfromtxt('../../setup/run_2/Ganga/rcp8p5/GFDL-ESM2M/2080/Hydrotrend/HYDROASCII.Q', skip_header = True)\n",
    "hadgem_qw_80_8p5 = np.genfromtxt('../../setup/run_2/Ganga/rcp8p5/HadGEM2/2080/Hydrotrend/HYDROASCII.Q', skip_header = True)\n",
    "ipsl_qw_80_8p5 = np.genfromtxt('../../setup/run_2/Ganga/rcp8p5/IPSL_CM5A/2080/Hydrotrend/HYDROASCII.Q', skip_header = True)\n",
    "miroc_qw_80_8p5 = np.genfromtxt('../../setup/run_2/Ganga/rcp8p5/MIROC-ESM-CHEM/2080/Hydrotrend/HYDROASCII.Q', skip_header = True)\n",
    "noresm_qw_80_8p5 = np.genfromtxt('../../setup/run_2/Ganga/rcp8p5/NORESM-M/2080/Hydrotrend/HYDROASCII.Q', skip_header = True)   "
   ]
  },
  {
   "cell_type": "code",
   "execution_count": 42,
   "metadata": {},
   "outputs": [],
   "source": [
    "gfdl_qs_80_4p5 = np.genfromtxt('../../setup/run_2/Ganga/rcp4p5/GFDL-ESM2M/2080/Hydrotrend/HYDROASCII.QS', skip_header = True)\n",
    "hadgem_qs_80_4p5 = np.genfromtxt('../../setup/run_2/Ganga/rcp4p5/HadGEM2/2080/Hydrotrend/HYDROASCII.QS', skip_header = True)\n",
    "ipsl_qs_80_4p5 = np.genfromtxt('../../setup/run_2/Ganga/rcp4p5/IPSL_CM5A/2080/Hydrotrend/HYDROASCII.QS', skip_header = True)\n",
    "miroc_qs_80_4p5 = np.genfromtxt('../../setup/run_2/Ganga/rcp4p5/MIROC-ESM-CHEM/2080/Hydrotrend/HYDROASCII.QS', skip_header = True)\n",
    "noresm_qs_80_4p5 = np.genfromtxt('../../setup/run_2/Ganga/rcp4p5/NORESM-M/2080/Hydrotrend/HYDROASCII.QS', skip_header = True) \n",
    "\n",
    "gfdl_qs_80_8p5 = np.genfromtxt('../../setup/run_2/Ganga/rcp8p5/GFDL-ESM2M/2080/Hydrotrend/HYDROASCII.QS', skip_header = True)\n",
    "hadgem_qs_80_8p5 = np.genfromtxt('../../setup/run_2/Ganga/rcp8p5/HadGEM2/2080/Hydrotrend/HYDROASCII.QS', skip_header = True)\n",
    "ipsl_qs_80_8p5 = np.genfromtxt('../../setup/run_2/Ganga/rcp8p5/IPSL_CM5A/2080/Hydrotrend/HYDROASCII.QS', skip_header = True)\n",
    "miroc_qs_80_8p5 = np.genfromtxt('../../setup/run_2/Ganga/rcp8p5/MIROC-ESM-CHEM/2080/Hydrotrend/HYDROASCII.QS', skip_header = True)\n",
    "noresm_qs_80_8p5 = np.genfromtxt('../../setup/run_2/Ganga/rcp8p5/NORESM-M/2080/Hydrotrend/HYDROASCII.QS', skip_header = True)   "
   ]
  },
  {
   "cell_type": "markdown",
   "metadata": {},
   "source": [
    "### 1.3. Reshape arrays by column\n",
    "\n",
    "#### 1.3a) Mean daily water discharge"
   ]
  },
  {
   "cell_type": "code",
   "execution_count": 43,
   "metadata": {},
   "outputs": [],
   "source": [
    "# Rcp4.5\n",
    "gfdl_cols_qw_20_4p5 = reshape_cols(gfdl_qw_20_4p5)\n",
    "gfdl_cols_qw_40_4p5 = reshape_cols(gfdl_qw_40_4p5)\n",
    "gfdl_cols_qw_60_4p5 = reshape_cols(gfdl_qw_60_4p5)\n",
    "gfdl_cols_qw_80_4p5 = reshape_cols(gfdl_qw_80_4p5)\n",
    "\n",
    "hadgem_cols_qw_20_4p5 = reshape_cols(hadgem_qw_20_4p5)\n",
    "hadgem_cols_qw_40_4p5 = reshape_cols(hadgem_qw_40_4p5)\n",
    "hadgem_cols_qw_60_4p5 = reshape_cols(hadgem_qw_60_4p5)\n",
    "hadgem_cols_qw_80_4p5 = reshape_cols(hadgem_qw_80_4p5)\n",
    "\n",
    "ipsl_cols_qw_20_4p5 = reshape_cols(ipsl_qw_20_4p5)\n",
    "ipsl_cols_qw_40_4p5 = reshape_cols(ipsl_qw_40_4p5)\n",
    "ipsl_cols_qw_60_4p5 = reshape_cols(ipsl_qw_60_4p5)\n",
    "ipsl_cols_qw_80_4p5 = reshape_cols(ipsl_qw_80_4p5)\n",
    "\n",
    "miroc_cols_qw_20_4p5 = reshape_cols(miroc_qw_20_4p5)\n",
    "miroc_cols_qw_40_4p5 = reshape_cols(miroc_qw_40_4p5)\n",
    "miroc_cols_qw_60_4p5 = reshape_cols(miroc_qw_60_4p5)\n",
    "miroc_cols_qw_80_4p5 = reshape_cols(miroc_qw_80_4p5)\n",
    "\n",
    "noresm_cols_qw_20_4p5 = reshape_cols(noresm_qw_20_4p5)\n",
    "noresm_cols_qw_40_4p5 = reshape_cols(noresm_qw_40_4p5)\n",
    "noresm_cols_qw_60_4p5 = reshape_cols(noresm_qw_60_4p5)\n",
    "noresm_cols_qw_80_4p5 = reshape_cols(noresm_qw_80_4p5)"
   ]
  },
  {
   "cell_type": "code",
   "execution_count": 44,
   "metadata": {},
   "outputs": [],
   "source": [
    "# Rcp8.5\n",
    "gfdl_cols_qw_20_8p5 = reshape_cols(gfdl_qw_20_8p5)\n",
    "gfdl_cols_qw_40_8p5 = reshape_cols(gfdl_qw_40_8p5)\n",
    "gfdl_cols_qw_60_8p5 = reshape_cols(gfdl_qw_60_8p5)\n",
    "gfdl_cols_qw_80_8p5 = reshape_cols(gfdl_qw_80_8p5)\n",
    "\n",
    "hadgem_cols_qw_20_8p5 = reshape_cols(hadgem_qw_20_8p5)\n",
    "hadgem_cols_qw_40_8p5 = reshape_cols(hadgem_qw_40_8p5)\n",
    "hadgem_cols_qw_60_8p5 = reshape_cols(hadgem_qw_60_8p5)\n",
    "hadgem_cols_qw_80_8p5 = reshape_cols(hadgem_qw_80_8p5)\n",
    "\n",
    "ipsl_cols_qw_20_8p5 = reshape_cols(ipsl_qw_20_8p5)\n",
    "ipsl_cols_qw_40_8p5 = reshape_cols(ipsl_qw_40_8p5)\n",
    "ipsl_cols_qw_60_8p5 = reshape_cols(ipsl_qw_60_8p5)\n",
    "ipsl_cols_qw_80_8p5 = reshape_cols(ipsl_qw_80_8p5)\n",
    "\n",
    "miroc_cols_qw_20_8p5 = reshape_cols(miroc_qw_20_8p5)\n",
    "miroc_cols_qw_40_8p5 = reshape_cols(miroc_qw_40_8p5)\n",
    "miroc_cols_qw_60_8p5 = reshape_cols(miroc_qw_60_8p5)\n",
    "miroc_cols_qw_80_8p5 = reshape_cols(miroc_qw_80_8p5)\n",
    "\n",
    "noresm_cols_qw_20_8p5 = reshape_cols(noresm_qw_20_8p5)\n",
    "noresm_cols_qw_40_8p5 = reshape_cols(noresm_qw_40_8p5)\n",
    "noresm_cols_qw_60_8p5 = reshape_cols(noresm_qw_60_8p5)\n",
    "noresm_cols_qw_80_8p5 = reshape_cols(noresm_qw_80_8p5)"
   ]
  },
  {
   "cell_type": "markdown",
   "metadata": {},
   "source": [
    "#### 1.3b) Mean daily sediment discharge"
   ]
  },
  {
   "cell_type": "code",
   "execution_count": 45,
   "metadata": {},
   "outputs": [],
   "source": [
    "# Rcp4.5\n",
    "gfdl_cols_qs_20_4p5 = reshape_cols(gfdl_qs_20_4p5)\n",
    "gfdl_cols_qs_40_4p5 = reshape_cols(gfdl_qs_40_4p5)\n",
    "gfdl_cols_qs_60_4p5 = reshape_cols(gfdl_qs_60_4p5)\n",
    "gfdl_cols_qs_80_4p5 = reshape_cols(gfdl_qs_80_4p5)\n",
    "\n",
    "hadgem_cols_qs_20_4p5 = reshape_cols(hadgem_qs_20_4p5)\n",
    "hadgem_cols_qs_40_4p5 = reshape_cols(hadgem_qs_40_4p5)\n",
    "hadgem_cols_qs_60_4p5 = reshape_cols(hadgem_qs_60_4p5)\n",
    "hadgem_cols_qs_80_4p5 = reshape_cols(hadgem_qs_80_4p5)\n",
    "\n",
    "ipsl_cols_qs_20_4p5 = reshape_cols(ipsl_qs_20_4p5)\n",
    "ipsl_cols_qs_40_4p5 = reshape_cols(ipsl_qs_40_4p5)\n",
    "ipsl_cols_qs_60_4p5 = reshape_cols(ipsl_qs_60_4p5)\n",
    "ipsl_cols_qs_80_4p5 = reshape_cols(ipsl_qs_80_4p5)\n",
    "\n",
    "miroc_cols_qs_20_4p5 = reshape_cols(miroc_qs_20_4p5)\n",
    "miroc_cols_qs_40_4p5 = reshape_cols(miroc_qs_40_4p5)\n",
    "miroc_cols_qs_60_4p5 = reshape_cols(miroc_qs_60_4p5)\n",
    "miroc_cols_qs_80_4p5 = reshape_cols(miroc_qs_80_4p5)\n",
    "\n",
    "noresm_cols_qs_20_4p5 = reshape_cols(noresm_qs_20_4p5)\n",
    "noresm_cols_qs_40_4p5 = reshape_cols(noresm_qs_40_4p5)\n",
    "noresm_cols_qs_60_4p5 = reshape_cols(noresm_qs_60_4p5)\n",
    "noresm_cols_qs_80_4p5 = reshape_cols(noresm_qs_80_4p5)"
   ]
  },
  {
   "cell_type": "code",
   "execution_count": 46,
   "metadata": {},
   "outputs": [],
   "source": [
    "# Rcp8.5\n",
    "gfdl_cols_qs_20_8p5 = reshape_cols(gfdl_qs_20_8p5)\n",
    "gfdl_cols_qs_40_8p5 = reshape_cols(gfdl_qs_40_8p5)\n",
    "gfdl_cols_qs_60_8p5 = reshape_cols(gfdl_qs_60_8p5)\n",
    "gfdl_cols_qs_80_8p5 = reshape_cols(gfdl_qs_80_8p5)\n",
    "\n",
    "hadgem_cols_qs_20_8p5 = reshape_cols(hadgem_qs_20_8p5)\n",
    "hadgem_cols_qs_40_8p5 = reshape_cols(hadgem_qs_40_8p5)\n",
    "hadgem_cols_qs_60_8p5 = reshape_cols(hadgem_qs_60_8p5)\n",
    "hadgem_cols_qs_80_8p5 = reshape_cols(hadgem_qs_80_8p5)\n",
    "\n",
    "ipsl_cols_qs_20_8p5 = reshape_cols(ipsl_qs_20_8p5)\n",
    "ipsl_cols_qs_40_8p5 = reshape_cols(ipsl_qs_40_8p5)\n",
    "ipsl_cols_qs_60_8p5 = reshape_cols(ipsl_qs_60_8p5)\n",
    "ipsl_cols_qs_80_8p5 = reshape_cols(ipsl_qs_80_8p5)\n",
    "\n",
    "miroc_cols_qs_20_8p5 = reshape_cols(miroc_qs_20_8p5)\n",
    "miroc_cols_qs_40_8p5 = reshape_cols(miroc_qs_40_8p5)\n",
    "miroc_cols_qs_60_8p5 = reshape_cols(miroc_qs_60_8p5)\n",
    "miroc_cols_qs_80_8p5 = reshape_cols(miroc_qs_80_8p5)\n",
    "\n",
    "noresm_cols_qs_20_8p5 = reshape_cols(noresm_qs_20_8p5)\n",
    "noresm_cols_qs_40_8p5 = reshape_cols(noresm_qs_40_8p5)\n",
    "noresm_cols_qs_60_8p5 = reshape_cols(noresm_qs_60_8p5)\n",
    "noresm_cols_qs_80_8p5 = reshape_cols(noresm_qs_80_8p5)"
   ]
  },
  {
   "cell_type": "markdown",
   "metadata": {},
   "source": [
    "### 1.4. Reshape arrays by rows\n",
    "\n",
    "#### 1.4a) Mean annual water discharge"
   ]
  },
  {
   "cell_type": "code",
   "execution_count": 47,
   "metadata": {},
   "outputs": [],
   "source": [
    "# gfdl_rows_qw_20 = reshape_rows(gfdl_qw_20)\n",
    "# gfdl_rows_qw_40 = reshape_rows(gfdl_qw_40)\n",
    "# gfdl_rows_qw_60 = reshape_rows(gfdl_qw_60)\n",
    "# gfdl_rows_qw_80 = reshape_rows(gfdl_qw_80)\n",
    "\n",
    "# hadgem_rows_qw_20 = reshape_rows(hadgem_qw_20)\n",
    "# hadgem_rows_qw_40 = reshape_rows(hadgem_qw_40)\n",
    "# hadgem_rows_qw_60 = reshape_rows(hadgem_qw_60)\n",
    "# hadgem_rows_qw_80 = reshape_rows(hadgem_qw_80)\n",
    "\n",
    "# ipsl_rows_qw_20 = reshape_rows(ipsl_qw_20)\n",
    "# ipsl_rows_qw_40 = reshape_rows(ipsl_qw_40)\n",
    "# ipsl_rows_qw_60 = reshape_rows(ipsl_qw_60)\n",
    "# ipsl_rows_qw_80 = reshape_rows(ipsl_qw_80)\n",
    "\n",
    "# miroc_rows_qw_20 = reshape_rows(miroc_qw_20)\n",
    "# miroc_rows_qw_40 = reshape_rows(miroc_qw_40)\n",
    "# miroc_rows_qw_60 = reshape_rows(miroc_qw_60)\n",
    "# miroc_rows_qw_80 = reshape_rows(miroc_qw_80)\n",
    "\n",
    "# noresm_rows_qw_20 = reshape_rows(noresm_qw_20)\n",
    "# noresm_rows_qw_40 = reshape_rows(noresm_qw_40)\n",
    "# noresm_rows_qw_60 = reshape_rows(noresm_qw_60)\n",
    "# noresm_rows_qw_80 = reshape_rows(noresm_qw_80)"
   ]
  },
  {
   "cell_type": "markdown",
   "metadata": {},
   "source": [
    "## Part 2: Determine how the discharge hydrograph changes throughout the 21st century\n",
    "\n",
    "### 2.1. Calculate maximum and minimum water discharge for reference scenario, EOC RCP4.5 scenario, and EOC RCP8.5 scenario\n",
    "\n",
    "#### 2.1a) Calculate day of peak Qw for all scenarios"
   ]
  },
  {
   "cell_type": "code",
   "execution_count": 48,
   "metadata": {},
   "outputs": [
    {
     "name": "stdout",
     "output_type": "stream",
     "text": [
      "GFDL: Day of Peak Qw: 222 (reference), 216 (EOC, RCP4P5), and 198 (EOC, RCP8P5)\n",
      "HadGEM: Day of Peak Qw: 229 (reference), 231 (EOC, RCP4P5), and 220 (EOC, RCP8P5)\n",
      "MIROC: Day of Peak Qw: 229 (reference), 204 (EOC, RCP4P5), and 225 (EOC, RCP8P5)\n",
      "NORESM: Day of Peak Qw: 230 (reference), 223 (EOC, RCP4P5), and 216 (EOC, RCP8P5)\n",
      "Average: 227.5 (reference), 218.5 (EOC, RCP4P5), and 214.75 (EOC, RCP8P5)\n"
     ]
    }
   ],
   "source": [
    "print('GFDL: Day of Peak Qw: {} (reference), {} (EOC, RCP4P5), and {} (EOC, RCP8P5)'.format(np.nanargmax(gfdl_mean_cols_qw), np.nanargmax(gfdl_cols_qw_80_4p5), np.nanargmax(gfdl_cols_qw_80_8p5)))\n",
    "print('HadGEM: Day of Peak Qw: {} (reference), {} (EOC, RCP4P5), and {} (EOC, RCP8P5)'.format(np.nanargmax(hadgem_mean_cols_qw), np.nanargmax(hadgem_cols_qw_80_4p5), np.nanargmax(hadgem_cols_qw_80_8p5)))\n",
    "#print('IPSL: Day of Peak Qw: {} (reference), {} (EOC, RCP4P5), and {} (EOC, RCP8P5)'.format(np.nanargmax(ipsl_mean_cols_qw), np.nanargmax(ipsl_cols_qw_80_4p5), np.nanargmax(ipsl_cols_qw_80_8p5)))\n",
    "print('MIROC: Day of Peak Qw: {} (reference), {} (EOC, RCP4P5), and {} (EOC, RCP8P5)'.format(np.nanargmax(miroc_mean_cols_qw), np.nanargmax(miroc_cols_qw_80_4p5), np.nanargmax(miroc_cols_qw_80_8p5)))\n",
    "print('NORESM: Day of Peak Qw: {} (reference), {} (EOC, RCP4P5), and {} (EOC, RCP8P5)'.format(np.nanargmax(noresm_mean_cols_qw), np.nanargmax(noresm_cols_qw_80_4p5), np.nanargmax(noresm_cols_qw_80_8p5)))\n",
    "\n",
    "avg_cols_qw_dop_ref = (np.nanargmax(gfdl_mean_cols_qw) + np.nanargmax(hadgem_mean_cols_qw) + np.nanargmax(miroc_mean_cols_qw) + np.nanargmax(noresm_mean_cols_qw))/4\n",
    "avg_cols_qw_dop_80_4p5 = (np.nanargmax(gfdl_cols_qw_80_4p5) + np.nanargmax(hadgem_cols_qw_80_4p5) + np.nanargmax(miroc_cols_qw_80_4p5) + np.nanargmax(noresm_cols_qw_80_4p5))/4\n",
    "avg_cols_qw_dop_80_8p5 = (np.nanargmax(gfdl_cols_qw_80_8p5) + np.nanargmax(hadgem_cols_qw_80_8p5) + np.nanargmax(miroc_cols_qw_80_8p5) + np.nanargmax(noresm_cols_qw_80_8p5))/4\n",
    "print('Average: {} (reference), {} (EOC, RCP4P5), and {} (EOC, RCP8P5)'.format(avg_cols_qw_dop_ref, avg_cols_qw_dop_80_4p5, avg_cols_qw_dop_80_8p5))"
   ]
  },
  {
   "cell_type": "markdown",
   "metadata": {},
   "source": [
    "#### 2.1b) Calculate percent increase in peak Qw by EOC"
   ]
  },
  {
   "cell_type": "code",
   "execution_count": 49,
   "metadata": {},
   "outputs": [],
   "source": [
    "# Write max change function\n",
    "def max_change(reference, EOC):\n",
    "    return (np.nanmax(EOC) - np.nanmax(reference))/np.nanmax(reference)*100"
   ]
  },
  {
   "cell_type": "code",
   "execution_count": 50,
   "metadata": {},
   "outputs": [
    {
     "name": "stdout",
     "output_type": "stream",
     "text": [
      "GFDL: Peak Qw increased -14.2 (RCP4.5) and 10.5 (RCP8.5) percent\n",
      "HadGEM: Peak Qw increased 59.6 (RCP4.5) and 92.7 (RCP8.5) percent\n",
      "MIROC: Peak Qw increased 15.1 (RCP4.5) and 49.0 (RCP8.5) percent\n",
      "NORESM: Peak Qw increased 39.6 (RCP4.5) and 46.3 (RCP8.5) percent\n",
      "Average: 25.02 (RCP4P5) and 49.64 (RCP8P5)\n"
     ]
    }
   ],
   "source": [
    "gfdl_max_change_qw_4p5 = max_change(gfdl_mean_cols_qw, gfdl_cols_qw_80_4p5)\n",
    "gfdl_max_change_qw_8p5 = max_change(gfdl_mean_cols_qw, gfdl_cols_qw_80_8p5)\n",
    "print('GFDL: Peak Qw increased {:.3} (RCP4.5) and {:.3} (RCP8.5) percent'.format(gfdl_max_change_qw_4p5, gfdl_max_change_qw_8p5))\n",
    "\n",
    "hadgem_max_change_qw_4p5 = max_change(hadgem_mean_cols_qw, hadgem_cols_qw_80_4p5)\n",
    "hadgem_max_change_qw_8p5 = max_change(hadgem_mean_cols_qw, hadgem_cols_qw_80_8p5)\n",
    "print('HadGEM: Peak Qw increased {:.3} (RCP4.5) and {:.3} (RCP8.5) percent'.format(hadgem_max_change_qw_4p5, hadgem_max_change_qw_8p5))\n",
    "\n",
    "ipsl_max_change_qw_4p5 = max_change(ipsl_mean_cols_qw, ipsl_cols_qw_80_4p5)\n",
    "ipsl_max_change_qw_8p5 = max_change(ipsl_mean_cols_qw, ipsl_cols_qw_80_8p5)\n",
    "#print('IPSL: Peak Qw increased {:.3} (RCP4.5) and {:.3} (RCP8.5) percent'.format(ipsl_max_change_qw_4p5, ipsl_max_change_qw_8p5))\n",
    "\n",
    "miroc_max_change_qw_4p5 = max_change(miroc_mean_cols_qw, miroc_cols_qw_80_4p5)\n",
    "miroc_max_change_qw_8p5 = max_change(miroc_mean_cols_qw, miroc_cols_qw_80_8p5)\n",
    "print('MIROC: Peak Qw increased {:.3} (RCP4.5) and {:.3} (RCP8.5) percent'.format(miroc_max_change_qw_4p5, miroc_max_change_qw_8p5))\n",
    "\n",
    "noresm_max_change_qw_4p5 = max_change(noresm_mean_cols_qw, noresm_cols_qw_80_4p5)\n",
    "noresm_max_change_qw_8p5 = max_change(noresm_mean_cols_qw, noresm_cols_qw_80_8p5)\n",
    "print('NORESM: Peak Qw increased {:.3} (RCP4.5) and {:.3} (RCP8.5) percent'.format(noresm_max_change_qw_4p5, noresm_max_change_qw_8p5))\n",
    "\n",
    "avg_cols_qw_max_change_80_4p5 = (gfdl_max_change_qw_4p5 + hadgem_max_change_qw_4p5 + miroc_max_change_qw_4p5 + noresm_max_change_qw_4p5)/4\n",
    "avg_cols_qw_max_change_80_8p5 = (gfdl_max_change_qw_8p5 + hadgem_max_change_qw_8p5+  miroc_max_change_qw_8p5 + noresm_max_change_qw_8p5)/4\n",
    "print('Average: {:.4} (RCP4P5) and {:.4} (RCP8P5)'.format(avg_cols_qw_max_change_80_4p5, avg_cols_qw_max_change_80_8p5))"
   ]
  },
  {
   "cell_type": "markdown",
   "metadata": {},
   "source": [
    "#### 2.1c) Calculate percent increase in minimum Qw by EOC"
   ]
  },
  {
   "cell_type": "code",
   "execution_count": 60,
   "metadata": {},
   "outputs": [],
   "source": [
    "# Write minimum change function\n",
    "def min_change(reference, EOC):\n",
    "    return (np.nanmin(EOC) - np.nanmin(reference))/np.nanmin(reference)*100"
   ]
  },
  {
   "cell_type": "code",
   "execution_count": 61,
   "metadata": {},
   "outputs": [
    {
     "name": "stdout",
     "output_type": "stream",
     "text": [
      "GFDL: Min Qw increased 10.0 (RCP4.5) and 9.99 (RCP8.5) percent\n",
      "HadGEM: Min Qw increased -0.000471 (RCP4.5) and 0.00106 (RCP8.5) percent\n",
      "MIROC: Min Qw increased 0.0127 (RCP4.5) and 0.0429 (RCP8.5) percent\n",
      "NORESM: Min Qw increased 4.98 (RCP4.5) and -0.313 (RCP8.5) percent\n",
      "Average: 3.755 (RCP4P5) and 2.43 (RCP8P5)\n"
     ]
    }
   ],
   "source": [
    "gfdl_min_change_qw_4p5 = min_change(gfdl_mean_cols_qw, gfdl_cols_qw_80_4p5)\n",
    "gfdl_min_change_qw_8p5 = min_change(gfdl_mean_cols_qw, gfdl_cols_qw_80_8p5)\n",
    "print('GFDL: Min Qw increased {:.3} (RCP4.5) and {:.3} (RCP8.5) percent'.format(gfdl_min_change_qw_4p5, gfdl_min_change_qw_8p5))\n",
    "\n",
    "hadgem_min_change_qw_4p5 = min_change(hadgem_mean_cols_qw, hadgem_cols_qw_80_4p5)\n",
    "hadgem_min_change_qw_8p5 = min_change(hadgem_mean_cols_qw, hadgem_cols_qw_80_8p5)\n",
    "print('HadGEM: Min Qw increased {:.3} (RCP4.5) and {:.3} (RCP8.5) percent'.format(hadgem_min_change_qw_4p5, hadgem_min_change_qw_8p5))\n",
    "\n",
    "ipsl_min_change_qw_4p5 = min_change(ipsl_mean_cols_qw, ipsl_cols_qw_80_4p5)\n",
    "ipsl_min_change_qw_8p5 = min_change(ipsl_mean_cols_qw, ipsl_cols_qw_80_8p5)\n",
    "#print('IPSL: Min Qw increased {:.3} (RCP4.5) and {:.3} (RCP8.5) percent'.format(ipsl_min_change_qw_4p5, ipsl_min_change_qw_8p5))\n",
    "\n",
    "miroc_min_change_qw_4p5 = min_change(miroc_mean_cols_qw, miroc_cols_qw_80_4p5)\n",
    "miroc_min_change_qw_8p5 = min_change(miroc_mean_cols_qw, miroc_cols_qw_80_8p5)\n",
    "print('MIROC: Min Qw increased {:.3} (RCP4.5) and {:.3} (RCP8.5) percent'.format(miroc_min_change_qw_4p5, miroc_min_change_qw_8p5))\n",
    "\n",
    "noresm_min_change_qw_4p5 = min_change(noresm_mean_cols_qw, noresm_cols_qw_80_4p5)\n",
    "noresm_min_change_qw_8p5 = min_change(noresm_mean_cols_qw, noresm_cols_qw_80_8p5)\n",
    "print('NORESM: Min Qw increased {:.3} (RCP4.5) and {:.3} (RCP8.5) percent'.format(noresm_min_change_qw_4p5, noresm_min_change_qw_8p5))\n",
    "\n",
    "avg_cols_qw_min_change_80_4p5 = (gfdl_min_change_qw_4p5 + hadgem_min_change_qw_4p5 + miroc_min_change_qw_4p5 + noresm_min_change_qw_4p5)/4\n",
    "avg_cols_qw_min_change_80_8p5 = (gfdl_min_change_qw_8p5 + hadgem_min_change_qw_8p5+  miroc_min_change_qw_8p5 + noresm_min_change_qw_8p5)/4\n",
    "print('Average: {:.4} (RCP4P5) and {:.4} (RCP8P5)'.format(avg_cols_qw_min_change_80_4p5, avg_cols_qw_min_change_80_8p5))"
   ]
  },
  {
   "cell_type": "markdown",
   "metadata": {},
   "source": [
    "#### 2.1d) Determine the timing shift for peak Qw by EOC"
   ]
  },
  {
   "cell_type": "code",
   "execution_count": 62,
   "metadata": {},
   "outputs": [],
   "source": [
    "# Write peak shift function\n",
    "def peak_shift(reference, EOC):\n",
    "    return np.nanargmax(reference, axis = 0) - np.nanargmax(EOC, axis = 0)"
   ]
  },
  {
   "cell_type": "code",
   "execution_count": 54,
   "metadata": {},
   "outputs": [
    {
     "name": "stdout",
     "output_type": "stream",
     "text": [
      "GFDL: Peak Qw arrived 6 (RCP4.5) and 24 (RCP8.5) days earlier in the year\n",
      "HadGEM: Peak Qw arrived -2 (RCP4.5) and 9 (RCP8.5) days earlier in the year\n",
      "MIROC: Peak Qw arrived 25 (RCP4.5) and 4 (RCP8.5) days earlier in the year\n",
      "NORESM: Peak Qw arrived 7 (RCP4.5) and 14 (RCP8.5) days earlier in the year\n",
      "Average: 9.0 (RCP4P5) and 12.8 (RCP8P5)\n"
     ]
    }
   ],
   "source": [
    "gfdl_peak_shift_qw_4p5 = peak_shift(gfdl_mean_cols_qw, gfdl_cols_qw_80_4p5)\n",
    "gfdl_peak_shift_qw_8p5 = peak_shift(gfdl_mean_cols_qw, gfdl_cols_qw_80_8p5)\n",
    "print('GFDL: Peak Qw arrived {} (RCP4.5) and {} (RCP8.5) days earlier in the year'.format(gfdl_peak_shift_qw_4p5, gfdl_peak_shift_qw_8p5))\n",
    "\n",
    "hadgem_peak_shift_qw_4p5 = peak_shift(hadgem_mean_cols_qw, hadgem_cols_qw_80_4p5)\n",
    "hadgem_peak_shift_qw_8p5 = peak_shift(hadgem_mean_cols_qw, hadgem_cols_qw_80_8p5)\n",
    "print('HadGEM: Peak Qw arrived {} (RCP4.5) and {} (RCP8.5) days earlier in the year'.format(hadgem_peak_shift_qw_4p5, hadgem_peak_shift_qw_8p5))\n",
    "\n",
    "ipsl_peak_shift_qw_4p5 = peak_shift(ipsl_mean_cols_qw, ipsl_cols_qw_80_4p5)\n",
    "ipsl_peak_shift_qw_8p5 = peak_shift(ipsl_mean_cols_qw, ipsl_cols_qw_80_8p5)\n",
    "#print('IPSL: Peak Qw arrived {} (RCP4.5) and {} (RCP8.5) days earlier in the year'.format(ipsl_peak_shift_qw_4p5, ipsl_peak_shift_qw_8p5))\n",
    "\n",
    "miroc_peak_shift_qw_4p5 = peak_shift(miroc_mean_cols_qw, miroc_cols_qw_80_4p5)\n",
    "miroc_peak_shift_qw_8p5 = peak_shift(miroc_mean_cols_qw, miroc_cols_qw_80_8p5)\n",
    "print('MIROC: Peak Qw arrived {} (RCP4.5) and {} (RCP8.5) days earlier in the year'.format(miroc_peak_shift_qw_4p5, miroc_peak_shift_qw_8p5))\n",
    "\n",
    "noresm_peak_shift_qw_4p5 = peak_shift(noresm_mean_cols_qw, noresm_cols_qw_80_4p5)\n",
    "noresm_peak_shift_qw_8p5 = peak_shift(noresm_mean_cols_qw, noresm_cols_qw_80_8p5)\n",
    "print('NORESM: Peak Qw arrived {} (RCP4.5) and {} (RCP8.5) days earlier in the year'.format(noresm_peak_shift_qw_4p5, noresm_peak_shift_qw_8p5))\n",
    "\n",
    "avg_cols_qw_shift_80_4p5 = (gfdl_peak_shift_qw_4p5 + hadgem_peak_shift_qw_4p5 + miroc_peak_shift_qw_4p5 + noresm_peak_shift_qw_4p5)/4\n",
    "avg_cols_qw_shift_80_8p5 = (gfdl_peak_shift_qw_8p5 + hadgem_peak_shift_qw_8p5 + miroc_peak_shift_qw_8p5 + noresm_peak_shift_qw_8p5)/4\n",
    "print('Average: {:.3} (RCP4P5) and {:.3} (RCP8P5)'.format(avg_cols_qw_shift_80_4p5, avg_cols_qw_shift_80_8p5))"
   ]
  },
  {
   "cell_type": "markdown",
   "metadata": {},
   "source": [
    "## Part 3: Plot how peak discharge changes over time\n",
    "\n",
    "### 3.1. Import Discharge: Observed (optional)"
   ]
  },
  {
   "cell_type": "code",
   "execution_count": 55,
   "metadata": {},
   "outputs": [],
   "source": [
    "# obs_qw = pd.DataFrame(pd.read_csv('/Users/aeckland/hydrotrend_gbmd/water_data/Ganga/Baha_Qw_1976-2006.csv'))\n",
    "# obs_qw = np.array(obs_qw['Discharge (m3/s)'])"
   ]
  },
  {
   "cell_type": "code",
   "execution_count": 56,
   "metadata": {},
   "outputs": [],
   "source": [
    "# # Reshape array (mean daily)\n",
    "\n",
    "# obs_qw_reshape_qw = obs_qw.reshape(27, 365)\n",
    "# obs_mean_cols_qw = np.mean(obs_qw_reshape_qw, axis = 0)\n",
    "\n",
    "# # Reshape array (mean annual)\n",
    "\n",
    "# obs_qw_reshape_qw = obs_qw.reshape(27, 365)\n",
    "# obs_mean_rows_qw = np.mean(obs_qw_reshape_qw, axis = 1)"
   ]
  },
  {
   "cell_type": "markdown",
   "metadata": {},
   "source": [
    "### 3.2. Plot mean daily Qw over time"
   ]
  },
  {
   "cell_type": "code",
   "execution_count": 64,
   "metadata": {},
   "outputs": [
    {
     "data": {
      "image/png": "[encoded data removed]",
      "text/plain": [
       "<Figure size 576x432 with 4 Axes>"
      ]
     },
     "metadata": {
      "needs_background": "light"
     },
     "output_type": "display_data"
    }
   ],
   "source": [
    "day_of_year = np.arange(1,366,1)\n",
    "\n",
    "fig, axs = plt.subplots(2,2, sharex = True, sharey = True, figsize = (8,6))\n",
    "axs[0,0].plot(day_of_year, gfdl_mean_cols_qw, color = 'tab:blue', linestyle = 'solid', label = '2000, Reference')\n",
    "axs[0,0].plot(day_of_year, gfdl_cols_qw_80_4p5, color = 'black', linestyle = 'dashed', label = '2080, RCP4P5')\n",
    "axs[0,0].plot(day_of_year, gfdl_cols_qw_80_8p5, color = 'grey', linestyle = 'dashdot', label = '2080, RCP8P5')\n",
    "axs[0,0].set_title('GFDL-ESM2M', size = 14)\n",
    "axs[0,1].plot(day_of_year, hadgem_mean_cols_qw, color = 'tab:blue', linestyle = 'solid')\n",
    "axs[0,1].plot(day_of_year, hadgem_cols_qw_80_4p5, color = 'black', linestyle = 'dashed')\n",
    "axs[0,1].plot(day_of_year, hadgem_cols_qw_80_8p5, color = 'grey', linestyle = 'dashdot')\n",
    "axs[0,1].set_title('HadGEM2', size = 14)\n",
    "axs[1,0].plot(day_of_year, miroc_mean_cols_qw, color = 'tab:blue', linestyle = 'solid')\n",
    "axs[1,0].plot(day_of_year, miroc_cols_qw_80_4p5, color = 'black', linestyle = 'dashed')\n",
    "axs[1,0].plot(day_of_year, miroc_cols_qw_80_8p5, color = 'grey', linestyle = 'dashdot')\n",
    "axs[1,0].set_title('MIROC-ESM-CHEM', size = 14)\n",
    "axs[1,1].plot(day_of_year, noresm_mean_cols_qw, color = 'tab:blue', linestyle = 'solid')\n",
    "axs[1,1].plot(day_of_year, noresm_cols_qw_80_4p5, color = 'black', linestyle = 'dashed')\n",
    "axs[1,1].plot(day_of_year, noresm_cols_qw_80_8p5, color = 'grey', linestyle = 'dashdot')\n",
    "axs[1,1].set_title('NORESM-M', size = 14)\n",
    "plt.tight_layout()\n",
    "axs[0,0].legend(loc = 'upper left')\n",
    "axs[0,0].set_ylim([0,120000])\n",
    "axs[0,0].set_xlim([0,365])\n",
    "fig.text(0.52, -0.02, 'Day of Year', ha='center', size = 14)\n",
    "fig.text(-.02, 0.5, 'Water Discharge ($m^3/s$)', va='center', rotation='vertical', size = 14)\n",
    "plt.savefig('../../figures/v2/projections/ganga_qw_peakqw_thrutime.png', dpi = 300)\n",
    "plt.show()"
   ]
  },
  {
   "cell_type": "markdown",
   "metadata": {},
   "source": [
    "### 3.3. Plot mean daily Qs over time"
   ]
  },
  {
   "cell_type": "code",
   "execution_count": 66,
   "metadata": {},
   "outputs": [
    {
     "data": {
      "image/png": "[encoded data removed]",
      "text/plain": [
       "<Figure size 576x432 with 4 Axes>"
      ]
     },
     "metadata": {
      "needs_background": "light"
     },
     "output_type": "display_data"
    }
   ],
   "source": [
    "day_of_year = np.arange(1,366,1)\n",
    "\n",
    "fig, axs = plt.subplots(2,2, sharex = True, sharey = True, figsize = (8,6))\n",
    "axs[0,0].plot(day_of_year, gfdl_mean_cols_qs, color = 'tab:blue', linestyle = 'solid', label = '2000, Reference')\n",
    "axs[0,0].plot(day_of_year, gfdl_cols_qs_80_4p5, color = 'black', linestyle = 'dashed', label = '2080, RCP4P5')\n",
    "axs[0,0].plot(day_of_year, gfdl_cols_qs_80_8p5, color = 'grey', linestyle = 'dashdot', label = '2080, RCP8P5')\n",
    "axs[0,0].set_title('GFDL-ESM2M', size = 14)\n",
    "axs[0,1].plot(day_of_year, hadgem_mean_cols_qs, color = 'tab:blue', linestyle = 'solid')\n",
    "axs[0,1].plot(day_of_year, hadgem_cols_qs_80_4p5, color = 'black', linestyle = 'dashed')\n",
    "axs[0,1].plot(day_of_year, hadgem_cols_qs_80_8p5, color = 'grey', linestyle = 'dashdot')\n",
    "axs[0,1].set_title('HadGEM2', size = 14)\n",
    "axs[1,0].plot(day_of_year, miroc_mean_cols_qs, color = 'tab:blue', linestyle = 'solid')\n",
    "axs[1,0].plot(day_of_year, miroc_cols_qs_80_4p5, color = 'black', linestyle = 'dashed')\n",
    "axs[1,0].plot(day_of_year, miroc_cols_qs_80_8p5, color = 'grey', linestyle = 'dashdot')\n",
    "axs[1,0].set_title('MIROC-ESM-CHEM', size = 14)\n",
    "axs[1,1].plot(day_of_year, noresm_mean_cols_qs, color = 'tab:blue', linestyle = 'solid')\n",
    "axs[1,1].plot(day_of_year, noresm_cols_qs_80_4p5, color = 'black', linestyle = 'dashed')\n",
    "axs[1,1].plot(day_of_year, noresm_cols_qs_80_8p5, color = 'grey', linestyle = 'dashdot')\n",
    "axs[1,1].set_title('NORESM-M', size = 14)\n",
    "plt.tight_layout()\n",
    "axs[0,0].legend(loc = 'upper left')\n",
    "fig.text(0.52, -0.02, 'Day of Year', ha='center', size = 14)\n",
    "fig.text(-.02, 0.5, 'Sediment Discharge ($kg/s$)', va='center', rotation='vertical', size = 14)\n",
    "plt.savefig('../../figures/v2/projections/ganga_qw_peakqs_thrutime.png', dpi = 300)\n",
    "plt.show()"
   ]
  },
  {
   "cell_type": "code",
   "execution_count": null,
   "metadata": {},
   "outputs": [],
   "source": []
  }
 ],
 "metadata": {
  "kernelspec": {
   "display_name": "Python 3",
   "language": "python",
   "name": "python3"
  },
  "language_info": {
   "codemirror_mode": {
    "name": "ipython",
    "version": 3
   },
   "file_extension": ".py",
   "mimetype": "text/x-python",
   "name": "python",
   "nbconvert_exporter": "python",
   "pygments_lexer": "ipython3",
   "version": "3.7.7"
  }
 },
 "nbformat": 4,
 "nbformat_minor": 4
}
