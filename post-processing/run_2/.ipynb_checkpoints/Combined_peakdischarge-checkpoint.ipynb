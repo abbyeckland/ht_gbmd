{
 "cells": [
  {
   "cell_type": "code",
   "execution_count": 1,
   "metadata": {},
   "outputs": [],
   "source": [
    "import pandas as pd\n",
    "import matplotlib.pyplot as plt\n",
    "import numpy as np\n",
    "from numpy import reshape\n",
    "import pylab"
   ]
  },
  {
   "cell_type": "markdown",
   "metadata": {},
   "source": [
    "The purpose of this notebook is to evaluate how the peak discharge changes throughout the 21st century in the Ganges and Brahmaputra Rivers COMBINED."
   ]
  },
  {
   "cell_type": "markdown",
   "metadata": {},
   "source": [
    "## Brahmaputra\n",
    "\n",
    "### Import water data from each time period\n",
    "\n",
    "#### 1976-2006"
   ]
  },
  {
   "cell_type": "code",
   "execution_count": 2,
   "metadata": {},
   "outputs": [],
   "source": [
    "gfdl_qw_ref_br = np.genfromtxt('/Users/aeckland/hydrotrend_gbmd/setup/run_2/Brahmaputra/reference/GFDL-ESM2M/Hydrotrend/HYDROASCII.Q', skip_header = True)\n",
    "hadgem_qw_ref_br = np.genfromtxt('/Users/aeckland/hydrotrend_gbmd/setup/run_2/Brahmaputra/reference/HadGEM2/Hydrotrend/HYDROASCII.Q', skip_header = True)\n",
    "ipsl_qw_ref_br = np.genfromtxt('/Users/aeckland/hydrotrend_gbmd/setup/run_2/Brahmaputra/reference/IPSL_CM5A/Hydrotrend/HYDROASCII.Q', skip_header = True)\n",
    "miroc_qw_ref_br = np.genfromtxt('/Users/aeckland/hydrotrend_gbmd/setup/run_2/Brahmaputra/reference/MIROC-ESM-CHEM/Hydrotrend/HYDROASCII.Q', skip_header = True)\n",
    "noresm_qw_ref_br = np.genfromtxt('/Users/aeckland/hydrotrend_gbmd/setup/run_2/Brahmaputra/reference/NORESM-M/Hydrotrend/HYDROASCII.Q', skip_header = True)   "
   ]
  },
  {
   "cell_type": "code",
   "execution_count": 3,
   "metadata": {},
   "outputs": [],
   "source": [
    "gfdl_qs_ref_br = np.genfromtxt('/Users/aeckland/hydrotrend_gbmd/setup/run_2/Ganga/reference/GFDL-ESM2M/Hydrotrend/HYDROASCII.QS', skip_header = True)\n",
    "hadgem_qs_ref_br = np.genfromtxt('/Users/aeckland/hydrotrend_gbmd/setup/run_2/Ganga/reference/HadGEM2/Hydrotrend/HYDROASCII.QS', skip_header = True)\n",
    "ipsl_qs_ref_br = np.genfromtxt('/Users/aeckland/hydrotrend_gbmd/setup/run_2/Ganga/reference/IPSL_CM5A/Hydrotrend/HYDROASCII.QS', skip_header = True)\n",
    "miroc_qs_ref_br = np.genfromtxt('/Users/aeckland/hydrotrend_gbmd/setup/run_2/Ganga/reference/MIROC-ESM-CHEM/Hydrotrend/HYDROASCII.QS', skip_header = True)\n",
    "noresm_qs_ref_br = np.genfromtxt('/Users/aeckland/hydrotrend_gbmd/setup/run_2/Ganga/reference/NORESM-M/Hydrotrend/HYDROASCII.QS', skip_header = True)   "
   ]
  },
  {
   "cell_type": "markdown",
   "metadata": {},
   "source": [
    "### Reshape arrays: Mean Daily Discharge"
   ]
  },
  {
   "cell_type": "code",
   "execution_count": 4,
   "metadata": {},
   "outputs": [],
   "source": [
    "gfdl_reshape_br = gfdl_qw_ref_br[0:-1].reshape(27, 365)\n",
    "gfdl_mean_cols_qw_br = np.mean(gfdl_reshape_br, axis = 0)\n",
    "\n",
    "hadgem_reshape_br = hadgem_qw_ref_br[0:-1].reshape(27, 365)\n",
    "hadgem_mean_cols_qw_br = np.mean(hadgem_reshape_br, axis = 0)\n",
    "\n",
    "ipsl_reshape_br = ipsl_qw_ref_br[0:-1].reshape(27, 365)\n",
    "ipsl_mean_cols_qw_br = np.mean(ipsl_reshape_br, axis = 0)\n",
    "\n",
    "miroc_reshape_br = miroc_qw_ref_br[0:-1].reshape(27, 365)\n",
    "miroc_mean_cols_qw_br = np.mean(miroc_reshape_br, axis = 0)\n",
    "\n",
    "noresm_reshape_br = noresm_qw_ref_br[0:-1].reshape(27, 365)\n",
    "noresm_mean_cols_qw_br = np.mean(noresm_reshape_br, axis = 0)"
   ]
  },
  {
   "cell_type": "markdown",
   "metadata": {},
   "source": [
    "### Reshape arrays: Mean Daily Sediment Discharge"
   ]
  },
  {
   "cell_type": "code",
   "execution_count": 5,
   "metadata": {},
   "outputs": [],
   "source": [
    "gfdl_reshape_qs_br = gfdl_qs_ref_br[0:-1].reshape(30, 365)\n",
    "gfdl_mean_cols_qs_br = np.mean(gfdl_reshape_qs_br, axis = 0)\n",
    "\n",
    "hadgem_reshape_qs_br = hadgem_qs_ref_br[0:-1].reshape(30, 365)\n",
    "hadgem_mean_cols_qs_br = np.mean(hadgem_reshape_qs_br, axis = 0)\n",
    "\n",
    "ipsl_reshape_qs_br = ipsl_qs_ref_br[0:-1].reshape(30, 365)\n",
    "ipsl_mean_cols_qs_br = np.mean(ipsl_reshape_qs_br, axis = 0)\n",
    "\n",
    "miroc_reshape_qs_br = miroc_qs_ref_br[0:-1].reshape(30, 365)\n",
    "miroc_mean_cols_qs_br = np.mean(miroc_reshape_qs_br, axis = 0)\n",
    "\n",
    "noresm_reshape_qs_br = noresm_qs_ref_br[0:-1].reshape(30, 365)\n",
    "noresm_mean_cols_qs_br = np.mean(noresm_reshape_qs_br, axis = 0)"
   ]
  },
  {
   "cell_type": "markdown",
   "metadata": {},
   "source": [
    "### Reshape arrays: Mean Annual Discharge"
   ]
  },
  {
   "cell_type": "code",
   "execution_count": 6,
   "metadata": {},
   "outputs": [],
   "source": [
    "gfdl_reshape_qw_br = gfdl_qw_ref_br[0:-1].reshape(27, 365)\n",
    "gfdl_mean_rows_qw_br = np.mean(gfdl_reshape_qw_br, axis = 1)\n",
    "\n",
    "hadgem_reshape_qw_br = hadgem_qw_ref_br[0:-1].reshape(27, 365)\n",
    "hadgem_mean_rows_qw_br = np.mean(hadgem_reshape_qw_br, axis = 1)\n",
    "\n",
    "ipsl_reshape_qw_br = ipsl_qw_ref_br[0:-1].reshape(27, 365)\n",
    "ipsl_mean_rows_qw_br = np.mean(ipsl_reshape_qw_br, axis = 1)\n",
    "\n",
    "miroc_reshape_qw_br = miroc_qw_ref_br[0:-1].reshape(27, 365)\n",
    "miroc_mean_rows_qw_br = np.mean(miroc_reshape_qw_br, axis = 1)\n",
    "\n",
    "noresm_reshape_qw_br = noresm_qw_ref_br[0:-1].reshape(27, 365)\n",
    "noresm_mean_rows_qw_br = np.mean(noresm_reshape_qw_br, axis = 1)"
   ]
  },
  {
   "cell_type": "markdown",
   "metadata": {},
   "source": [
    "### Reshape arrays: Mean Annual Sediment Discharge"
   ]
  },
  {
   "cell_type": "code",
   "execution_count": 7,
   "metadata": {},
   "outputs": [],
   "source": [
    "gfdl_reshape_qs_br = gfdl_qs_ref_br[0:-1].reshape(30, 365)\n",
    "gfdl_mean_rows_qs_br = np.mean(gfdl_reshape_qs_br, axis = 1)\n",
    "\n",
    "hadgem_reshape_qs_br = hadgem_qs_ref_br[0:-1].reshape(30, 365)\n",
    "hadgem_mean_rows_qs_br = np.mean(hadgem_reshape_qs_br, axis = 1)\n",
    "\n",
    "ipsl_reshape_qs_br = ipsl_qs_ref_br[0:-1].reshape(30, 365)\n",
    "ipsl_mean_rows_qs_br = np.mean(ipsl_reshape_qs_br, axis = 1)\n",
    "\n",
    "miroc_reshape_qs_br = miroc_qs_ref_br[0:-1].reshape(30, 365)\n",
    "miroc_mean_rows_qs_br = np.mean(miroc_reshape_qs_br, axis = 1)\n",
    "\n",
    "noresm_reshape_qs_br = noresm_qs_ref_br[0:-1].reshape(30, 365)\n",
    "noresm_mean_rows_qs_br = np.mean(noresm_reshape_qs_br, axis = 1)"
   ]
  },
  {
   "cell_type": "markdown",
   "metadata": {},
   "source": [
    "Let's write a function to reshape the data for the remaining time periods"
   ]
  },
  {
   "cell_type": "code",
   "execution_count": 8,
   "metadata": {},
   "outputs": [],
   "source": [
    "def reshape_cols(record):\n",
    "    return np.mean(record[0:-1].reshape(30, 365), axis = 0)\n",
    "\n",
    "def reshape_rows(record):\n",
    "    return np.mean(record[0:-1].reshape(30,365), axis = 1)"
   ]
  },
  {
   "cell_type": "markdown",
   "metadata": {},
   "source": [
    "#### 2006-2036"
   ]
  },
  {
   "cell_type": "code",
   "execution_count": 9,
   "metadata": {},
   "outputs": [],
   "source": [
    "gfdl_qw_20_4p5_br = np.genfromtxt('/Users/aeckland/hydrotrend_gbmd/setup/run_2/Brahmaputra/rcp4p5/GFDL-ESM2M/2020/Hydrotrend/HYDROASCII.Q', skip_header = True)\n",
    "hadgem_qw_20_4p5_br = np.genfromtxt('/Users/aeckland/hydrotrend_gbmd/setup/run_2/Brahmaputra/rcp4p5/HadGEM2/2020/Hydrotrend/HYDROASCII.Q', skip_header = True)\n",
    "ipsl_qw_20_4p5_br = np.genfromtxt('/Users/aeckland/hydrotrend_gbmd/setup/run_2/Brahmaputra/rcp4p5/IPSL_CM5A/2020/Hydrotrend/HYDROASCII.Q', skip_header = True)\n",
    "miroc_qw_20_4p5_br = np.genfromtxt('/Users/aeckland/hydrotrend_gbmd/setup/run_2/Brahmaputra/rcp4p5/MIROC-ESM-CHEM/2020/Hydrotrend/HYDROASCII.Q', skip_header = True)\n",
    "noresm_qw_20_4p5_br = np.genfromtxt('/Users/aeckland/hydrotrend_gbmd/setup/run_2/Brahmaputra/rcp4p5/NORESM-M/2020/Hydrotrend/HYDROASCII.Q', skip_header = True)  \n",
    "\n",
    "gfdl_qw_20_8p5_br = np.genfromtxt('/Users/aeckland/hydrotrend_gbmd/setup/run_2/Brahmaputra/rcp8p5/GFDL-ESM2M/2020/Hydrotrend/HYDROASCII.Q', skip_header = True)\n",
    "hadgem_qw_20_8p5_br = np.genfromtxt('/Users/aeckland/hydrotrend_gbmd/setup/run_2/Brahmaputra/rcp8p5/HadGEM2/2020/Hydrotrend/HYDROASCII.Q', skip_header = True)\n",
    "ipsl_qw_20_8p5_br = np.genfromtxt('/Users/aeckland/hydrotrend_gbmd/setup/run_2/Brahmaputra/rcp8p5/IPSL_CM5A/2020/Hydrotrend/HYDROASCII.Q', skip_header = True)\n",
    "miroc_qw_20_8p5_br = np.genfromtxt('/Users/aeckland/hydrotrend_gbmd/setup/run_2/Brahmaputra/rcp8p5/MIROC-ESM-CHEM/2020/Hydrotrend/HYDROASCII.Q', skip_header = True)\n",
    "noresm_qw_20_8p5_br = np.genfromtxt('/Users/aeckland/hydrotrend_gbmd/setup/run_2/Brahmaputra/rcp8p5/NORESM-M/2020/Hydrotrend/HYDROASCII.Q', skip_header = True)   "
   ]
  },
  {
   "cell_type": "code",
   "execution_count": 10,
   "metadata": {},
   "outputs": [],
   "source": [
    "gfdl_qs_20_4p5_br = np.genfromtxt('/Users/aeckland/hydrotrend_gbmd/setup/run_2/Ganga/rcp4p5/GFDL-ESM2M/2020/Hydrotrend/HYDROASCII.QS', skip_header = True)\n",
    "hadgem_qs_20_4p5_br = np.genfromtxt('/Users/aeckland/hydrotrend_gbmd/setup/run_2/Ganga/rcp4p5/HadGEM2/2020/Hydrotrend/HYDROASCII.QS', skip_header = True)\n",
    "ipsl_qs_20_4p5_br = np.genfromtxt('/Users/aeckland/hydrotrend_gbmd/setup/run_2/Ganga/rcp4p5/IPSL_CM5A/2020/Hydrotrend/HYDROASCII.QS', skip_header = True)\n",
    "miroc_qs_20_4p5_br = np.genfromtxt('/Users/aeckland/hydrotrend_gbmd/setup/run_2/Ganga/rcp4p5/MIROC-ESM-CHEM/2020/Hydrotrend/HYDROASCII.QS', skip_header = True)\n",
    "noresm_qs_20_4p5_br = np.genfromtxt('/Users/aeckland/hydrotrend_gbmd/setup/run_2/Ganga/rcp4p5/NORESM-M/2020/Hydrotrend/HYDROASCII.QS', skip_header = True)  \n",
    "\n",
    "gfdl_qs_20_8p5_br = np.genfromtxt('/Users/aeckland/hydrotrend_gbmd/setup/run_2/Ganga/rcp8p5/GFDL-ESM2M/2020/Hydrotrend/HYDROASCII.QS', skip_header = True)\n",
    "hadgem_qs_20_8p5_br = np.genfromtxt('/Users/aeckland/hydrotrend_gbmd/setup/run_2/Ganga/rcp8p5/HadGEM2/2020/Hydrotrend/HYDROASCII.QS', skip_header = True)\n",
    "ipsl_qs_20_8p5_br = np.genfromtxt('/Users/aeckland/hydrotrend_gbmd/setup/run_2/Ganga/rcp8p5/IPSL_CM5A/2020/Hydrotrend/HYDROASCII.QS', skip_header = True)\n",
    "miroc_qs_20_8p5_br = np.genfromtxt('/Users/aeckland/hydrotrend_gbmd/setup/run_2/Ganga/rcp8p5/MIROC-ESM-CHEM/2020/Hydrotrend/HYDROASCII.QS', skip_header = True)\n",
    "noresm_qs_20_8p5_br = np.genfromtxt('/Users/aeckland/hydrotrend_gbmd/setup/run_2/Ganga/rcp8p5/NORESM-M/2020/Hydrotrend/HYDROASCII.QS', skip_header = True)   "
   ]
  },
  {
   "cell_type": "markdown",
   "metadata": {},
   "source": [
    "#### 2026-2056"
   ]
  },
  {
   "cell_type": "code",
   "execution_count": 11,
   "metadata": {},
   "outputs": [],
   "source": [
    "gfdl_qw_40_4p5_br = np.genfromtxt('/Users/aeckland/hydrotrend_gbmd/setup/run_2/Brahmaputra/rcp4p5/GFDL-ESM2M/2040/Hydrotrend/HYDROASCII.Q', skip_header = True)\n",
    "hadgem_qw_40_4p5_br = np.genfromtxt('/Users/aeckland/hydrotrend_gbmd/setup/run_2/Brahmaputra/rcp4p5/HadGEM2/2040/Hydrotrend/HYDROASCII.Q', skip_header = True)\n",
    "ipsl_qw_40_4p5_br = np.genfromtxt('/Users/aeckland/hydrotrend_gbmd/setup/run_2/Brahmaputra/rcp4p5/IPSL_CM5A/2040/Hydrotrend/HYDROASCII.Q', skip_header = True)\n",
    "miroc_qw_40_4p5_br = np.genfromtxt('/Users/aeckland/hydrotrend_gbmd/setup/run_2/Brahmaputra/rcp4p5/MIROC-ESM-CHEM/2040/Hydrotrend/HYDROASCII.Q', skip_header = True)\n",
    "noresm_qw_40_4p5_br = np.genfromtxt('/Users/aeckland/hydrotrend_gbmd/setup/run_2/Brahmaputra/rcp4p5/NORESM-M/2040/Hydrotrend/HYDROASCII.Q', skip_header = True)  \n",
    "\n",
    "gfdl_qw_40_8p5_br = np.genfromtxt('/Users/aeckland/hydrotrend_gbmd/setup/run_2/Brahmaputra/rcp8p5/GFDL-ESM2M/2040/Hydrotrend/HYDROASCII.Q', skip_header = True)\n",
    "hadgem_qw_40_8p5_br = np.genfromtxt('/Users/aeckland/hydrotrend_gbmd/setup/run_2/Brahmaputra/rcp8p5/HadGEM2/2040/Hydrotrend/HYDROASCII.Q', skip_header = True)\n",
    "ipsl_qw_40_8p5_br = np.genfromtxt('/Users/aeckland/hydrotrend_gbmd/setup/run_2/Brahmaputra/rcp8p5/IPSL_CM5A/2040/Hydrotrend/HYDROASCII.Q', skip_header = True)\n",
    "miroc_qw_40_8p5_br = np.genfromtxt('/Users/aeckland/hydrotrend_gbmd/setup/run_2/Brahmaputra/rcp8p5/MIROC-ESM-CHEM/2040/Hydrotrend/HYDROASCII.Q', skip_header = True)\n",
    "noresm_qw_40_8p5_br = np.genfromtxt('/Users/aeckland/hydrotrend_gbmd/setup/run_2/Brahmaputra/rcp8p5/NORESM-M/2040/Hydrotrend/HYDROASCII.Q', skip_header = True)   "
   ]
  },
  {
   "cell_type": "code",
   "execution_count": 12,
   "metadata": {},
   "outputs": [],
   "source": [
    "gfdl_qs_40_4p5_br = np.genfromtxt('/Users/aeckland/hydrotrend_gbmd/setup/run_2/Ganga/rcp4p5/GFDL-ESM2M/2040/Hydrotrend/HYDROASCII.QS', skip_header = True)\n",
    "hadgem_qs_40_4p5_br = np.genfromtxt('/Users/aeckland/hydrotrend_gbmd/setup/run_2/Ganga/rcp4p5/HadGEM2/2040/Hydrotrend/HYDROASCII.QS', skip_header = True)\n",
    "ipsl_qs_40_4p5_br = np.genfromtxt('/Users/aeckland/hydrotrend_gbmd/setup/run_2/Ganga/rcp4p5/IPSL_CM5A/2040/Hydrotrend/HYDROASCII.QS', skip_header = True)\n",
    "miroc_qs_40_4p5_br = np.genfromtxt('/Users/aeckland/hydrotrend_gbmd/setup/run_2/Ganga/rcp4p5/MIROC-ESM-CHEM/2040/Hydrotrend/HYDROASCII.QS', skip_header = True)\n",
    "noresm_qs_40_4p5_br = np.genfromtxt('/Users/aeckland/hydrotrend_gbmd/setup/run_2/Ganga/rcp4p5/NORESM-M/2040/Hydrotrend/HYDROASCII.QS', skip_header = True)  \n",
    "\n",
    "gfdl_qs_40_8p5_br = np.genfromtxt('/Users/aeckland/hydrotrend_gbmd/setup/run_2/Ganga/rcp8p5/GFDL-ESM2M/2040/Hydrotrend/HYDROASCII.QS', skip_header = True)\n",
    "hadgem_qs_40_8p5_br = np.genfromtxt('/Users/aeckland/hydrotrend_gbmd/setup/run_2/Ganga/rcp8p5/HadGEM2/2040/Hydrotrend/HYDROASCII.QS', skip_header = True)\n",
    "ipsl_qs_40_8p5_br = np.genfromtxt('/Users/aeckland/hydrotrend_gbmd/setup/run_2/Ganga/rcp8p5/IPSL_CM5A/2040/Hydrotrend/HYDROASCII.QS', skip_header = True)\n",
    "miroc_qs_40_8p5_br = np.genfromtxt('/Users/aeckland/hydrotrend_gbmd/setup/run_2/Ganga/rcp8p5/MIROC-ESM-CHEM/2040/Hydrotrend/HYDROASCII.QS', skip_header = True)\n",
    "noresm_qs_40_8p5_br = np.genfromtxt('/Users/aeckland/hydrotrend_gbmd/setup/run_2/Ganga/rcp8p5/NORESM-M/2040/Hydrotrend/HYDROASCII.QS', skip_header = True)   "
   ]
  },
  {
   "cell_type": "markdown",
   "metadata": {},
   "source": [
    "#### 2046-2076"
   ]
  },
  {
   "cell_type": "code",
   "execution_count": 13,
   "metadata": {},
   "outputs": [],
   "source": [
    "gfdl_qw_60_4p5_br = np.genfromtxt('/Users/aeckland/hydrotrend_gbmd/setup/run_2/Brahmaputra/rcp4p5/GFDL-ESM2M/2060/Hydrotrend/HYDROASCII.Q', skip_header = True)\n",
    "hadgem_qw_60_4p5_br = np.genfromtxt('/Users/aeckland/hydrotrend_gbmd/setup/run_2/Brahmaputra/rcp4p5/HadGEM2/2060/Hydrotrend/HYDROASCII.Q', skip_header = True)\n",
    "ipsl_qw_60_4p5_br = np.genfromtxt('/Users/aeckland/hydrotrend_gbmd/setup/run_2/Brahmaputra/rcp4p5/IPSL_CM5A/2060/Hydrotrend/HYDROASCII.Q', skip_header = True)\n",
    "miroc_qw_60_4p5_br = np.genfromtxt('/Users/aeckland/hydrotrend_gbmd/setup/run_2/Brahmaputra/rcp4p5/MIROC-ESM-CHEM/2060/Hydrotrend/HYDROASCII.Q', skip_header = True)\n",
    "noresm_qw_60_4p5_br = np.genfromtxt('/Users/aeckland/hydrotrend_gbmd/setup/run_2/Brahmaputra/rcp4p5/NORESM-M/2060/Hydrotrend/HYDROASCII.Q', skip_header = True)\n",
    "\n",
    "gfdl_qw_60_8p5_br = np.genfromtxt('/Users/aeckland/hydrotrend_gbmd/setup/run_2/Brahmaputra/rcp8p5/GFDL-ESM2M/2060/Hydrotrend/HYDROASCII.Q', skip_header = True)\n",
    "hadgem_qw_60_8p5_br = np.genfromtxt('/Users/aeckland/hydrotrend_gbmd/setup/run_2/Brahmaputra/rcp8p5/HadGEM2/2060/Hydrotrend/HYDROASCII.Q', skip_header = True)\n",
    "ipsl_qw_60_8p5_br = np.genfromtxt('/Users/aeckland/hydrotrend_gbmd/setup/run_2/Brahmaputra/rcp8p5/IPSL_CM5A/2060/Hydrotrend/HYDROASCII.Q', skip_header = True)\n",
    "miroc_qw_60_8p5_br = np.genfromtxt('/Users/aeckland/hydrotrend_gbmd/setup/run_2/Brahmaputra/rcp8p5/MIROC-ESM-CHEM/2060/Hydrotrend/HYDROASCII.Q', skip_header = True)\n",
    "noresm_qw_60_8p5_br = np.genfromtxt('/Users/aeckland/hydrotrend_gbmd/setup/run_2/Brahmaputra/rcp8p5/NORESM-M/2060/Hydrotrend/HYDROASCII.Q', skip_header = True)   "
   ]
  },
  {
   "cell_type": "code",
   "execution_count": 14,
   "metadata": {},
   "outputs": [],
   "source": [
    "gfdl_qs_60_4p5_br = np.genfromtxt('/Users/aeckland/hydrotrend_gbmd/setup/run_2/Ganga/rcp4p5/GFDL-ESM2M/2060/Hydrotrend/HYDROASCII.QS', skip_header = True)\n",
    "hadgem_qs_60_4p5_br = np.genfromtxt('/Users/aeckland/hydrotrend_gbmd/setup/run_2/Ganga/rcp4p5/HadGEM2/2060/Hydrotrend/HYDROASCII.QS', skip_header = True)\n",
    "ipsl_qs_60_4p5_br = np.genfromtxt('/Users/aeckland/hydrotrend_gbmd/setup/run_2/Ganga/rcp4p5/IPSL_CM5A/2060/Hydrotrend/HYDROASCII.QS', skip_header = True)\n",
    "miroc_qs_60_4p5_br = np.genfromtxt('/Users/aeckland/hydrotrend_gbmd/setup/run_2/Ganga/rcp4p5/MIROC-ESM-CHEM/2060/Hydrotrend/HYDROASCII.QS', skip_header = True)\n",
    "noresm_qs_60_4p5_br = np.genfromtxt('/Users/aeckland/hydrotrend_gbmd/setup/run_2/Ganga/rcp4p5/NORESM-M/2060/Hydrotrend/HYDROASCII.QS', skip_header = True)\n",
    "\n",
    "gfdl_qs_60_8p5_br = np.genfromtxt('/Users/aeckland/hydrotrend_gbmd/setup/run_2/Ganga/rcp8p5/GFDL-ESM2M/2060/Hydrotrend/HYDROASCII.QS', skip_header = True)\n",
    "hadgem_qs_60_8p5_br = np.genfromtxt('/Users/aeckland/hydrotrend_gbmd/setup/run_2/Ganga/rcp8p5/HadGEM2/2060/Hydrotrend/HYDROASCII.QS', skip_header = True)\n",
    "ipsl_qs_60_8p5_br = np.genfromtxt('/Users/aeckland/hydrotrend_gbmd/setup/run_2/Ganga/rcp8p5/IPSL_CM5A/2060/Hydrotrend/HYDROASCII.QS', skip_header = True)\n",
    "miroc_qs_60_8p5_br = np.genfromtxt('/Users/aeckland/hydrotrend_gbmd/setup/run_2/Ganga/rcp8p5/MIROC-ESM-CHEM/2060/Hydrotrend/HYDROASCII.QS', skip_header = True)\n",
    "noresm_qs_60_8p5_br = np.genfromtxt('/Users/aeckland/hydrotrend_gbmd/setup/run_2/Ganga/rcp8p5/NORESM-M/2060/Hydrotrend/HYDROASCII.QS', skip_header = True)   "
   ]
  },
  {
   "cell_type": "markdown",
   "metadata": {},
   "source": [
    "#### 2066 - 2096"
   ]
  },
  {
   "cell_type": "code",
   "execution_count": 15,
   "metadata": {},
   "outputs": [],
   "source": [
    "gfdl_qw_80_4p5_br = np.genfromtxt('/Users/aeckland/hydrotrend_gbmd/setup/run_2/Brahmaputra/rcp4p5/GFDL-ESM2M/2080/Hydrotrend/HYDROASCII.Q', skip_header = True)\n",
    "hadgem_qw_80_4p5_br = np.genfromtxt('/Users/aeckland/hydrotrend_gbmd/setup/run_2/Brahmaputra/rcp4p5/HadGEM2/2080/Hydrotrend/HYDROASCII.Q', skip_header = True)\n",
    "ipsl_qw_80_4p5_br = np.genfromtxt('/Users/aeckland/hydrotrend_gbmd/setup/run_2/Brahmaputra/rcp4p5/IPSL_CM5A/2080/Hydrotrend/HYDROASCII.Q', skip_header = True)\n",
    "miroc_qw_80_4p5_br = np.genfromtxt('/Users/aeckland/hydrotrend_gbmd/setup/run_2/Brahmaputra/rcp4p5/MIROC-ESM-CHEM/2080/Hydrotrend/HYDROASCII.Q', skip_header = True)\n",
    "noresm_qw_80_4p5_br = np.genfromtxt('/Users/aeckland/hydrotrend_gbmd/setup/run_2/Brahmaputra/rcp4p5/NORESM-M/2080/Hydrotrend/HYDROASCII.Q', skip_header = True) \n",
    "\n",
    "gfdl_qw_80_8p5_br = np.genfromtxt('/Users/aeckland/hydrotrend_gbmd/setup/run_2/Brahmaputra/rcp8p5/GFDL-ESM2M/2080/Hydrotrend/HYDROASCII.Q', skip_header = True)\n",
    "hadgem_qw_80_8p5_br = np.genfromtxt('/Users/aeckland/hydrotrend_gbmd/setup/run_2/Brahmaputra/rcp8p5/HadGEM2/2080/Hydrotrend/HYDROASCII.Q', skip_header = True)\n",
    "ipsl_qw_80_8p5_br = np.genfromtxt('/Users/aeckland/hydrotrend_gbmd/setup/run_2/Brahmaputra/rcp8p5/IPSL_CM5A/2080/Hydrotrend/HYDROASCII.Q', skip_header = True)\n",
    "miroc_qw_80_8p5_br = np.genfromtxt('/Users/aeckland/hydrotrend_gbmd/setup/run_2/Brahmaputra/rcp8p5/MIROC-ESM-CHEM/2080/Hydrotrend/HYDROASCII.Q', skip_header = True)\n",
    "noresm_qw_80_8p5_br = np.genfromtxt('/Users/aeckland/hydrotrend_gbmd/setup/run_2/Brahmaputra/rcp8p5/NORESM-M/2080/Hydrotrend/HYDROASCII.Q', skip_header = True)   "
   ]
  },
  {
   "cell_type": "code",
   "execution_count": 16,
   "metadata": {},
   "outputs": [],
   "source": [
    "gfdl_qs_80_4p5_br = np.genfromtxt('/Users/aeckland/hydrotrend_gbmd/setup/run_2/Ganga/rcp4p5/GFDL-ESM2M/2080/Hydrotrend/HYDROASCII.QS', skip_header = True)\n",
    "hadgem_qs_80_4p5_br = np.genfromtxt('/Users/aeckland/hydrotrend_gbmd/setup/run_2/Ganga/rcp4p5/HadGEM2/2080/Hydrotrend/HYDROASCII.QS', skip_header = True)\n",
    "ipsl_qs_80_4p5_br = np.genfromtxt('/Users/aeckland/hydrotrend_gbmd/setup/run_2/Ganga/rcp4p5/IPSL_CM5A/2080/Hydrotrend/HYDROASCII.QS', skip_header = True)\n",
    "miroc_qs_80_4p5_br = np.genfromtxt('/Users/aeckland/hydrotrend_gbmd/setup/run_2/Ganga/rcp4p5/MIROC-ESM-CHEM/2080/Hydrotrend/HYDROASCII.QS', skip_header = True)\n",
    "noresm_qs_80_4p5_br = np.genfromtxt('/Users/aeckland/hydrotrend_gbmd/setup/run_2/Ganga/rcp4p5/NORESM-M/2080/Hydrotrend/HYDROASCII.QS', skip_header = True) \n",
    "\n",
    "gfdl_qs_80_8p5_br = np.genfromtxt('/Users/aeckland/hydrotrend_gbmd/setup/run_2/Ganga/rcp8p5/GFDL-ESM2M/2080/Hydrotrend/HYDROASCII.QS', skip_header = True)\n",
    "hadgem_qs_80_8p5_br = np.genfromtxt('/Users/aeckland/hydrotrend_gbmd/setup/run_2/Ganga/rcp8p5/HadGEM2/2080/Hydrotrend/HYDROASCII.QS', skip_header = True)\n",
    "ipsl_qs_80_8p5_br = np.genfromtxt('/Users/aeckland/hydrotrend_gbmd/setup/run_2/Ganga/rcp8p5/IPSL_CM5A/2080/Hydrotrend/HYDROASCII.QS', skip_header = True)\n",
    "miroc_qs_80_8p5_br = np.genfromtxt('/Users/aeckland/hydrotrend_gbmd/setup/run_2/Ganga/rcp8p5/MIROC-ESM-CHEM/2080/Hydrotrend/HYDROASCII.QS', skip_header = True)\n",
    "noresm_qs_80_8p5_br = np.genfromtxt('/Users/aeckland/hydrotrend_gbmd/setup/run_2/Ganga/rcp8p5/NORESM-M/2080/Hydrotrend/HYDROASCII.QS', skip_header = True)   "
   ]
  },
  {
   "cell_type": "markdown",
   "metadata": {},
   "source": [
    "### Reshape arrays by column (--> mean daily discharge)"
   ]
  },
  {
   "cell_type": "code",
   "execution_count": 17,
   "metadata": {},
   "outputs": [],
   "source": [
    "gfdl_cols_qw_20_4p5_br = reshape_cols(gfdl_qw_20_4p5_br)\n",
    "gfdl_cols_qw_40_4p5_br = reshape_cols(gfdl_qw_40_4p5_br)\n",
    "gfdl_cols_qw_60_4p5_br = reshape_cols(gfdl_qw_60_4p5_br)\n",
    "gfdl_cols_qw_80_4p5_br = reshape_cols(gfdl_qw_80_4p5_br)\n",
    "\n",
    "hadgem_cols_qw_20_4p5_br = reshape_cols(hadgem_qw_20_4p5_br)\n",
    "hadgem_cols_qw_40_4p5_br = reshape_cols(hadgem_qw_40_4p5_br)\n",
    "hadgem_cols_qw_60_4p5_br = reshape_cols(hadgem_qw_60_4p5_br)\n",
    "hadgem_cols_qw_80_4p5_br = reshape_cols(hadgem_qw_80_4p5_br)\n",
    "\n",
    "ipsl_cols_qw_20_4p5_br = reshape_cols(ipsl_qw_20_4p5_br)\n",
    "ipsl_cols_qw_40_4p5_br = reshape_cols(ipsl_qw_40_4p5_br)\n",
    "ipsl_cols_qw_60_4p5_br = reshape_cols(ipsl_qw_60_4p5_br)\n",
    "ipsl_cols_qw_80_4p5_br = reshape_cols(ipsl_qw_80_4p5_br)\n",
    "\n",
    "miroc_cols_qw_20_4p5_br = reshape_cols(miroc_qw_20_4p5_br)\n",
    "miroc_cols_qw_40_4p5_br = reshape_cols(miroc_qw_40_4p5_br)\n",
    "miroc_cols_qw_60_4p5_br = reshape_cols(miroc_qw_60_4p5_br)\n",
    "miroc_cols_qw_80_4p5_br = reshape_cols(miroc_qw_80_4p5_br)\n",
    "\n",
    "noresm_cols_qw_20_4p5_br = reshape_cols(noresm_qw_20_4p5_br)\n",
    "noresm_cols_qw_40_4p5_br = reshape_cols(noresm_qw_40_4p5_br)\n",
    "noresm_cols_qw_60_4p5_br = reshape_cols(noresm_qw_60_4p5_br)\n",
    "noresm_cols_qw_80_4p5_br = reshape_cols(noresm_qw_80_4p5_br)"
   ]
  },
  {
   "cell_type": "code",
   "execution_count": 18,
   "metadata": {},
   "outputs": [],
   "source": [
    "gfdl_cols_qw_20_8p5_br = reshape_cols(gfdl_qw_20_8p5_br)\n",
    "gfdl_cols_qw_40_8p5_br = reshape_cols(gfdl_qw_40_8p5_br)\n",
    "gfdl_cols_qw_60_8p5_br = reshape_cols(gfdl_qw_60_8p5_br)\n",
    "gfdl_cols_qw_80_8p5_br = reshape_cols(gfdl_qw_80_8p5_br)\n",
    "\n",
    "hadgem_cols_qw_20_8p5_br = reshape_cols(hadgem_qw_20_8p5_br)\n",
    "hadgem_cols_qw_40_8p5_br = reshape_cols(hadgem_qw_40_8p5_br)\n",
    "hadgem_cols_qw_60_8p5_br = reshape_cols(hadgem_qw_60_8p5_br)\n",
    "hadgem_cols_qw_80_8p5_br = reshape_cols(hadgem_qw_80_8p5_br)\n",
    "\n",
    "ipsl_cols_qw_20_8p5_br = reshape_cols(ipsl_qw_20_8p5_br)\n",
    "ipsl_cols_qw_40_8p5_br = reshape_cols(ipsl_qw_40_8p5_br)\n",
    "ipsl_cols_qw_60_8p5_br = reshape_cols(ipsl_qw_60_8p5_br)\n",
    "ipsl_cols_qw_80_8p5_br = reshape_cols(ipsl_qw_80_8p5_br)\n",
    "\n",
    "miroc_cols_qw_20_8p5_br = reshape_cols(miroc_qw_20_8p5_br)\n",
    "miroc_cols_qw_40_8p5_br = reshape_cols(miroc_qw_40_8p5_br)\n",
    "miroc_cols_qw_60_8p5_br = reshape_cols(miroc_qw_60_8p5_br)\n",
    "miroc_cols_qw_80_8p5_br = reshape_cols(miroc_qw_80_8p5_br)\n",
    "\n",
    "noresm_cols_qw_20_8p5_br = reshape_cols(noresm_qw_20_8p5_br)\n",
    "noresm_cols_qw_40_8p5_br = reshape_cols(noresm_qw_40_8p5_br)\n",
    "noresm_cols_qw_60_8p5_br = reshape_cols(noresm_qw_60_8p5_br)\n",
    "noresm_cols_qw_80_8p5_br = reshape_cols(noresm_qw_80_8p5_br)"
   ]
  },
  {
   "cell_type": "markdown",
   "metadata": {},
   "source": [
    "### Reshape arrays by column (--> mean daily sediment discharge)"
   ]
  },
  {
   "cell_type": "code",
   "execution_count": 19,
   "metadata": {},
   "outputs": [],
   "source": [
    "gfdl_cols_qs_20_4p5_br = reshape_cols(gfdl_qs_20_4p5_br)\n",
    "gfdl_cols_qs_40_4p5_br = reshape_cols(gfdl_qs_40_4p5_br)\n",
    "gfdl_cols_qs_60_4p5_br = reshape_cols(gfdl_qs_60_4p5_br)\n",
    "gfdl_cols_qs_80_4p5_br = reshape_cols(gfdl_qs_80_4p5_br)\n",
    "\n",
    "hadgem_cols_qs_20_4p5_br = reshape_cols(hadgem_qs_20_4p5_br)\n",
    "hadgem_cols_qs_40_4p5_br = reshape_cols(hadgem_qs_40_4p5_br)\n",
    "hadgem_cols_qs_60_4p5_br = reshape_cols(hadgem_qs_60_4p5_br)\n",
    "hadgem_cols_qs_80_4p5_br = reshape_cols(hadgem_qs_80_4p5_br)\n",
    "\n",
    "ipsl_cols_qs_20_4p5_br = reshape_cols(ipsl_qs_20_4p5_br)\n",
    "ipsl_cols_qs_40_4p5_br = reshape_cols(ipsl_qs_40_4p5_br)\n",
    "ipsl_cols_qs_60_4p5_br = reshape_cols(ipsl_qs_60_4p5_br)\n",
    "ipsl_cols_qs_80_4p5_br = reshape_cols(ipsl_qs_80_4p5_br)\n",
    "\n",
    "miroc_cols_qs_20_4p5_br = reshape_cols(miroc_qs_20_4p5_br)\n",
    "miroc_cols_qs_40_4p5_br = reshape_cols(miroc_qs_40_4p5_br)\n",
    "miroc_cols_qs_60_4p5_br = reshape_cols(miroc_qs_60_4p5_br)\n",
    "miroc_cols_qs_80_4p5_br = reshape_cols(miroc_qs_80_4p5_br)\n",
    "\n",
    "noresm_cols_qs_20_4p5_br = reshape_cols(noresm_qs_20_4p5_br)\n",
    "noresm_cols_qs_40_4p5_br = reshape_cols(noresm_qs_40_4p5_br)\n",
    "noresm_cols_qs_60_4p5_br = reshape_cols(noresm_qs_60_4p5_br)\n",
    "noresm_cols_qs_80_4p5_br = reshape_cols(noresm_qs_80_4p5_br)"
   ]
  },
  {
   "cell_type": "code",
   "execution_count": 20,
   "metadata": {},
   "outputs": [],
   "source": [
    "gfdl_cols_qs_20_8p5_br = reshape_cols(gfdl_qs_20_8p5_br)\n",
    "gfdl_cols_qs_40_8p5_br = reshape_cols(gfdl_qs_40_8p5_br)\n",
    "gfdl_cols_qs_60_8p5_br = reshape_cols(gfdl_qs_60_8p5_br)\n",
    "gfdl_cols_qs_80_8p5_br = reshape_cols(gfdl_qs_80_8p5_br)\n",
    "\n",
    "hadgem_cols_qs_20_8p5_br = reshape_cols(hadgem_qs_20_8p5_br)\n",
    "hadgem_cols_qs_40_8p5_br = reshape_cols(hadgem_qs_40_8p5_br)\n",
    "hadgem_cols_qs_60_8p5_br = reshape_cols(hadgem_qs_60_8p5_br)\n",
    "hadgem_cols_qs_80_8p5_br = reshape_cols(hadgem_qs_80_8p5_br)\n",
    "\n",
    "ipsl_cols_qs_20_8p5_br = reshape_cols(ipsl_qs_20_8p5_br)\n",
    "ipsl_cols_qs_40_8p5_br = reshape_cols(ipsl_qs_40_8p5_br)\n",
    "ipsl_cols_qs_60_8p5_br = reshape_cols(ipsl_qs_60_8p5_br)\n",
    "ipsl_cols_qs_80_8p5_br = reshape_cols(ipsl_qs_80_8p5_br)\n",
    "\n",
    "miroc_cols_qs_20_8p5_br = reshape_cols(miroc_qs_20_8p5_br)\n",
    "miroc_cols_qs_40_8p5_br = reshape_cols(miroc_qs_40_8p5_br)\n",
    "miroc_cols_qs_60_8p5_br = reshape_cols(miroc_qs_60_8p5_br)\n",
    "miroc_cols_qs_80_8p5_br = reshape_cols(miroc_qs_80_8p5_br)\n",
    "\n",
    "noresm_cols_qs_20_8p5_br = reshape_cols(noresm_qs_20_8p5_br)\n",
    "noresm_cols_qs_40_8p5_br = reshape_cols(noresm_qs_40_8p5_br)\n",
    "noresm_cols_qs_60_8p5_br = reshape_cols(noresm_qs_60_8p5_br)\n",
    "noresm_cols_qs_80_8p5_br = reshape_cols(noresm_qs_80_8p5_br)"
   ]
  },
  {
   "cell_type": "markdown",
   "metadata": {},
   "source": [
    "## Ganges"
   ]
  },
  {
   "cell_type": "markdown",
   "metadata": {},
   "source": [
    "### Import water data from each time period\n",
    "\n",
    "#### 1976-2006"
   ]
  },
  {
   "cell_type": "code",
   "execution_count": 21,
   "metadata": {},
   "outputs": [],
   "source": [
    "gfdl_qw_ref_gr = np.genfromtxt('/Users/aeckland/hydrotrend_gbmd/setup/run_2/Ganga/reference/GFDL-ESM2M/Hydrotrend/HYDROASCII.Q', skip_header = True)\n",
    "hadgem_qw_ref_gr = np.genfromtxt('/Users/aeckland/hydrotrend_gbmd/setup/run_2/Ganga/reference/HadGEM2/Hydrotrend/HYDROASCII.Q', skip_header = True)\n",
    "ipsl_qw_ref_gr = np.genfromtxt('/Users/aeckland/hydrotrend_gbmd/setup/run_2/Ganga/reference/IPSL_CM5A/Hydrotrend/HYDROASCII.Q', skip_header = True)\n",
    "miroc_qw_ref_gr = np.genfromtxt('/Users/aeckland/hydrotrend_gbmd/setup/run_2/Ganga/reference/MIROC-ESM-CHEM/Hydrotrend/HYDROASCII.Q', skip_header = True)\n",
    "noresm_qw_ref_gr = np.genfromtxt('/Users/aeckland/hydrotrend_gbmd/setup/run_2/Ganga/reference/NORESM-M/Hydrotrend/HYDROASCII.Q', skip_header = True)   "
   ]
  },
  {
   "cell_type": "code",
   "execution_count": 22,
   "metadata": {},
   "outputs": [],
   "source": [
    "gfdl_qs_ref_gr = np.genfromtxt('/Users/aeckland/hydrotrend_gbmd/setup/run_2/Ganga/reference/GFDL-ESM2M/Hydrotrend/HYDROASCII.QS', skip_header = True)\n",
    "hadgem_qs_ref_gr = np.genfromtxt('/Users/aeckland/hydrotrend_gbmd/setup/run_2/Ganga/reference/HadGEM2/Hydrotrend/HYDROASCII.QS', skip_header = True)\n",
    "ipsl_qs_ref_gr = np.genfromtxt('/Users/aeckland/hydrotrend_gbmd/setup/run_2/Ganga/reference/IPSL_CM5A/Hydrotrend/HYDROASCII.QS', skip_header = True)\n",
    "miroc_qs_ref_gr = np.genfromtxt('/Users/aeckland/hydrotrend_gbmd/setup/run_2/Ganga/reference/MIROC-ESM-CHEM/Hydrotrend/HYDROASCII.QS', skip_header = True)\n",
    "noresm_qs_ref_gr = np.genfromtxt('/Users/aeckland/hydrotrend_gbmd/setup/run_2/Ganga/reference/NORESM-M/Hydrotrend/HYDROASCII.QS', skip_header = True)   "
   ]
  },
  {
   "cell_type": "markdown",
   "metadata": {},
   "source": [
    "### Reshape arrays: Mean Daily Water Discharge"
   ]
  },
  {
   "cell_type": "code",
   "execution_count": 23,
   "metadata": {},
   "outputs": [],
   "source": [
    "gfdl_reshape_qw_gr = gfdl_qw_ref_gr[0:-1096].reshape(27, 365)\n",
    "gfdl_mean_cols_qw_gr = np.mean(gfdl_reshape_qw_gr, axis = 0)\n",
    "\n",
    "hadgem_reshape_qw_gr = hadgem_qw_ref_gr[0:-1096].reshape(27, 365)\n",
    "hadgem_mean_cols_qw_gr = np.mean(hadgem_reshape_qw_gr, axis = 0)\n",
    "\n",
    "ipsl_reshape_qw_gr = ipsl_qw_ref_gr[0:-1096].reshape(27, 365)\n",
    "ipsl_mean_cols_qw_gr = np.mean(ipsl_reshape_qw_gr, axis = 0)\n",
    "\n",
    "miroc_reshape_qw_gr = miroc_qw_ref_gr[0:-1096].reshape(27, 365)\n",
    "miroc_mean_cols_qw_gr = np.mean(miroc_reshape_qw_gr, axis = 0)\n",
    "\n",
    "noresm_reshape_qw_gr = noresm_qw_ref_gr[0:-1096].reshape(27, 365)\n",
    "noresm_mean_cols_qw_gr = np.mean(noresm_reshape_qw_gr, axis = 0)"
   ]
  },
  {
   "cell_type": "markdown",
   "metadata": {},
   "source": [
    "### Reshape arrays: Mean Daily Sediment Discharge"
   ]
  },
  {
   "cell_type": "code",
   "execution_count": 24,
   "metadata": {},
   "outputs": [],
   "source": [
    "gfdl_reshape_qs_gr = gfdl_qs_ref_gr[0:-1].reshape(30, 365)\n",
    "gfdl_mean_cols_qs_gr = np.mean(gfdl_reshape_qs_gr, axis = 0)\n",
    "\n",
    "hadgem_reshape_qs_gr = hadgem_qs_ref_gr[0:-1].reshape(30, 365)\n",
    "hadgem_mean_cols_qs_gr = np.mean(hadgem_reshape_qs_gr, axis = 0)\n",
    "\n",
    "ipsl_reshape_qs_gr = ipsl_qs_ref_gr[0:-1].reshape(30, 365)\n",
    "ipsl_mean_cols_qs_gr = np.mean(ipsl_reshape_qs_gr, axis = 0)\n",
    "\n",
    "miroc_reshape_qs_gr = miroc_qs_ref_gr[0:-1].reshape(30, 365)\n",
    "miroc_mean_cols_qs_gr = np.mean(miroc_reshape_qs_gr, axis = 0)\n",
    "\n",
    "noresm_reshape_qs_gr = noresm_qs_ref_gr[0:-1].reshape(30, 365)\n",
    "noresm_mean_cols_qs_gr = np.mean(noresm_reshape_qs_gr, axis = 0)"
   ]
  },
  {
   "cell_type": "markdown",
   "metadata": {},
   "source": [
    "### Reshape arrays: Mean Annual Water Discharge"
   ]
  },
  {
   "cell_type": "code",
   "execution_count": 25,
   "metadata": {},
   "outputs": [],
   "source": [
    "gfdl_reshape_qw_gr = gfdl_qw_ref_gr[0:-1096].reshape(27, 365)\n",
    "gfdl_mean_rows_qw_gr = np.mean(gfdl_reshape_qw_gr, axis = 1)\n",
    "\n",
    "hadgem_reshape_qw_gr = hadgem_qw_ref_gr[0:-1096].reshape(27, 365)\n",
    "hadgem_mean_rows_qw_gr = np.mean(hadgem_reshape_qw_gr, axis = 1)\n",
    "\n",
    "ipsl_reshape_qw_gr = ipsl_qw_ref_gr[0:-1096].reshape(27, 365)\n",
    "ipsl_mean_rows_qw_gr = np.mean(ipsl_reshape_qw_gr, axis = 1)\n",
    "\n",
    "miroc_reshape_qw_gr = miroc_qw_ref_gr[0:-1096].reshape(27, 365)\n",
    "miroc_mean_rows_qw_gr = np.mean(miroc_reshape_qw_gr, axis = 1)\n",
    "\n",
    "noresm_reshape_qw_gr = noresm_qw_ref_gr[0:-1096].reshape(27, 365)\n",
    "noresm_mean_rows_qw_gr = np.mean(noresm_reshape_qw_gr, axis = 1)"
   ]
  },
  {
   "cell_type": "markdown",
   "metadata": {},
   "source": [
    "### Reshape arrays: Mean Annual Sediment Discharge"
   ]
  },
  {
   "cell_type": "code",
   "execution_count": 26,
   "metadata": {},
   "outputs": [],
   "source": [
    "gfdl_reshape_qs_gr = gfdl_qs_ref_gr[0:-1].reshape(30, 365)\n",
    "gfdl_mean_rows_qs_gr = np.mean(gfdl_reshape_qs_gr, axis = 1)\n",
    "\n",
    "hadgem_reshape_qs_gr = hadgem_qs_ref_gr[0:-1].reshape(30, 365)\n",
    "hadgem_mean_rows_qs_gr = np.mean(hadgem_reshape_qs_gr, axis = 1)\n",
    "\n",
    "ipsl_reshape_qs_gr = ipsl_qs_ref_gr[0:-1].reshape(30, 365)\n",
    "ipsl_mean_rows_qs_gr = np.mean(ipsl_reshape_qs_gr, axis = 1)\n",
    "\n",
    "miroc_reshape_qs_gr = miroc_qs_ref_gr[0:-1].reshape(30, 365)\n",
    "miroc_mean_rows_qs_gr = np.mean(miroc_reshape_qs_gr, axis = 1)\n",
    "\n",
    "noresm_reshape_qs_gr = noresm_qs_ref_gr[0:-1].reshape(30, 365)\n",
    "noresm_mean_rows_qs_gr = np.mean(noresm_reshape_qs_gr, axis = 1)"
   ]
  },
  {
   "cell_type": "markdown",
   "metadata": {},
   "source": [
    "Let's write a function to reshape the data for the remaining time periods"
   ]
  },
  {
   "cell_type": "code",
   "execution_count": 27,
   "metadata": {},
   "outputs": [],
   "source": [
    "def reshape_cols(record):\n",
    "    return np.mean(record[0:-1].reshape(30, 365), axis = 0)\n",
    "\n",
    "def reshape_rows(record):\n",
    "    return np.mean(record[0:-1].reshape(30,365), axis = 1)"
   ]
  },
  {
   "cell_type": "markdown",
   "metadata": {},
   "source": [
    "#### 2006-2036"
   ]
  },
  {
   "cell_type": "code",
   "execution_count": 28,
   "metadata": {},
   "outputs": [],
   "source": [
    "gfdl_qw_20_4p5_gr = np.genfromtxt('/Users/aeckland/hydrotrend_gbmd/setup/run_2/Ganga/rcp4p5/GFDL-ESM2M/2020/Hydrotrend/HYDROASCII.Q', skip_header = True)\n",
    "hadgem_qw_20_4p5_gr = np.genfromtxt('/Users/aeckland/hydrotrend_gbmd/setup/run_2/Ganga/rcp4p5/HadGEM2/2020/Hydrotrend/HYDROASCII.Q', skip_header = True)\n",
    "ipsl_qw_20_4p5_gr = np.genfromtxt('/Users/aeckland/hydrotrend_gbmd/setup/run_2/Ganga/rcp4p5/IPSL_CM5A/2020/Hydrotrend/HYDROASCII.Q', skip_header = True)\n",
    "miroc_qw_20_4p5_gr = np.genfromtxt('/Users/aeckland/hydrotrend_gbmd/setup/run_2/Ganga/rcp4p5/MIROC-ESM-CHEM/2020/Hydrotrend/HYDROASCII.Q', skip_header = True)\n",
    "noresm_qw_20_4p5_gr = np.genfromtxt('/Users/aeckland/hydrotrend_gbmd/setup/run_2/Ganga/rcp4p5/NORESM-M/2020/Hydrotrend/HYDROASCII.Q', skip_header = True)  \n",
    "\n",
    "gfdl_qw_20_8p5_gr = np.genfromtxt('/Users/aeckland/hydrotrend_gbmd/setup/run_2/Ganga/rcp8p5/GFDL-ESM2M/2020/Hydrotrend/HYDROASCII.Q', skip_header = True)\n",
    "hadgem_qw_20_8p5_gr = np.genfromtxt('/Users/aeckland/hydrotrend_gbmd/setup/run_2/Ganga/rcp8p5/HadGEM2/2020/Hydrotrend/HYDROASCII.Q', skip_header = True)\n",
    "ipsl_qw_20_8p5_gr = np.genfromtxt('/Users/aeckland/hydrotrend_gbmd/setup/run_2/Ganga/rcp8p5/IPSL_CM5A/2020/Hydrotrend/HYDROASCII.Q', skip_header = True)\n",
    "miroc_qw_20_8p5_gr = np.genfromtxt('/Users/aeckland/hydrotrend_gbmd/setup/run_2/Ganga/rcp8p5/MIROC-ESM-CHEM/2020/Hydrotrend/HYDROASCII.Q', skip_header = True)\n",
    "noresm_qw_20_8p5_gr = np.genfromtxt('/Users/aeckland/hydrotrend_gbmd/setup/run_2/Ganga/rcp8p5/NORESM-M/2020/Hydrotrend/HYDROASCII.Q', skip_header = True)   "
   ]
  },
  {
   "cell_type": "code",
   "execution_count": 29,
   "metadata": {},
   "outputs": [],
   "source": [
    "gfdl_qs_20_4p5_gr = np.genfromtxt('/Users/aeckland/hydrotrend_gbmd/setup/run_2/Ganga/rcp4p5/GFDL-ESM2M/2020/Hydrotrend/HYDROASCII.QS', skip_header = True)\n",
    "hadgem_qs_20_4p5_gr = np.genfromtxt('/Users/aeckland/hydrotrend_gbmd/setup/run_2/Ganga/rcp4p5/HadGEM2/2020/Hydrotrend/HYDROASCII.QS', skip_header = True)\n",
    "ipsl_qs_20_4p5_gr = np.genfromtxt('/Users/aeckland/hydrotrend_gbmd/setup/run_2/Ganga/rcp4p5/IPSL_CM5A/2020/Hydrotrend/HYDROASCII.QS', skip_header = True)\n",
    "miroc_qs_20_4p5_gr = np.genfromtxt('/Users/aeckland/hydrotrend_gbmd/setup/run_2/Ganga/rcp4p5/MIROC-ESM-CHEM/2020/Hydrotrend/HYDROASCII.QS', skip_header = True)\n",
    "noresm_qs_20_4p5_gr = np.genfromtxt('/Users/aeckland/hydrotrend_gbmd/setup/run_2/Ganga/rcp4p5/NORESM-M/2020/Hydrotrend/HYDROASCII.QS', skip_header = True)  \n",
    "\n",
    "gfdl_qs_20_8p5_gr = np.genfromtxt('/Users/aeckland/hydrotrend_gbmd/setup/run_2/Ganga/rcp8p5/GFDL-ESM2M/2020/Hydrotrend/HYDROASCII.QS', skip_header = True)\n",
    "hadgem_qs_20_8p5_gr = np.genfromtxt('/Users/aeckland/hydrotrend_gbmd/setup/run_2/Ganga/rcp8p5/HadGEM2/2020/Hydrotrend/HYDROASCII.QS', skip_header = True)\n",
    "ipsl_qs_20_8p5_gr = np.genfromtxt('/Users/aeckland/hydrotrend_gbmd/setup/run_2/Ganga/rcp8p5/IPSL_CM5A/2020/Hydrotrend/HYDROASCII.QS', skip_header = True)\n",
    "miroc_qs_20_8p5_gr = np.genfromtxt('/Users/aeckland/hydrotrend_gbmd/setup/run_2/Ganga/rcp8p5/MIROC-ESM-CHEM/2020/Hydrotrend/HYDROASCII.QS', skip_header = True)\n",
    "noresm_qs_20_8p5_gr = np.genfromtxt('/Users/aeckland/hydrotrend_gbmd/setup/run_2/Ganga/rcp8p5/NORESM-M/2020/Hydrotrend/HYDROASCII.QS', skip_header = True)   "
   ]
  },
  {
   "cell_type": "markdown",
   "metadata": {},
   "source": [
    "#### 2026-2056"
   ]
  },
  {
   "cell_type": "code",
   "execution_count": 30,
   "metadata": {},
   "outputs": [],
   "source": [
    "gfdl_qw_40_4p5_gr = np.genfromtxt('/Users/aeckland/hydrotrend_gbmd/setup/run_2/Ganga/rcp4p5/GFDL-ESM2M/2040/Hydrotrend/HYDROASCII.Q', skip_header = True)\n",
    "hadgem_qw_40_4p5_gr = np.genfromtxt('/Users/aeckland/hydrotrend_gbmd/setup/run_2/Ganga/rcp4p5/HadGEM2/2040/Hydrotrend/HYDROASCII.Q', skip_header = True)\n",
    "ipsl_qw_40_4p5_gr = np.genfromtxt('/Users/aeckland/hydrotrend_gbmd/setup/run_2/Ganga/rcp4p5/IPSL_CM5A/2040/Hydrotrend/HYDROASCII.Q', skip_header = True)\n",
    "miroc_qw_40_4p5_gr = np.genfromtxt('/Users/aeckland/hydrotrend_gbmd/setup/run_2/Ganga/rcp4p5/MIROC-ESM-CHEM/2040/Hydrotrend/HYDROASCII.Q', skip_header = True)\n",
    "noresm_qw_40_4p5_gr = np.genfromtxt('/Users/aeckland/hydrotrend_gbmd/setup/run_2/Ganga/rcp4p5/NORESM-M/2040/Hydrotrend/HYDROASCII.Q', skip_header = True)  \n",
    "\n",
    "gfdl_qw_40_8p5_gr = np.genfromtxt('/Users/aeckland/hydrotrend_gbmd/setup/run_2/Ganga/rcp8p5/GFDL-ESM2M/2040/Hydrotrend/HYDROASCII.Q', skip_header = True)\n",
    "hadgem_qw_40_8p5_gr = np.genfromtxt('/Users/aeckland/hydrotrend_gbmd/setup/run_2/Ganga/rcp8p5/HadGEM2/2040/Hydrotrend/HYDROASCII.Q', skip_header = True)\n",
    "ipsl_qw_40_8p5_gr = np.genfromtxt('/Users/aeckland/hydrotrend_gbmd/setup/run_2/Ganga/rcp8p5/IPSL_CM5A/2040/Hydrotrend/HYDROASCII.Q', skip_header = True)\n",
    "miroc_qw_40_8p5_gr = np.genfromtxt('/Users/aeckland/hydrotrend_gbmd/setup/run_2/Ganga/rcp8p5/MIROC-ESM-CHEM/2040/Hydrotrend/HYDROASCII.Q', skip_header = True)\n",
    "noresm_qw_40_8p5_gr = np.genfromtxt('/Users/aeckland/hydrotrend_gbmd/setup/run_2/Ganga/rcp8p5/NORESM-M/2040/Hydrotrend/HYDROASCII.Q', skip_header = True)   "
   ]
  },
  {
   "cell_type": "code",
   "execution_count": 31,
   "metadata": {},
   "outputs": [],
   "source": [
    "gfdl_qs_40_4p5_gr = np.genfromtxt('/Users/aeckland/hydrotrend_gbmd/setup/run_2/Ganga/rcp4p5/GFDL-ESM2M/2040/Hydrotrend/HYDROASCII.QS', skip_header = True)\n",
    "hadgem_qs_40_4p5_gr = np.genfromtxt('/Users/aeckland/hydrotrend_gbmd/setup/run_2/Ganga/rcp4p5/HadGEM2/2040/Hydrotrend/HYDROASCII.QS', skip_header = True)\n",
    "ipsl_qs_40_4p5_gr = np.genfromtxt('/Users/aeckland/hydrotrend_gbmd/setup/run_2/Ganga/rcp4p5/IPSL_CM5A/2040/Hydrotrend/HYDROASCII.QS', skip_header = True)\n",
    "miroc_qs_40_4p5_gr = np.genfromtxt('/Users/aeckland/hydrotrend_gbmd/setup/run_2/Ganga/rcp4p5/MIROC-ESM-CHEM/2040/Hydrotrend/HYDROASCII.QS', skip_header = True)\n",
    "noresm_qs_40_4p5_gr = np.genfromtxt('/Users/aeckland/hydrotrend_gbmd/setup/run_2/Ganga/rcp4p5/NORESM-M/2040/Hydrotrend/HYDROASCII.QS', skip_header = True)  \n",
    "\n",
    "gfdl_qs_40_8p5_gr = np.genfromtxt('/Users/aeckland/hydrotrend_gbmd/setup/run_2/Ganga/rcp8p5/GFDL-ESM2M/2040/Hydrotrend/HYDROASCII.QS', skip_header = True)\n",
    "hadgem_qs_40_8p5_gr = np.genfromtxt('/Users/aeckland/hydrotrend_gbmd/setup/run_2/Ganga/rcp8p5/HadGEM2/2040/Hydrotrend/HYDROASCII.QS', skip_header = True)\n",
    "ipsl_qs_40_8p5_gr = np.genfromtxt('/Users/aeckland/hydrotrend_gbmd/setup/run_2/Ganga/rcp8p5/IPSL_CM5A/2040/Hydrotrend/HYDROASCII.QS', skip_header = True)\n",
    "miroc_qs_40_8p5_gr = np.genfromtxt('/Users/aeckland/hydrotrend_gbmd/setup/run_2/Ganga/rcp8p5/MIROC-ESM-CHEM/2040/Hydrotrend/HYDROASCII.QS', skip_header = True)\n",
    "noresm_qs_40_8p5_gr = np.genfromtxt('/Users/aeckland/hydrotrend_gbmd/setup/run_2/Ganga/rcp8p5/NORESM-M/2040/Hydrotrend/HYDROASCII.QS', skip_header = True)   "
   ]
  },
  {
   "cell_type": "markdown",
   "metadata": {},
   "source": [
    "#### 2046-2076"
   ]
  },
  {
   "cell_type": "code",
   "execution_count": 32,
   "metadata": {},
   "outputs": [],
   "source": [
    "gfdl_qw_60_4p5_gr = np.genfromtxt('/Users/aeckland/hydrotrend_gbmd/setup/run_2/Ganga/rcp4p5/GFDL-ESM2M/2060/Hydrotrend/HYDROASCII.Q', skip_header = True)\n",
    "hadgem_qw_60_4p5_gr = np.genfromtxt('/Users/aeckland/hydrotrend_gbmd/setup/run_2/Ganga/rcp4p5/HadGEM2/2060/Hydrotrend/HYDROASCII.Q', skip_header = True)\n",
    "ipsl_qw_60_4p5_gr = np.genfromtxt('/Users/aeckland/hydrotrend_gbmd/setup/run_2/Ganga/rcp4p5/IPSL_CM5A/2060/Hydrotrend/HYDROASCII.Q', skip_header = True)\n",
    "miroc_qw_60_4p5_gr = np.genfromtxt('/Users/aeckland/hydrotrend_gbmd/setup/run_2/Ganga/rcp4p5/MIROC-ESM-CHEM/2060/Hydrotrend/HYDROASCII.Q', skip_header = True)\n",
    "noresm_qw_60_4p5_gr = np.genfromtxt('/Users/aeckland/hydrotrend_gbmd/setup/run_2/Ganga/rcp4p5/NORESM-M/2060/Hydrotrend/HYDROASCII.Q', skip_header = True)\n",
    "\n",
    "gfdl_qw_60_8p5_gr = np.genfromtxt('/Users/aeckland/hydrotrend_gbmd/setup/run_2/Ganga/rcp8p5/GFDL-ESM2M/2060/Hydrotrend/HYDROASCII.Q', skip_header = True)\n",
    "hadgem_qw_60_8p5_gr = np.genfromtxt('/Users/aeckland/hydrotrend_gbmd/setup/run_2/Ganga/rcp8p5/HadGEM2/2060/Hydrotrend/HYDROASCII.Q', skip_header = True)\n",
    "ipsl_qw_60_8p5_gr = np.genfromtxt('/Users/aeckland/hydrotrend_gbmd/setup/run_2/Ganga/rcp8p5/IPSL_CM5A/2060/Hydrotrend/HYDROASCII.Q', skip_header = True)\n",
    "miroc_qw_60_8p5_gr = np.genfromtxt('/Users/aeckland/hydrotrend_gbmd/setup/run_2/Ganga/rcp8p5/MIROC-ESM-CHEM/2060/Hydrotrend/HYDROASCII.Q', skip_header = True)\n",
    "noresm_qw_60_8p5_gr = np.genfromtxt('/Users/aeckland/hydrotrend_gbmd/setup/run_2/Ganga/rcp8p5/NORESM-M/2060/Hydrotrend/HYDROASCII.Q', skip_header = True)   "
   ]
  },
  {
   "cell_type": "code",
   "execution_count": 33,
   "metadata": {},
   "outputs": [],
   "source": [
    "gfdl_qs_60_4p5_gr = np.genfromtxt('/Users/aeckland/hydrotrend_gbmd/setup/run_2/Ganga/rcp4p5/GFDL-ESM2M/2060/Hydrotrend/HYDROASCII.QS', skip_header = True)\n",
    "hadgem_qs_60_4p5_gr = np.genfromtxt('/Users/aeckland/hydrotrend_gbmd/setup/run_2/Ganga/rcp4p5/HadGEM2/2060/Hydrotrend/HYDROASCII.QS', skip_header = True)\n",
    "ipsl_qs_60_4p5_gr = np.genfromtxt('/Users/aeckland/hydrotrend_gbmd/setup/run_2/Ganga/rcp4p5/IPSL_CM5A/2060/Hydrotrend/HYDROASCII.QS', skip_header = True)\n",
    "miroc_qs_60_4p5_gr = np.genfromtxt('/Users/aeckland/hydrotrend_gbmd/setup/run_2/Ganga/rcp4p5/MIROC-ESM-CHEM/2060/Hydrotrend/HYDROASCII.QS', skip_header = True)\n",
    "noresm_qs_60_4p5_gr = np.genfromtxt('/Users/aeckland/hydrotrend_gbmd/setup/run_2/Ganga/rcp4p5/NORESM-M/2060/Hydrotrend/HYDROASCII.QS', skip_header = True)\n",
    "\n",
    "gfdl_qs_60_8p5_gr = np.genfromtxt('/Users/aeckland/hydrotrend_gbmd/setup/run_2/Ganga/rcp8p5/GFDL-ESM2M/2060/Hydrotrend/HYDROASCII.QS', skip_header = True)\n",
    "hadgem_qs_60_8p5_gr = np.genfromtxt('/Users/aeckland/hydrotrend_gbmd/setup/run_2/Ganga/rcp8p5/HadGEM2/2060/Hydrotrend/HYDROASCII.QS', skip_header = True)\n",
    "ipsl_qs_60_8p5_gr = np.genfromtxt('/Users/aeckland/hydrotrend_gbmd/setup/run_2/Ganga/rcp8p5/IPSL_CM5A/2060/Hydrotrend/HYDROASCII.QS', skip_header = True)\n",
    "miroc_qs_60_8p5_gr = np.genfromtxt('/Users/aeckland/hydrotrend_gbmd/setup/run_2/Ganga/rcp8p5/MIROC-ESM-CHEM/2060/Hydrotrend/HYDROASCII.QS', skip_header = True)\n",
    "noresm_qs_60_8p5_gr = np.genfromtxt('/Users/aeckland/hydrotrend_gbmd/setup/run_2/Ganga/rcp8p5/NORESM-M/2060/Hydrotrend/HYDROASCII.QS', skip_header = True)   "
   ]
  },
  {
   "cell_type": "markdown",
   "metadata": {},
   "source": [
    "#### 2066 - 2096"
   ]
  },
  {
   "cell_type": "code",
   "execution_count": 34,
   "metadata": {},
   "outputs": [],
   "source": [
    "gfdl_qw_80_4p5_gr = np.genfromtxt('/Users/aeckland/hydrotrend_gbmd/setup/run_2/Ganga/rcp4p5/GFDL-ESM2M/2080/Hydrotrend/HYDROASCII.Q', skip_header = True)\n",
    "hadgem_qw_80_4p5_gr = np.genfromtxt('/Users/aeckland/hydrotrend_gbmd/setup/run_2/Ganga/rcp4p5/HadGEM2/2080/Hydrotrend/HYDROASCII.Q', skip_header = True)\n",
    "ipsl_qw_80_4p5_gr = np.genfromtxt('/Users/aeckland/hydrotrend_gbmd/setup/run_2/Ganga/rcp4p5/IPSL_CM5A/2080/Hydrotrend/HYDROASCII.Q', skip_header = True)\n",
    "miroc_qw_80_4p5_gr = np.genfromtxt('/Users/aeckland/hydrotrend_gbmd/setup/run_2/Ganga/rcp4p5/MIROC-ESM-CHEM/2080/Hydrotrend/HYDROASCII.Q', skip_header = True)\n",
    "noresm_qw_80_4p5_gr = np.genfromtxt('/Users/aeckland/hydrotrend_gbmd/setup/run_2/Ganga/rcp4p5/NORESM-M/2080/Hydrotrend/HYDROASCII.Q', skip_header = True) \n",
    "\n",
    "gfdl_qw_80_8p5_gr = np.genfromtxt('/Users/aeckland/hydrotrend_gbmd/setup/run_2/Ganga/rcp8p5/GFDL-ESM2M/2080/Hydrotrend/HYDROASCII.Q', skip_header = True)\n",
    "hadgem_qw_80_8p5_gr = np.genfromtxt('/Users/aeckland/hydrotrend_gbmd/setup/run_2/Ganga/rcp8p5/HadGEM2/2080/Hydrotrend/HYDROASCII.Q', skip_header = True)\n",
    "ipsl_qw_80_8p5_gr = np.genfromtxt('/Users/aeckland/hydrotrend_gbmd/setup/run_2/Ganga/rcp8p5/IPSL_CM5A/2080/Hydrotrend/HYDROASCII.Q', skip_header = True)\n",
    "miroc_qw_80_8p5_gr = np.genfromtxt('/Users/aeckland/hydrotrend_gbmd/setup/run_2/Ganga/rcp8p5/MIROC-ESM-CHEM/2080/Hydrotrend/HYDROASCII.Q', skip_header = True)\n",
    "noresm_qw_80_8p5_gr = np.genfromtxt('/Users/aeckland/hydrotrend_gbmd/setup/run_2/Ganga/rcp8p5/NORESM-M/2080/Hydrotrend/HYDROASCII.Q', skip_header = True)   "
   ]
  },
  {
   "cell_type": "code",
   "execution_count": 35,
   "metadata": {},
   "outputs": [],
   "source": [
    "gfdl_qs_80_4p5_gr = np.genfromtxt('/Users/aeckland/hydrotrend_gbmd/setup/run_2/Ganga/rcp4p5/GFDL-ESM2M/2080/Hydrotrend/HYDROASCII.QS', skip_header = True)\n",
    "hadgem_qs_80_4p5_gr = np.genfromtxt('/Users/aeckland/hydrotrend_gbmd/setup/run_2/Ganga/rcp4p5/HadGEM2/2080/Hydrotrend/HYDROASCII.QS', skip_header = True)\n",
    "ipsl_qs_80_4p5_gr = np.genfromtxt('/Users/aeckland/hydrotrend_gbmd/setup/run_2/Ganga/rcp4p5/IPSL_CM5A/2080/Hydrotrend/HYDROASCII.QS', skip_header = True)\n",
    "miroc_qs_80_4p5_gr = np.genfromtxt('/Users/aeckland/hydrotrend_gbmd/setup/run_2/Ganga/rcp4p5/MIROC-ESM-CHEM/2080/Hydrotrend/HYDROASCII.QS', skip_header = True)\n",
    "noresm_qs_80_4p5_gr = np.genfromtxt('/Users/aeckland/hydrotrend_gbmd/setup/run_2/Ganga/rcp4p5/NORESM-M/2080/Hydrotrend/HYDROASCII.QS', skip_header = True) \n",
    "\n",
    "gfdl_qs_80_8p5_gr = np.genfromtxt('/Users/aeckland/hydrotrend_gbmd/setup/run_2/Ganga/rcp8p5/GFDL-ESM2M/2080/Hydrotrend/HYDROASCII.QS', skip_header = True)\n",
    "hadgem_qs_80_8p5_gr = np.genfromtxt('/Users/aeckland/hydrotrend_gbmd/setup/run_2/Ganga/rcp8p5/HadGEM2/2080/Hydrotrend/HYDROASCII.QS', skip_header = True)\n",
    "ipsl_qs_80_8p5_gr = np.genfromtxt('/Users/aeckland/hydrotrend_gbmd/setup/run_2/Ganga/rcp8p5/IPSL_CM5A/2080/Hydrotrend/HYDROASCII.QS', skip_header = True)\n",
    "miroc_qs_80_8p5_gr = np.genfromtxt('/Users/aeckland/hydrotrend_gbmd/setup/run_2/Ganga/rcp8p5/MIROC-ESM-CHEM/2080/Hydrotrend/HYDROASCII.QS', skip_header = True)\n",
    "noresm_qs_80_8p5_gr = np.genfromtxt('/Users/aeckland/hydrotrend_gbmd/setup/run_2/Ganga/rcp8p5/NORESM-M/2080/Hydrotrend/HYDROASCII.QS', skip_header = True)   "
   ]
  },
  {
   "cell_type": "markdown",
   "metadata": {},
   "source": [
    "### Reshape arrays by column (--> mean daily water discharge)"
   ]
  },
  {
   "cell_type": "code",
   "execution_count": 36,
   "metadata": {},
   "outputs": [],
   "source": [
    "gfdl_cols_qw_20_4p5_gr = reshape_cols(gfdl_qw_20_4p5_gr)\n",
    "gfdl_cols_qw_40_4p5_gr = reshape_cols(gfdl_qw_40_4p5_gr)\n",
    "gfdl_cols_qw_60_4p5_gr = reshape_cols(gfdl_qw_60_4p5_gr)\n",
    "gfdl_cols_qw_80_4p5_gr = reshape_cols(gfdl_qw_80_4p5_gr)\n",
    "\n",
    "hadgem_cols_qw_20_4p5_gr = reshape_cols(hadgem_qw_20_4p5_gr)\n",
    "hadgem_cols_qw_40_4p5_gr = reshape_cols(hadgem_qw_40_4p5_gr)\n",
    "hadgem_cols_qw_60_4p5_gr = reshape_cols(hadgem_qw_60_4p5_gr)\n",
    "hadgem_cols_qw_80_4p5_gr = reshape_cols(hadgem_qw_80_4p5_gr)\n",
    "\n",
    "ipsl_cols_qw_20_4p5_gr = reshape_cols(ipsl_qw_20_4p5_gr)\n",
    "ipsl_cols_qw_40_4p5_gr = reshape_cols(ipsl_qw_40_4p5_gr)\n",
    "ipsl_cols_qw_60_4p5_gr = reshape_cols(ipsl_qw_60_4p5_gr)\n",
    "ipsl_cols_qw_80_4p5_gr = reshape_cols(ipsl_qw_80_4p5_gr)\n",
    "\n",
    "miroc_cols_qw_20_4p5_gr = reshape_cols(miroc_qw_20_4p5_gr)\n",
    "miroc_cols_qw_40_4p5_gr = reshape_cols(miroc_qw_40_4p5_gr)\n",
    "miroc_cols_qw_60_4p5_gr = reshape_cols(miroc_qw_60_4p5_gr)\n",
    "miroc_cols_qw_80_4p5_gr = reshape_cols(miroc_qw_80_4p5_gr)\n",
    "\n",
    "noresm_cols_qw_20_4p5_gr = reshape_cols(noresm_qw_20_4p5_gr)\n",
    "noresm_cols_qw_40_4p5_gr = reshape_cols(noresm_qw_40_4p5_gr)\n",
    "noresm_cols_qw_60_4p5_gr = reshape_cols(noresm_qw_60_4p5_gr)\n",
    "noresm_cols_qw_80_4p5_gr = reshape_cols(noresm_qw_80_4p5_gr)"
   ]
  },
  {
   "cell_type": "code",
   "execution_count": 37,
   "metadata": {},
   "outputs": [],
   "source": [
    "gfdl_cols_qw_20_8p5_gr = reshape_cols(gfdl_qw_20_8p5_gr)\n",
    "gfdl_cols_qw_40_8p5_gr = reshape_cols(gfdl_qw_40_8p5_gr)\n",
    "gfdl_cols_qw_60_8p5_gr = reshape_cols(gfdl_qw_60_8p5_gr)\n",
    "gfdl_cols_qw_80_8p5_gr = reshape_cols(gfdl_qw_80_8p5_gr)\n",
    "\n",
    "hadgem_cols_qw_20_8p5_gr = reshape_cols(hadgem_qw_20_8p5_gr)\n",
    "hadgem_cols_qw_40_8p5_gr = reshape_cols(hadgem_qw_40_8p5_gr)\n",
    "hadgem_cols_qw_60_8p5_gr = reshape_cols(hadgem_qw_60_8p5_gr)\n",
    "hadgem_cols_qw_80_8p5_gr = reshape_cols(hadgem_qw_80_8p5_gr)\n",
    "\n",
    "ipsl_cols_qw_20_8p5_gr = reshape_cols(ipsl_qw_20_8p5_gr)\n",
    "ipsl_cols_qw_40_8p5_gr = reshape_cols(ipsl_qw_40_8p5_gr)\n",
    "ipsl_cols_qw_60_8p5_gr = reshape_cols(ipsl_qw_60_8p5_gr)\n",
    "ipsl_cols_qw_80_8p5_gr = reshape_cols(ipsl_qw_80_8p5_gr)\n",
    "\n",
    "miroc_cols_qw_20_8p5_gr = reshape_cols(miroc_qw_20_8p5_gr)\n",
    "miroc_cols_qw_40_8p5_gr = reshape_cols(miroc_qw_40_8p5_gr)\n",
    "miroc_cols_qw_60_8p5_gr = reshape_cols(miroc_qw_60_8p5_gr)\n",
    "miroc_cols_qw_80_8p5_gr = reshape_cols(miroc_qw_80_8p5_gr)\n",
    "\n",
    "noresm_cols_qw_20_8p5_gr = reshape_cols(noresm_qw_20_8p5_gr)\n",
    "noresm_cols_qw_40_8p5_gr = reshape_cols(noresm_qw_40_8p5_gr)\n",
    "noresm_cols_qw_60_8p5_gr = reshape_cols(noresm_qw_60_8p5_gr)\n",
    "noresm_cols_qw_80_8p5_gr = reshape_cols(noresm_qw_80_8p5_gr)"
   ]
  },
  {
   "cell_type": "markdown",
   "metadata": {},
   "source": [
    "### Reshape arrays by column (--> mean daily sediment discharge)"
   ]
  },
  {
   "cell_type": "code",
   "execution_count": 38,
   "metadata": {},
   "outputs": [],
   "source": [
    "gfdl_cols_qs_20_4p5_gr = reshape_cols(gfdl_qs_20_4p5_gr)\n",
    "gfdl_cols_qs_40_4p5_gr = reshape_cols(gfdl_qs_40_4p5_gr)\n",
    "gfdl_cols_qs_60_4p5_gr = reshape_cols(gfdl_qs_60_4p5_gr)\n",
    "gfdl_cols_qs_80_4p5_gr = reshape_cols(gfdl_qs_80_4p5_gr)\n",
    "\n",
    "hadgem_cols_qs_20_4p5_gr = reshape_cols(hadgem_qs_20_4p5_gr)\n",
    "hadgem_cols_qs_40_4p5_gr = reshape_cols(hadgem_qs_40_4p5_gr)\n",
    "hadgem_cols_qs_60_4p5_gr = reshape_cols(hadgem_qs_60_4p5_gr)\n",
    "hadgem_cols_qs_80_4p5_gr = reshape_cols(hadgem_qs_80_4p5_gr)\n",
    "\n",
    "ipsl_cols_qs_20_4p5_gr = reshape_cols(ipsl_qs_20_4p5_gr)\n",
    "ipsl_cols_qs_40_4p5_gr = reshape_cols(ipsl_qs_40_4p5_gr)\n",
    "ipsl_cols_qs_60_4p5_gr = reshape_cols(ipsl_qs_60_4p5_gr)\n",
    "ipsl_cols_qs_80_4p5_gr = reshape_cols(ipsl_qs_80_4p5_gr)\n",
    "\n",
    "miroc_cols_qs_20_4p5_gr = reshape_cols(miroc_qs_20_4p5_gr)\n",
    "miroc_cols_qs_40_4p5_gr = reshape_cols(miroc_qs_40_4p5_gr)\n",
    "miroc_cols_qs_60_4p5_gr = reshape_cols(miroc_qs_60_4p5_gr)\n",
    "miroc_cols_qs_80_4p5_gr = reshape_cols(miroc_qs_80_4p5_gr)\n",
    "\n",
    "noresm_cols_qs_20_4p5_gr = reshape_cols(noresm_qs_20_4p5_gr)\n",
    "noresm_cols_qs_40_4p5_gr = reshape_cols(noresm_qs_40_4p5_gr)\n",
    "noresm_cols_qs_60_4p5_gr = reshape_cols(noresm_qs_60_4p5_gr)\n",
    "noresm_cols_qs_80_4p5_gr = reshape_cols(noresm_qs_80_4p5_gr)"
   ]
  },
  {
   "cell_type": "code",
   "execution_count": 39,
   "metadata": {},
   "outputs": [],
   "source": [
    "gfdl_cols_qs_20_8p5_gr = reshape_cols(gfdl_qs_20_8p5_gr)\n",
    "gfdl_cols_qs_40_8p5_gr = reshape_cols(gfdl_qs_40_8p5_gr)\n",
    "gfdl_cols_qs_60_8p5_gr = reshape_cols(gfdl_qs_60_8p5_gr)\n",
    "gfdl_cols_qs_80_8p5_gr = reshape_cols(gfdl_qs_80_8p5_gr)\n",
    "\n",
    "hadgem_cols_qs_20_8p5_gr = reshape_cols(hadgem_qs_20_8p5_gr)\n",
    "hadgem_cols_qs_40_8p5_gr = reshape_cols(hadgem_qs_40_8p5_gr)\n",
    "hadgem_cols_qs_60_8p5_gr = reshape_cols(hadgem_qs_60_8p5_gr)\n",
    "hadgem_cols_qs_80_8p5_gr = reshape_cols(hadgem_qs_80_8p5_gr)\n",
    "\n",
    "ipsl_cols_qs_20_8p5_gr = reshape_cols(ipsl_qs_20_8p5_gr)\n",
    "ipsl_cols_qs_40_8p5_gr = reshape_cols(ipsl_qs_40_8p5_gr)\n",
    "ipsl_cols_qs_60_8p5_gr = reshape_cols(ipsl_qs_60_8p5_gr)\n",
    "ipsl_cols_qs_80_8p5_gr = reshape_cols(ipsl_qs_80_8p5_gr)\n",
    "\n",
    "miroc_cols_qs_20_8p5_gr = reshape_cols(miroc_qs_20_8p5_gr)\n",
    "miroc_cols_qs_40_8p5_gr = reshape_cols(miroc_qs_40_8p5_gr)\n",
    "miroc_cols_qs_60_8p5_gr = reshape_cols(miroc_qs_60_8p5_gr)\n",
    "miroc_cols_qs_80_8p5_gr = reshape_cols(miroc_qs_80_8p5_gr)\n",
    "\n",
    "noresm_cols_qs_20_8p5_gr = reshape_cols(noresm_qs_20_8p5_gr)\n",
    "noresm_cols_qs_40_8p5_gr = reshape_cols(noresm_qs_40_8p5_gr)\n",
    "noresm_cols_qs_60_8p5_gr = reshape_cols(noresm_qs_60_8p5_gr)\n",
    "noresm_cols_qs_80_8p5_gr = reshape_cols(noresm_qs_80_8p5_gr)"
   ]
  },
  {
   "cell_type": "markdown",
   "metadata": {},
   "source": [
    "## Combine datasets to get combined loads"
   ]
  },
  {
   "cell_type": "markdown",
   "metadata": {},
   "source": [
    "### Mean daily water discharge, RCP4.5"
   ]
  },
  {
   "cell_type": "code",
   "execution_count": 40,
   "metadata": {},
   "outputs": [],
   "source": [
    "gfdl_mean_cols_qw_cr = gfdl_mean_cols_qw_gr + gfdl_mean_cols_qw_br\n",
    "gfdl_cols_qw_20_4p5_cr = gfdl_cols_qw_20_4p5_gr + gfdl_cols_qw_20_4p5_br\n",
    "gfdl_cols_qw_40_4p5_cr = gfdl_cols_qw_40_4p5_gr + gfdl_cols_qw_40_4p5_br\n",
    "gfdl_cols_qw_60_4p5_cr = gfdl_cols_qw_60_4p5_gr + gfdl_cols_qw_60_4p5_br\n",
    "gfdl_cols_qw_80_4p5_cr = gfdl_cols_qw_80_4p5_gr + gfdl_cols_qw_80_4p5_br\n",
    "\n",
    "hadgem_mean_cols_qw_cr = hadgem_mean_cols_qw_gr + hadgem_mean_cols_qw_br\n",
    "hadgem_cols_qw_20_4p5_cr = hadgem_cols_qw_20_4p5_gr + hadgem_cols_qw_20_4p5_br\n",
    "hadgem_cols_qw_40_4p5_cr = hadgem_cols_qw_40_4p5_gr + hadgem_cols_qw_40_4p5_br\n",
    "hadgem_cols_qw_60_4p5_cr = hadgem_cols_qw_60_4p5_gr + hadgem_cols_qw_60_4p5_br\n",
    "hadgem_cols_qw_80_4p5_cr = hadgem_cols_qw_80_4p5_gr + hadgem_cols_qw_80_4p5_br\n",
    "\n",
    "ipsl_mean_cols_qw_cr = ipsl_mean_cols_qw_gr + ipsl_mean_cols_qw_br\n",
    "ipsl_cols_qw_20_4p5_cr = ipsl_cols_qw_20_4p5_gr + ipsl_cols_qw_20_4p5_br\n",
    "ipsl_cols_qw_40_4p5_cr = ipsl_cols_qw_40_4p5_gr + ipsl_cols_qw_40_4p5_br\n",
    "ipsl_cols_qw_60_4p5_cr = ipsl_cols_qw_60_4p5_gr + ipsl_cols_qw_60_4p5_br\n",
    "ipsl_cols_qw_80_4p5_cr = ipsl_cols_qw_80_4p5_gr + ipsl_cols_qw_80_4p5_br\n",
    "\n",
    "miroc_mean_cols_qw_cr = miroc_mean_cols_qw_gr + miroc_mean_cols_qw_br\n",
    "miroc_cols_qw_20_4p5_cr = miroc_cols_qw_20_4p5_gr + miroc_cols_qw_20_4p5_br\n",
    "miroc_cols_qw_40_4p5_cr = miroc_cols_qw_40_4p5_gr + miroc_cols_qw_40_4p5_br\n",
    "miroc_cols_qw_60_4p5_cr = miroc_cols_qw_60_4p5_gr + miroc_cols_qw_60_4p5_br\n",
    "miroc_cols_qw_80_4p5_cr = miroc_cols_qw_80_4p5_gr + miroc_cols_qw_80_4p5_br\n",
    "\n",
    "noresm_mean_cols_qw_cr = noresm_mean_cols_qw_gr + noresm_mean_cols_qw_br\n",
    "noresm_cols_qw_20_4p5_cr = noresm_cols_qw_20_4p5_gr + noresm_cols_qw_20_4p5_br\n",
    "noresm_cols_qw_40_4p5_cr = noresm_cols_qw_40_4p5_gr + noresm_cols_qw_40_4p5_br\n",
    "noresm_cols_qw_60_4p5_cr = noresm_cols_qw_60_4p5_gr + noresm_cols_qw_60_4p5_br\n",
    "noresm_cols_qw_80_4p5_cr = noresm_cols_qw_80_4p5_gr + noresm_cols_qw_80_4p5_br"
   ]
  },
  {
   "cell_type": "markdown",
   "metadata": {},
   "source": [
    "### Mean daily water discharge, RCP8.5"
   ]
  },
  {
   "cell_type": "code",
   "execution_count": 41,
   "metadata": {},
   "outputs": [],
   "source": [
    "gfdl_mean_cols_qw_cr = gfdl_mean_cols_qw_gr + gfdl_mean_cols_qw_br\n",
    "gfdl_cols_qw_20_8p5_cr = gfdl_cols_qw_20_8p5_gr + gfdl_cols_qw_20_8p5_br\n",
    "gfdl_cols_qw_40_8p5_cr = gfdl_cols_qw_40_8p5_gr + gfdl_cols_qw_40_8p5_br\n",
    "gfdl_cols_qw_60_8p5_cr = gfdl_cols_qw_60_8p5_gr + gfdl_cols_qw_60_8p5_br\n",
    "gfdl_cols_qw_80_8p5_cr = gfdl_cols_qw_80_8p5_gr + gfdl_cols_qw_80_8p5_br\n",
    "\n",
    "hadgem_mean_cols_qw_cr = hadgem_mean_cols_qw_gr + hadgem_mean_cols_qw_br\n",
    "hadgem_cols_qw_20_8p5_cr = hadgem_cols_qw_20_8p5_gr + hadgem_cols_qw_20_8p5_br\n",
    "hadgem_cols_qw_40_8p5_cr = hadgem_cols_qw_40_8p5_gr + hadgem_cols_qw_40_8p5_br\n",
    "hadgem_cols_qw_60_8p5_cr = hadgem_cols_qw_60_8p5_gr + hadgem_cols_qw_60_8p5_br\n",
    "hadgem_cols_qw_80_8p5_cr = hadgem_cols_qw_80_8p5_gr + hadgem_cols_qw_80_8p5_br\n",
    "\n",
    "ipsl_mean_cols_qw_cr = ipsl_mean_cols_qw_gr + ipsl_mean_cols_qw_br\n",
    "ipsl_cols_qw_20_8p5_cr = ipsl_cols_qw_20_8p5_gr + ipsl_cols_qw_20_8p5_br\n",
    "ipsl_cols_qw_40_8p5_cr = ipsl_cols_qw_40_8p5_gr + ipsl_cols_qw_40_8p5_br\n",
    "ipsl_cols_qw_60_8p5_cr = ipsl_cols_qw_60_8p5_gr + ipsl_cols_qw_60_8p5_br\n",
    "ipsl_cols_qw_80_8p5_cr = ipsl_cols_qw_80_8p5_gr + ipsl_cols_qw_80_8p5_br\n",
    "\n",
    "miroc_mean_cols_qw_cr = miroc_mean_cols_qw_gr + miroc_mean_cols_qw_br\n",
    "miroc_cols_qw_20_8p5_cr = miroc_cols_qw_20_8p5_gr + miroc_cols_qw_20_8p5_br\n",
    "miroc_cols_qw_40_8p5_cr = miroc_cols_qw_40_8p5_gr + miroc_cols_qw_40_8p5_br\n",
    "miroc_cols_qw_60_8p5_cr = miroc_cols_qw_60_8p5_gr + miroc_cols_qw_60_8p5_br\n",
    "miroc_cols_qw_80_8p5_cr = miroc_cols_qw_80_8p5_gr + miroc_cols_qw_80_8p5_br\n",
    "\n",
    "noresm_mean_cols_qw_cr = noresm_mean_cols_qw_gr + noresm_mean_cols_qw_br\n",
    "noresm_cols_qw_20_8p5_cr = noresm_cols_qw_20_8p5_gr + noresm_cols_qw_20_8p5_br\n",
    "noresm_cols_qw_40_8p5_cr = noresm_cols_qw_40_8p5_gr + noresm_cols_qw_40_8p5_br\n",
    "noresm_cols_qw_60_8p5_cr = noresm_cols_qw_60_8p5_gr + noresm_cols_qw_60_8p5_br\n",
    "noresm_cols_qw_80_8p5_cr = noresm_cols_qw_80_8p5_gr + noresm_cols_qw_80_8p5_br"
   ]
  },
  {
   "cell_type": "markdown",
   "metadata": {},
   "source": [
    "### Mean daily sediment discharge, RCP4.5"
   ]
  },
  {
   "cell_type": "code",
   "execution_count": 42,
   "metadata": {},
   "outputs": [],
   "source": [
    "gfdl_mean_cols_qs_cr = gfdl_mean_cols_qs_gr + gfdl_mean_cols_qs_br\n",
    "gfdl_cols_qs_20_4p5_cr = gfdl_cols_qs_20_4p5_gr + gfdl_cols_qs_20_4p5_br\n",
    "gfdl_cols_qs_40_4p5_cr = gfdl_cols_qs_40_4p5_gr + gfdl_cols_qs_40_4p5_br\n",
    "gfdl_cols_qs_60_4p5_cr = gfdl_cols_qs_60_4p5_gr + gfdl_cols_qs_60_4p5_br\n",
    "gfdl_cols_qs_80_4p5_cr = gfdl_cols_qs_80_4p5_gr + gfdl_cols_qs_80_4p5_br\n",
    "\n",
    "hadgem_mean_cols_qs_cr = hadgem_mean_cols_qs_gr + hadgem_mean_cols_qs_br\n",
    "hadgem_cols_qs_20_4p5_cr = hadgem_cols_qs_20_4p5_gr + hadgem_cols_qs_20_4p5_br\n",
    "hadgem_cols_qs_40_4p5_cr = hadgem_cols_qs_40_4p5_gr + hadgem_cols_qs_40_4p5_br\n",
    "hadgem_cols_qs_60_4p5_cr = hadgem_cols_qs_60_4p5_gr + hadgem_cols_qs_60_4p5_br\n",
    "hadgem_cols_qs_80_4p5_cr = hadgem_cols_qs_80_4p5_gr + hadgem_cols_qs_80_4p5_br\n",
    "\n",
    "ipsl_mean_cols_qs_cr = ipsl_mean_cols_qs_gr + ipsl_mean_cols_qs_br\n",
    "ipsl_cols_qs_20_4p5_cr = ipsl_cols_qs_20_4p5_gr + ipsl_cols_qs_20_4p5_br\n",
    "ipsl_cols_qs_40_4p5_cr = ipsl_cols_qs_40_4p5_gr + ipsl_cols_qs_40_4p5_br\n",
    "ipsl_cols_qs_60_4p5_cr = ipsl_cols_qs_60_4p5_gr + ipsl_cols_qs_60_4p5_br\n",
    "ipsl_cols_qs_80_4p5_cr = ipsl_cols_qs_80_4p5_gr + ipsl_cols_qs_80_4p5_br\n",
    "\n",
    "miroc_mean_cols_qs_cr = miroc_mean_cols_qs_gr + miroc_mean_cols_qs_br\n",
    "miroc_cols_qs_20_4p5_cr = miroc_cols_qs_20_4p5_gr + miroc_cols_qs_20_4p5_br\n",
    "miroc_cols_qs_40_4p5_cr = miroc_cols_qs_40_4p5_gr + miroc_cols_qs_40_4p5_br\n",
    "miroc_cols_qs_60_4p5_cr = miroc_cols_qs_60_4p5_gr + miroc_cols_qs_60_4p5_br\n",
    "miroc_cols_qs_80_4p5_cr = miroc_cols_qs_80_4p5_gr + miroc_cols_qs_80_4p5_br\n",
    "\n",
    "noresm_mean_cols_qs_cr = noresm_mean_cols_qs_gr + noresm_mean_cols_qs_br\n",
    "noresm_cols_qs_20_4p5_cr = noresm_cols_qs_20_4p5_gr + noresm_cols_qs_20_4p5_br\n",
    "noresm_cols_qs_40_4p5_cr = noresm_cols_qs_40_4p5_gr + noresm_cols_qs_40_4p5_br\n",
    "noresm_cols_qs_60_4p5_cr = noresm_cols_qs_60_4p5_gr + noresm_cols_qs_60_4p5_br\n",
    "noresm_cols_qs_80_4p5_cr = noresm_cols_qs_80_4p5_gr + noresm_cols_qs_80_4p5_br"
   ]
  },
  {
   "cell_type": "markdown",
   "metadata": {},
   "source": [
    "### Mean daily sediment discharge, RCP8.5"
   ]
  },
  {
   "cell_type": "code",
   "execution_count": 43,
   "metadata": {},
   "outputs": [],
   "source": [
    "gfdl_mean_cols_qs_cr = gfdl_mean_cols_qs_gr + gfdl_mean_cols_qs_br\n",
    "gfdl_cols_qs_20_8p5_cr = gfdl_cols_qs_20_8p5_gr + gfdl_cols_qs_20_8p5_br\n",
    "gfdl_cols_qs_40_8p5_cr = gfdl_cols_qs_40_8p5_gr + gfdl_cols_qs_40_8p5_br\n",
    "gfdl_cols_qs_60_8p5_cr = gfdl_cols_qs_60_8p5_gr + gfdl_cols_qs_60_8p5_br\n",
    "gfdl_cols_qs_80_8p5_cr = gfdl_cols_qs_80_8p5_gr + gfdl_cols_qs_80_8p5_br\n",
    "\n",
    "hadgem_mean_cols_qs_cr = hadgem_mean_cols_qs_gr + hadgem_mean_cols_qs_br\n",
    "hadgem_cols_qs_20_8p5_cr = hadgem_cols_qs_20_8p5_gr + hadgem_cols_qs_20_8p5_br\n",
    "hadgem_cols_qs_40_8p5_cr = hadgem_cols_qs_40_8p5_gr + hadgem_cols_qs_40_8p5_br\n",
    "hadgem_cols_qs_60_8p5_cr = hadgem_cols_qs_60_8p5_gr + hadgem_cols_qs_60_8p5_br\n",
    "hadgem_cols_qs_80_8p5_cr = hadgem_cols_qs_80_8p5_gr + hadgem_cols_qs_80_8p5_br\n",
    "\n",
    "ipsl_mean_cols_qs_cr = ipsl_mean_cols_qs_gr + ipsl_mean_cols_qs_br\n",
    "ipsl_cols_qs_20_8p5_cr = ipsl_cols_qs_20_8p5_gr + ipsl_cols_qs_20_8p5_br\n",
    "ipsl_cols_qs_40_8p5_cr = ipsl_cols_qs_40_8p5_gr + ipsl_cols_qs_40_8p5_br\n",
    "ipsl_cols_qs_60_8p5_cr = ipsl_cols_qs_60_8p5_gr + ipsl_cols_qs_60_8p5_br\n",
    "ipsl_cols_qs_80_8p5_cr = ipsl_cols_qs_80_8p5_gr + ipsl_cols_qs_80_8p5_br\n",
    "\n",
    "miroc_mean_cols_qs_cr = miroc_mean_cols_qs_gr + miroc_mean_cols_qs_br\n",
    "miroc_cols_qs_20_8p5_cr = miroc_cols_qs_20_8p5_gr + miroc_cols_qs_20_8p5_br\n",
    "miroc_cols_qs_40_8p5_cr = miroc_cols_qs_40_8p5_gr + miroc_cols_qs_40_8p5_br\n",
    "miroc_cols_qs_60_8p5_cr = miroc_cols_qs_60_8p5_gr + miroc_cols_qs_60_8p5_br\n",
    "miroc_cols_qs_80_8p5_cr = miroc_cols_qs_80_8p5_gr + miroc_cols_qs_80_8p5_br\n",
    "\n",
    "noresm_mean_cols_qs_cr = noresm_mean_cols_qs_gr + noresm_mean_cols_qs_br\n",
    "noresm_cols_qs_20_8p5_cr = noresm_cols_qs_20_8p5_gr + noresm_cols_qs_20_8p5_br\n",
    "noresm_cols_qs_40_8p5_cr = noresm_cols_qs_40_8p5_gr + noresm_cols_qs_40_8p5_br\n",
    "noresm_cols_qs_60_8p5_cr = noresm_cols_qs_60_8p5_gr + noresm_cols_qs_60_8p5_br\n",
    "noresm_cols_qs_80_8p5_cr = noresm_cols_qs_80_8p5_gr + noresm_cols_qs_80_8p5_br"
   ]
  },
  {
   "cell_type": "markdown",
   "metadata": {},
   "source": [
    "### Determine max water discharge and percent increase"
   ]
  },
  {
   "cell_type": "code",
   "execution_count": 44,
   "metadata": {},
   "outputs": [
    {
     "name": "stdout",
     "output_type": "stream",
     "text": [
      "GFDL: Day of Peak Qw: 222 (reference), 216 (EOC, RCP4P5), and 200 (EOC, RCP8P5)\n",
      "HadGEM: Day of Peak Qw: 229 (reference), 225 (EOC, RCP4P5), and 220 (EOC, RCP8P5)\n",
      "IPSL: Day of Peak Qw: 217 (reference), 218 (EOC, RCP4P5), and 217 (EOC, RCP8P5)\n",
      "MIROC: Day of Peak Qw: 214 (reference), 202 (EOC, RCP4P5), and 224 (EOC, RCP8P5)\n",
      "NORESM: Day of Peak Qw: 203 (reference), 195 (EOC, RCP4P5), and 215 (EOC, RCP8P5)\n",
      "Average: 217.0 (reference), 211.2 (EOC, RCP4P5), and 215.2 (EOC, RCP8P5)\n"
     ]
    }
   ],
   "source": [
    "print('GFDL: Day of Peak Qw: {} (reference), {} (EOC, RCP4P5), and {} (EOC, RCP8P5)'.format(np.nanargmax(gfdl_mean_cols_qw_cr), np.nanargmax(gfdl_cols_qw_80_4p5_cr), np.nanargmax(gfdl_cols_qw_80_8p5_cr)))\n",
    "print('HadGEM: Day of Peak Qw: {} (reference), {} (EOC, RCP4P5), and {} (EOC, RCP8P5)'.format(np.nanargmax(hadgem_mean_cols_qw_cr), np.nanargmax(hadgem_cols_qw_80_4p5_cr), np.nanargmax(hadgem_cols_qw_80_8p5_cr)))\n",
    "print('IPSL: Day of Peak Qw: {} (reference), {} (EOC, RCP4P5), and {} (EOC, RCP8P5)'.format(np.nanargmax(ipsl_mean_cols_qw_cr), np.nanargmax(ipsl_cols_qw_80_4p5_cr), np.nanargmax(ipsl_cols_qw_80_8p5_cr)))\n",
    "print('MIROC: Day of Peak Qw: {} (reference), {} (EOC, RCP4P5), and {} (EOC, RCP8P5)'.format(np.nanargmax(miroc_mean_cols_qw_cr), np.nanargmax(miroc_cols_qw_80_4p5_cr), np.nanargmax(miroc_cols_qw_80_8p5_cr)))\n",
    "print('NORESM: Day of Peak Qw: {} (reference), {} (EOC, RCP4P5), and {} (EOC, RCP8P5)'.format(np.nanargmax(noresm_mean_cols_qw_cr), np.nanargmax(noresm_cols_qw_80_4p5_cr), np.nanargmax(noresm_cols_qw_80_8p5_cr)))\n",
    "      \n",
    "avg_cols_qw_dop_ref_cr = (np.nanargmax(gfdl_mean_cols_qw_cr) + np.nanargmax(hadgem_mean_cols_qw_cr) + np.nanargmax(ipsl_mean_cols_qw_cr) + np.nanargmax(miroc_mean_cols_qw_cr) + np.nanargmax(noresm_mean_cols_qw_cr))/5\n",
    "avg_cols_qw_dop_80_4p5_cr = (np.nanargmax(gfdl_cols_qw_80_4p5_cr) + np.nanargmax(hadgem_cols_qw_80_4p5_cr) + np.nanargmax(ipsl_cols_qw_80_4p5_cr) + np.nanargmax(miroc_cols_qw_80_4p5_cr) + np.nanargmax(noresm_cols_qw_80_4p5_cr))/5\n",
    "avg_cols_qw_dop_80_8p5_cr = (np.nanargmax(gfdl_cols_qw_80_8p5_cr) + np.nanargmax(hadgem_cols_qw_80_8p5_cr) + np.nanargmax(ipsl_cols_qw_80_8p5_cr) + np.nanargmax(miroc_cols_qw_80_8p5_cr) + np.nanargmax(noresm_cols_qw_80_8p5_cr))/5\n",
    "print('Average: {} (reference), {} (EOC, RCP4P5), and {} (EOC, RCP8P5)'.format(avg_cols_qw_dop_ref_cr, avg_cols_qw_dop_80_4p5_cr, avg_cols_qw_dop_80_8p5_cr))"
   ]
  },
  {
   "cell_type": "code",
   "execution_count": 45,
   "metadata": {},
   "outputs": [],
   "source": [
    "def max_change(reference, EOC):\n",
    "    return (np.nanmax(EOC) - np.nanmax(reference))/np.nanmax(reference)*100"
   ]
  },
  {
   "cell_type": "code",
   "execution_count": 46,
   "metadata": {},
   "outputs": [
    {
     "name": "stdout",
     "output_type": "stream",
     "text": [
      "GFDL: Peak Qw increased 7.17 (RCP4.5) and 30.4 (RCP8.5) percent\n",
      "HadGEM: Peak Qw increased 40.0 (RCP4.5) and 62.0 (RCP8.5) percent\n",
      "IPSL: Peak Qw increased 9.21 (RCP4.5) and 9.97 (RCP8.5) percent\n",
      "MIROC: Peak Qw increased 23.4 (RCP4.5) and 38.3 (RCP8.5) percent\n",
      "NORESM: Peak Qw increased 41.2 (RCP4.5) and 37.8 (RCP8.5) percent\n",
      "Average: 24.2 (RCP4P5) and 35.7 (RCP8P5)\n"
     ]
    }
   ],
   "source": [
    "gfdl_max_change_qw_4p5_cr = max_change(gfdl_mean_cols_qw_cr, gfdl_cols_qw_80_4p5_cr)\n",
    "gfdl_max_change_qw_8p5_cr = max_change(gfdl_mean_cols_qw_cr, gfdl_cols_qw_80_8p5_cr)\n",
    "print('GFDL: Peak Qw increased {:.3} (RCP4.5) and {:.3} (RCP8.5) percent'.format(gfdl_max_change_qw_4p5_cr, gfdl_max_change_qw_8p5_cr))\n",
    "\n",
    "hadgem_max_change_qw_4p5_cr = max_change(hadgem_mean_cols_qw_cr, hadgem_cols_qw_80_4p5_cr)\n",
    "hadgem_max_change_qw_8p5_cr = max_change(hadgem_mean_cols_qw_cr, hadgem_cols_qw_80_8p5_cr)\n",
    "print('HadGEM: Peak Qw increased {:.3} (RCP4.5) and {:.3} (RCP8.5) percent'.format(hadgem_max_change_qw_4p5_cr, hadgem_max_change_qw_8p5_cr))\n",
    "\n",
    "ipsl_max_change_qw_4p5_cr = max_change(ipsl_mean_cols_qw_cr, ipsl_cols_qw_80_4p5_cr)\n",
    "ipsl_max_change_qw_8p5_cr = max_change(ipsl_mean_cols_qw_cr, ipsl_cols_qw_80_8p5_cr)\n",
    "print('IPSL: Peak Qw increased {:.3} (RCP4.5) and {:.3} (RCP8.5) percent'.format(ipsl_max_change_qw_4p5_cr, ipsl_max_change_qw_8p5_cr))\n",
    "\n",
    "miroc_max_change_qw_4p5_cr = max_change(miroc_mean_cols_qw_cr, miroc_cols_qw_80_4p5_cr)\n",
    "miroc_max_change_qw_8p5_cr = max_change(miroc_mean_cols_qw_cr, miroc_cols_qw_80_8p5_cr)\n",
    "print('MIROC: Peak Qw increased {:.3} (RCP4.5) and {:.3} (RCP8.5) percent'.format(miroc_max_change_qw_4p5_cr, miroc_max_change_qw_8p5_cr))\n",
    "\n",
    "noresm_max_change_qw_4p5_cr = max_change(noresm_mean_cols_qw_cr, noresm_cols_qw_80_4p5_cr)\n",
    "noresm_max_change_qw_8p5_cr = max_change(noresm_mean_cols_qw_cr, noresm_cols_qw_80_8p5_cr)\n",
    "print('NORESM: Peak Qw increased {:.3} (RCP4.5) and {:.3} (RCP8.5) percent'.format(noresm_max_change_qw_4p5_cr, noresm_max_change_qw_8p5_cr))\n",
    "\n",
    "avg_cols_qw_max_change_80_4p5_cr = (gfdl_max_change_qw_4p5_cr + hadgem_max_change_qw_4p5_cr + ipsl_max_change_qw_4p5_cr + miroc_max_change_qw_4p5_cr + noresm_max_change_qw_4p5_cr)/5\n",
    "avg_cols_qw_max_change_80_8p5_cr = (gfdl_max_change_qw_8p5_cr + hadgem_max_change_qw_8p5_cr + ipsl_max_change_qw_8p5_cr + miroc_max_change_qw_8p5_cr + noresm_max_change_qw_8p5_cr)/5\n",
    "print('Average: {:.4} (RCP4P5) and {:.4} (RCP8P5)'.format(avg_cols_qw_max_change_80_4p5_cr, avg_cols_qw_max_change_80_8p5_cr))"
   ]
  },
  {
   "cell_type": "markdown",
   "metadata": {},
   "source": [
    "### Determine min water discharge and percent increase"
   ]
  },
  {
   "cell_type": "code",
   "execution_count": 47,
   "metadata": {},
   "outputs": [],
   "source": [
    "def min_change(reference, EOC):\n",
    "    return (np.nanmin(EOC) - np.nanmin(reference))/np.nanmin(reference)*100"
   ]
  },
  {
   "cell_type": "code",
   "execution_count": 48,
   "metadata": {},
   "outputs": [
    {
     "name": "stdout",
     "output_type": "stream",
     "text": [
      "GFDL: Min Qw increased 1.05 (RCP4.5) and 1.01 (RCP8.5) percent\n",
      "HadGEM: Min Qw increased 0.00497 (RCP4.5) and 0.143 (RCP8.5) percent\n",
      "IPSL: Min Qw increased -0.157 (RCP4.5) and 0.153 (RCP8.5) percent\n",
      "MIROC: Min Qw increased 0.736 (RCP4.5) and 3.02 (RCP8.5) percent\n",
      "NORESM: Min Qw increased 2.36 (RCP4.5) and 0.967 (RCP8.5) percent\n"
     ]
    }
   ],
   "source": [
    "gfdl_min_change_qw_4p5_cr = min_change(gfdl_mean_cols_qw_cr, gfdl_cols_qw_80_4p5_cr)\n",
    "gfdl_min_change_qw_8p5_cr = min_change(gfdl_mean_cols_qw_cr, gfdl_cols_qw_80_8p5_cr)\n",
    "print('GFDL: Min Qw increased {:.3} (RCP4.5) and {:.3} (RCP8.5) percent'.format(gfdl_min_change_qw_4p5_cr, gfdl_min_change_qw_8p5_cr))\n",
    "\n",
    "hadgem_min_change_qw_4p5_cr = min_change(hadgem_mean_cols_qw_cr, hadgem_cols_qw_80_4p5_cr)\n",
    "hadgem_min_change_qw_8p5_cr = min_change(hadgem_mean_cols_qw_cr, hadgem_cols_qw_80_8p5_cr)\n",
    "print('HadGEM: Min Qw increased {:.3} (RCP4.5) and {:.3} (RCP8.5) percent'.format(hadgem_min_change_qw_4p5_cr, hadgem_min_change_qw_8p5_cr))\n",
    "\n",
    "ipsl_min_change_qw_4p5_cr = min_change(ipsl_mean_cols_qw_cr, ipsl_cols_qw_80_4p5_cr)\n",
    "ipsl_min_change_qw_8p5_cr = min_change(ipsl_mean_cols_qw_cr, ipsl_cols_qw_80_8p5_cr)\n",
    "print('IPSL: Min Qw increased {:.3} (RCP4.5) and {:.3} (RCP8.5) percent'.format(ipsl_min_change_qw_4p5_cr, ipsl_min_change_qw_8p5_cr))\n",
    "\n",
    "miroc_min_change_qw_4p5_cr = min_change(miroc_mean_cols_qw_cr, miroc_cols_qw_80_4p5_cr)\n",
    "miroc_min_change_qw_8p5_cr = min_change(miroc_mean_cols_qw_cr, miroc_cols_qw_80_8p5_cr)\n",
    "print('MIROC: Min Qw increased {:.3} (RCP4.5) and {:.3} (RCP8.5) percent'.format(miroc_min_change_qw_4p5_cr, miroc_min_change_qw_8p5_cr))\n",
    "\n",
    "noresm_min_change_qw_4p5_cr = min_change(noresm_mean_cols_qw_cr, noresm_cols_qw_80_4p5_cr)\n",
    "noresm_min_change_qw_8p5_cr = min_change(noresm_mean_cols_qw_cr, noresm_cols_qw_80_8p5_cr)\n",
    "print('NORESM: Min Qw increased {:.3} (RCP4.5) and {:.3} (RCP8.5) percent'.format(noresm_min_change_qw_4p5_cr, noresm_min_change_qw_8p5_cr))"
   ]
  },
  {
   "cell_type": "markdown",
   "metadata": {},
   "source": [
    "### Determine when peak discharge occurs"
   ]
  },
  {
   "cell_type": "code",
   "execution_count": 49,
   "metadata": {},
   "outputs": [],
   "source": [
    "def peak_shift(reference, EOC):\n",
    "    return np.nanargmax(reference, axis = 0) - np.nanargmax(EOC, axis = 0)"
   ]
  },
  {
   "cell_type": "code",
   "execution_count": 50,
   "metadata": {},
   "outputs": [
    {
     "name": "stdout",
     "output_type": "stream",
     "text": [
      "GFDL: Peak Qw arrived 6 (RCP4.5) and 22 (RCP8.5) days earlier in the year\n",
      "HadGEM: Peak Qw arrived 4 (RCP4.5) and 9 (RCP8.5) days earlier in the year\n",
      "IPSL: Peak Qw arrived -1 (RCP4.5) and 0 (RCP8.5) days earlier in the year\n",
      "MIROC: Peak Qw arrived 12 (RCP4.5) and -10 (RCP8.5) days earlier in the year\n",
      "NORESM: Peak Qw arrived 8 (RCP4.5) and -12 (RCP8.5) days earlier in the year\n",
      "Average: 5.8 (RCP4P5) and 1.8 (RCP8P5)\n"
     ]
    }
   ],
   "source": [
    "gfdl_peak_shift_qw_4p5_cr = peak_shift(gfdl_mean_cols_qw_cr, gfdl_cols_qw_80_4p5_cr)\n",
    "gfdl_peak_shift_qw_8p5_cr = peak_shift(gfdl_mean_cols_qw_cr, gfdl_cols_qw_80_8p5_cr)\n",
    "print('GFDL: Peak Qw arrived {} (RCP4.5) and {} (RCP8.5) days earlier in the year'.format(gfdl_peak_shift_qw_4p5_cr, gfdl_peak_shift_qw_8p5_cr))\n",
    "\n",
    "hadgem_peak_shift_qw_4p5_cr = peak_shift(hadgem_mean_cols_qw_cr, hadgem_cols_qw_80_4p5_cr)\n",
    "hadgem_peak_shift_qw_8p5_cr = peak_shift(hadgem_mean_cols_qw_cr, hadgem_cols_qw_80_8p5_cr)\n",
    "print('HadGEM: Peak Qw arrived {} (RCP4.5) and {} (RCP8.5) days earlier in the year'.format(hadgem_peak_shift_qw_4p5_cr, hadgem_peak_shift_qw_8p5_cr))\n",
    "\n",
    "ipsl_peak_shift_qw_4p5_cr = peak_shift(ipsl_mean_cols_qw_cr, ipsl_cols_qw_80_4p5_cr)\n",
    "ipsl_peak_shift_qw_8p5_cr = peak_shift(ipsl_mean_cols_qw_cr, ipsl_cols_qw_80_8p5_cr)\n",
    "print('IPSL: Peak Qw arrived {} (RCP4.5) and {} (RCP8.5) days earlier in the year'.format(ipsl_peak_shift_qw_4p5_cr, ipsl_peak_shift_qw_8p5_cr))\n",
    "\n",
    "miroc_peak_shift_qw_4p5_cr = peak_shift(miroc_mean_cols_qw_cr, miroc_cols_qw_80_4p5_cr)\n",
    "miroc_peak_shift_qw_8p5_cr = peak_shift(miroc_mean_cols_qw_cr, miroc_cols_qw_80_8p5_cr)\n",
    "print('MIROC: Peak Qw arrived {} (RCP4.5) and {} (RCP8.5) days earlier in the year'.format(miroc_peak_shift_qw_4p5_cr, miroc_peak_shift_qw_8p5_cr))\n",
    "\n",
    "noresm_peak_shift_qw_4p5_cr = peak_shift(noresm_mean_cols_qw_cr, noresm_cols_qw_80_4p5_cr)\n",
    "noresm_peak_shift_qw_8p5_cr = peak_shift(noresm_mean_cols_qw_cr, noresm_cols_qw_80_8p5_cr)\n",
    "print('NORESM: Peak Qw arrived {} (RCP4.5) and {} (RCP8.5) days earlier in the year'.format(noresm_peak_shift_qw_4p5_cr, noresm_peak_shift_qw_8p5_cr))\n",
    "\n",
    "avg_cols_qw_shift_80_4p5_cr = (gfdl_peak_shift_qw_4p5_cr + hadgem_peak_shift_qw_4p5_cr + ipsl_peak_shift_qw_4p5_cr + miroc_peak_shift_qw_4p5_cr + noresm_peak_shift_qw_4p5_cr)/5\n",
    "avg_cols_qw_shift_80_8p5_cr = (gfdl_peak_shift_qw_8p5_cr + hadgem_peak_shift_qw_8p5_cr + ipsl_peak_shift_qw_8p5_cr + miroc_peak_shift_qw_8p5_cr + noresm_peak_shift_qw_8p5_cr)/5\n",
    "print('Average: {} (RCP4P5) and {} (RCP8P5)'.format(avg_cols_qw_shift_80_4p5_cr, avg_cols_qw_shift_80_8p5_cr))"
   ]
  },
  {
   "cell_type": "markdown",
   "metadata": {},
   "source": [
    "### Plot Obs. Vs. Sim. Mean Daily Discharge"
   ]
  },
  {
   "cell_type": "code",
   "execution_count": 51,
   "metadata": {},
   "outputs": [
    {
     "data": {
      "image/png": "[encoded data removed]",
      "text/plain": [
       "<Figure size 576x432 with 4 Axes>"
      ]
     },
     "metadata": {
      "needs_background": "light"
     },
     "output_type": "display_data"
    }
   ],
   "source": [
    "day_of_year = np.arange(1,366,1)\n",
    "\n",
    "fig, axs = plt.subplots(2,2, sharex = True, sharey = True, figsize = (8,6))\n",
    "axs[0,0].plot(day_of_year, gfdl_mean_cols_qw_cr, color = 'tab:orange', linestyle = 'solid', label = '2000, Reference')\n",
    "axs[0,0].plot(day_of_year, gfdl_cols_qw_80_4p5_cr, color = 'black', linestyle = 'dashed', label = '2080, RCP4P5')\n",
    "axs[0,0].plot(day_of_year, gfdl_cols_qw_80_8p5_cr, color = 'grey', linestyle = 'dashdot', label = '2080, RCP8P5')\n",
    "axs[0,0].set_title('GFDL-ESM2M', size = 14)\n",
    "axs[0,1].plot(day_of_year, hadgem_mean_cols_qw_cr, color = 'tab:orange', linestyle = 'solid')\n",
    "axs[0,1].plot(day_of_year, hadgem_cols_qw_80_4p5_cr, color = 'black', linestyle = 'dashed')\n",
    "axs[0,1].plot(day_of_year, hadgem_cols_qw_80_8p5_cr, color = 'grey', linestyle = 'dashdot')\n",
    "axs[0,1].set_title('HadGEM2', size = 14)\n",
    "axs[1,0].plot(day_of_year, miroc_mean_cols_qw_cr, color = 'tab:orange', linestyle = 'solid')\n",
    "axs[1,0].plot(day_of_year, miroc_cols_qw_80_4p5_cr, color = 'black', linestyle = 'dashed')\n",
    "axs[1,0].plot(day_of_year, miroc_cols_qw_80_8p5_cr, color = 'grey', linestyle = 'dashdot')\n",
    "axs[1,0].set_title('MIROC-ESM-CHEM', size = 14)\n",
    "axs[1,1].plot(day_of_year, noresm_mean_cols_qw_cr, color = 'tab:orange', linestyle = 'solid')\n",
    "axs[1,1].plot(day_of_year, noresm_cols_qw_80_4p5_cr, color = 'black', linestyle = 'dashed')\n",
    "axs[1,1].plot(day_of_year, noresm_cols_qw_80_8p5_cr, color = 'grey', linestyle = 'dashdot')\n",
    "axs[1,1].set_title('NORESM-M', size = 14)\n",
    "plt.tight_layout()\n",
    "axs[0,0].legend(loc = 'upper left')\n",
    "axs[0,0].set_ylim([0,170000])\n",
    "axs[0,0].set_xlim([0,365])\n",
    "fig.text(0.52, -0.02, 'Day of Year', ha='center', size = 14)\n",
    "fig.text(-.03, 0.5, 'Water Discharge ($m^3/s$)', va='center', rotation='vertical', size = 14)\n",
    "plt.savefig('/Users/aeckland/hydrotrend_gbmd/figures/v2/projections/combinedrivers_peakqw_thrutime.png', dpi = 300)\n",
    "plt.show()"
   ]
  },
  {
   "cell_type": "code",
   "execution_count": 52,
   "metadata": {},
   "outputs": [
    {
     "data": {
      "image/png": "[encoded data removed]",
      "text/plain": [
       "<Figure size 576x432 with 4 Axes>"
      ]
     },
     "metadata": {
      "needs_background": "light"
     },
     "output_type": "display_data"
    }
   ],
   "source": [
    "day_of_year = np.arange(1,366,1)\n",
    "\n",
    "fig, axs = plt.subplots(2,2, sharex = True, sharey = True, figsize = (8,6))\n",
    "axs[0,0].plot(day_of_year, gfdl_mean_cols_qs_cr, color = 'tab:brown', linestyle = 'solid', label = '2000, Reference')\n",
    "axs[0,0].plot(day_of_year, gfdl_cols_qs_80_4p5_cr, color = 'black', linestyle = 'dashed', label = '2080, RCP4P5')\n",
    "axs[0,0].plot(day_of_year, gfdl_cols_qs_80_8p5_cr, color = 'grey', linestyle = 'dashdot', label = '2080, RCP8P5')\n",
    "axs[0,0].set_title('GFDL-ESM2M', size = 14)\n",
    "axs[0,1].plot(day_of_year, hadgem_mean_cols_qs_cr, color = 'tab:brown', linestyle = 'solid')\n",
    "axs[0,1].plot(day_of_year, hadgem_cols_qs_80_4p5_cr, color = 'black', linestyle = 'dashed')\n",
    "axs[0,1].plot(day_of_year, hadgem_cols_qs_80_8p5_cr, color = 'grey', linestyle = 'dashdot')\n",
    "axs[0,1].set_title('HadGEM2', size = 14)\n",
    "axs[1,0].plot(day_of_year, miroc_mean_cols_qs_cr, color = 'tab:brown', linestyle = 'solid')\n",
    "axs[1,0].plot(day_of_year, miroc_cols_qs_80_4p5_cr, color = 'black', linestyle = 'dashed')\n",
    "axs[1,0].plot(day_of_year, miroc_cols_qs_80_8p5_cr, color = 'grey', linestyle = 'dashdot')\n",
    "axs[1,0].set_title('MIROC-ESM-CHEM', size = 14)\n",
    "axs[1,1].plot(day_of_year, noresm_mean_cols_qs_cr, color = 'tab:brown', linestyle = 'solid')\n",
    "axs[1,1].plot(day_of_year, noresm_cols_qs_80_4p5_cr, color = 'black', linestyle = 'dashed')\n",
    "axs[1,1].plot(day_of_year, noresm_cols_qs_80_8p5_cr, color = 'grey', linestyle = 'dashdot')\n",
    "axs[1,1].set_title('NORESM-M', size = 14)\n",
    "plt.tight_layout()\n",
    "axs[0,0].legend(loc = 'upper left')\n",
    "fig.text(0.52, -0.02, 'Day of Year', ha='center', size = 14)\n",
    "fig.text(-.02, 0.5, 'Sediment Discharge ($kg/s$)', va='center', rotation='vertical', size = 14)\n",
    "plt.savefig('/Users/aeckland/hydrotrend_gbmd/figures/v2/projections/combinedrivers_peakqs_thrutime.png', dpi = 300)\n",
    "plt.show()"
   ]
  },
  {
   "cell_type": "code",
   "execution_count": null,
   "metadata": {},
   "outputs": [],
   "source": []
  }
 ],
 "metadata": {
  "kernelspec": {
   "display_name": "Python 3",
   "language": "python",
   "name": "python3"
  },
  "language_info": {
   "codemirror_mode": {
    "name": "ipython",
    "version": 3
   },
   "file_extension": ".py",
   "mimetype": "text/x-python",
   "name": "python",
   "nbconvert_exporter": "python",
   "pygments_lexer": "ipython3",
   "version": "3.7.7"
  }
 },
 "nbformat": 4,
 "nbformat_minor": 4
}
