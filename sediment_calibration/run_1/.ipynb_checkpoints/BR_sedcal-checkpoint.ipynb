{
 "cells": [
  {
   "cell_type": "code",
   "execution_count": 1,
   "metadata": {},
   "outputs": [],
   "source": [
    "import numpy as np\n",
    "import pandas as pd\n",
    "import matplotlib.pyplot as plt"
   ]
  },
  {
   "cell_type": "markdown",
   "metadata": {},
   "source": [
    "This notebook compares observed water discharge and SSC data with HydroTrend outputs. There are two parts:\n",
    "\n",
    "**Part 1: Import observed data and generate rating curve**\n",
    "- Data was collected from April 2019-January 2020\n",
    "    - Discharge data was collected via boat and ADCP\n",
    "    - SSC was calculated from water bottle samples, averaged across 3 locations along a transect\n",
    "- Data are plotted as Water Discharge vs. SSC\n",
    "- A rating curve is generated using a power law function\n",
    "    \n",
    "**Part 2: Report Annual Qs values for each climate model**\n",
    "- The new rating curve is used to generate annual Qs from HydroTrend Qw outputs\n",
    "- The previously established rating curve is used to generate annual Qs from HydroTrend Qw outputs\n",
    "\n",
    "**Part 3: Compare new rating curve with established curve**\n",
    "- Compare Annual Qs results from the new rating curve and previously established rating curve "
   ]
  },
  {
   "cell_type": "markdown",
   "metadata": {},
   "source": [
    "## Part 1: Import observed data and generate rating curve"
   ]
  },
  {
   "cell_type": "code",
   "execution_count": 2,
   "metadata": {},
   "outputs": [
    {
     "data": {
      "text/html": [
       "<div>\n",
       "<style scoped>\n",
       "    .dataframe tbody tr th:only-of-type {\n",
       "        vertical-align: middle;\n",
       "    }\n",
       "\n",
       "    .dataframe tbody tr th {\n",
       "        vertical-align: top;\n",
       "    }\n",
       "\n",
       "    .dataframe thead th {\n",
       "        text-align: right;\n",
       "    }\n",
       "</style>\n",
       "<table border=\"1\" class=\"dataframe\">\n",
       "  <thead>\n",
       "    <tr style=\"text-align: right;\">\n",
       "      <th></th>\n",
       "      <th>Date</th>\n",
       "      <th>Discharge (m3/S)</th>\n",
       "      <th>SSC (mg/l)</th>\n",
       "    </tr>\n",
       "  </thead>\n",
       "  <tbody>\n",
       "    <tr>\n",
       "      <th>0</th>\n",
       "      <td>2019-04-12</td>\n",
       "      <td>6778</td>\n",
       "      <td>140.429</td>\n",
       "    </tr>\n",
       "    <tr>\n",
       "      <th>1</th>\n",
       "      <td>2019-04-29</td>\n",
       "      <td>7915</td>\n",
       "      <td>322.545</td>\n",
       "    </tr>\n",
       "    <tr>\n",
       "      <th>2</th>\n",
       "      <td>2019-05-25</td>\n",
       "      <td>17618</td>\n",
       "      <td>150.069</td>\n",
       "    </tr>\n",
       "    <tr>\n",
       "      <th>3</th>\n",
       "      <td>2019-06-17</td>\n",
       "      <td>19080</td>\n",
       "      <td>298.958</td>\n",
       "    </tr>\n",
       "    <tr>\n",
       "      <th>4</th>\n",
       "      <td>2019-07-01</td>\n",
       "      <td>39962</td>\n",
       "      <td>407.170</td>\n",
       "    </tr>\n",
       "    <tr>\n",
       "      <th>5</th>\n",
       "      <td>2019-07-12</td>\n",
       "      <td>53741</td>\n",
       "      <td>1585.414</td>\n",
       "    </tr>\n",
       "    <tr>\n",
       "      <th>6</th>\n",
       "      <td>2019-07-25</td>\n",
       "      <td>69111</td>\n",
       "      <td>711.938</td>\n",
       "    </tr>\n",
       "    <tr>\n",
       "      <th>7</th>\n",
       "      <td>2019-08-05</td>\n",
       "      <td>50188</td>\n",
       "      <td>553.188</td>\n",
       "    </tr>\n",
       "    <tr>\n",
       "      <th>8</th>\n",
       "      <td>2019-08-19</td>\n",
       "      <td>36832</td>\n",
       "      <td>679.325</td>\n",
       "    </tr>\n",
       "    <tr>\n",
       "      <th>9</th>\n",
       "      <td>2019-09-04</td>\n",
       "      <td>24988</td>\n",
       "      <td>411.524</td>\n",
       "    </tr>\n",
       "    <tr>\n",
       "      <th>10</th>\n",
       "      <td>2019-10-08</td>\n",
       "      <td>28258</td>\n",
       "      <td>548.436</td>\n",
       "    </tr>\n",
       "    <tr>\n",
       "      <th>11</th>\n",
       "      <td>2019-11-06</td>\n",
       "      <td>14470</td>\n",
       "      <td>252.080</td>\n",
       "    </tr>\n",
       "    <tr>\n",
       "      <th>12</th>\n",
       "      <td>2019-11-22</td>\n",
       "      <td>9515</td>\n",
       "      <td>175.567</td>\n",
       "    </tr>\n",
       "    <tr>\n",
       "      <th>13</th>\n",
       "      <td>2019-12-24</td>\n",
       "      <td>6497</td>\n",
       "      <td>165.642</td>\n",
       "    </tr>\n",
       "    <tr>\n",
       "      <th>14</th>\n",
       "      <td>2020-01-07</td>\n",
       "      <td>6597</td>\n",
       "      <td>30.541</td>\n",
       "    </tr>\n",
       "    <tr>\n",
       "      <th>15</th>\n",
       "      <td>2020-01-22</td>\n",
       "      <td>4888</td>\n",
       "      <td>78.580</td>\n",
       "    </tr>\n",
       "  </tbody>\n",
       "</table>\n",
       "</div>"
      ],
      "text/plain": [
       "         Date  Discharge (m3/S)  SSC (mg/l)\n",
       "0  2019-04-12              6778     140.429\n",
       "1  2019-04-29              7915     322.545\n",
       "2  2019-05-25             17618     150.069\n",
       "3  2019-06-17             19080     298.958\n",
       "4  2019-07-01             39962     407.170\n",
       "5  2019-07-12             53741    1585.414\n",
       "6  2019-07-25             69111     711.938\n",
       "7  2019-08-05             50188     553.188\n",
       "8  2019-08-19             36832     679.325\n",
       "9  2019-09-04             24988     411.524\n",
       "10 2019-10-08             28258     548.436\n",
       "11 2019-11-06             14470     252.080\n",
       "12 2019-11-22              9515     175.567\n",
       "13 2019-12-24              6497     165.642\n",
       "14 2020-01-07              6597      30.541\n",
       "15 2020-01-22              4888      78.580"
      ]
     },
     "execution_count": 2,
     "metadata": {},
     "output_type": "execute_result"
    }
   ],
   "source": [
    "data = pd.DataFrame(pd.read_csv('/Users/aeckland/hydrotrend_gbmd/sediment_calibration/sed_data/Brahmaputra_q_ssc.txt', delimiter = '\\t'))\n",
    "data['Date'] = pd.to_datetime(data['Date'])\n",
    "data"
   ]
  },
  {
   "cell_type": "code",
   "execution_count": 3,
   "metadata": {},
   "outputs": [
    {
     "data": {
      "image/png": "[encoded data removed]",
      "text/plain": [
       "<Figure size 1008x576 with 2 Axes>"
      ]
     },
     "metadata": {
      "needs_background": "light"
     },
     "output_type": "display_data"
    }
   ],
   "source": [
    "from matplotlib.dates import DateFormatter\n",
    "import matplotlib.dates as mdates\n",
    "\n",
    "fig, ax1 = plt.subplots(figsize = (14, 8))\n",
    "ax1.plot(data['Date'], data['Discharge (m3/S)'],\n",
    "         '-o', color='tab:blue', markersize=15, \n",
    "         linewidth=4,markerfacecolor='tab:blue', \n",
    "         markeredgecolor='k', markeredgewidth=2)\n",
    "ax1.set_xlabel('Date', size = 14)\n",
    "ax1.set_ylabel('Water Discharge (m$^3/$s)', size = 14)\n",
    "\n",
    "ax2 = ax1.twinx()\n",
    "ax2.xaxis.set_major_locator(mdates.WeekdayLocator(interval=4))\n",
    "ax2.xaxis.set_major_formatter(DateFormatter(\"%b %Y\"))\n",
    "ax2.set_ylabel('SSC (mg/l))', size = 14)\n",
    "ax2.plot(data['Date'], data['SSC (mg/l)'], \n",
    "         '-o', color='tab:brown', markersize=15, linewidth=4,\n",
    "         markerfacecolor='tab:brown', markeredgecolor='k', markeredgewidth=2)\n",
    "\n",
    "plt.title('Q vs. SSC, Bahadurabad Bridge (April 2019 - Jan 2020)', size = 16)\n",
    "\n",
    "fig.savefig('/Users/aeckland/hydrotrend_gbmd/figures/v1/sed_cal/q_ssc_BR.png')\n",
    "\n",
    "plt.show()"
   ]
  },
  {
   "cell_type": "code",
   "execution_count": 4,
   "metadata": {},
   "outputs": [
    {
     "name": "stdout",
     "output_type": "stream",
     "text": [
      "slope: 0.927380    intercept: 0.031985\n"
     ]
    },
    {
     "data": {
      "image/png": "[encoded data removed]",
      "text/plain": [
       "<Figure size 720x576 with 1 Axes>"
      ]
     },
     "metadata": {
      "needs_background": "light"
     },
     "output_type": "display_data"
    }
   ],
   "source": [
    "from scipy.optimize import curve_fit\n",
    "from scipy import stats\n",
    "\n",
    "x = data['Discharge (m3/S)']\n",
    "y = data['SSC (mg/l)']\n",
    "\n",
    "slope, intercept, r_value, p_value, std_err = stats.linregress(np.log(x), np.log(y))\n",
    "print(\"slope: %f    intercept: %f\" % (slope, np.exp(intercept)))\n",
    "\n",
    "y_2 = .031985*x**0.927380\n",
    "\n",
    "fig, ax = plt.subplots(figsize = (10,8))\n",
    "plt.scatter(x, y, label='actual data', color = \"k\")\n",
    "plt.plot(x, y_2, label='power-fit: y=0.031985x$^{0.92738}$', color = \"k\", linestyle = \"dotted\")\n",
    "ax.set_yscale('log')\n",
    "ax.set_xscale('log')\n",
    "ax.set_xlim(25e2, 10e4)\n",
    "ax.set_ylabel('SSC (mg/l)', size = 14)\n",
    "ax.set_xlabel('Qw (m$^3/$s)', size = 14)\n",
    "plt.title('Sediment Rating Curve, Bahadurabad Bridge (Apr 2019 - Jan 2020)', size = 16)\n",
    "plt.legend(prop={'size': 14})\n",
    "plt.show()\n",
    "\n",
    "fig.savefig('/Users/aeckland/hydrotrend_gbmd/figures/v1/sed_cal/rating_curve_BR.png')"
   ]
  },
  {
   "cell_type": "code",
   "execution_count": 5,
   "metadata": {},
   "outputs": [
    {
     "data": {
      "text/plain": [
       "0     114.243980\n",
       "1     131.914267\n",
       "2     277.052193\n",
       "3     298.310901\n",
       "4     592.136660\n",
       "5     779.358534\n",
       "6     984.114467\n",
       "7     731.456798\n",
       "8     549.000039\n",
       "9     383.102152\n",
       "10    429.384028\n",
       "11    230.824371\n",
       "12    156.474330\n",
       "13    109.844929\n",
       "14    111.411981\n",
       "15     84.367046\n",
       "Name: Discharge (m3/S), dtype: float64"
      ]
     },
     "execution_count": 5,
     "metadata": {},
     "output_type": "execute_result"
    }
   ],
   "source": [
    "# check that rating curve matches with observed data\n",
    "\n",
    "def rating_curve(intercept, Qw, slope):\n",
    "    return intercept*Qw**slope\n",
    "\n",
    "SSC_obs = rating_curve(intercept = 0.031985, Qw = data['Discharge (m3/S)'], slope = 0.927380)\n",
    "SSC_obs"
   ]
  },
  {
   "cell_type": "markdown",
   "metadata": {},
   "source": [
    "So the rating curve does a pretty good job at generating SSC values that correspond with observed data (below)."
   ]
  },
  {
   "cell_type": "code",
   "execution_count": 6,
   "metadata": {},
   "outputs": [
    {
     "data": {
      "text/plain": [
       "0      140.429\n",
       "1      322.545\n",
       "2      150.069\n",
       "3      298.958\n",
       "4      407.170\n",
       "5     1585.414\n",
       "6      711.938\n",
       "7      553.188\n",
       "8      679.325\n",
       "9      411.524\n",
       "10     548.436\n",
       "11     252.080\n",
       "12     175.567\n",
       "13     165.642\n",
       "14      30.541\n",
       "15      78.580\n",
       "Name: SSC (mg/l), dtype: float64"
      ]
     },
     "execution_count": 6,
     "metadata": {},
     "output_type": "execute_result"
    }
   ],
   "source": [
    "# observed data\n",
    "\n",
    "data['SSC (mg/l)']"
   ]
  },
  {
   "cell_type": "markdown",
   "metadata": {},
   "source": [
    "## Part 2: Report Annual Qs values for each climate model"
   ]
  },
  {
   "cell_type": "markdown",
   "metadata": {},
   "source": [
    "Annual Qs values were generated in the post-processing notebooks, found within the repository in the folder `post-processing/BR_rcp4p5.ipynb` AND `post-processing/BR_rcp8p5.ipynb`\n",
    "\n",
    "#### New rating curve-generated annual Qs:"
   ]
  },
  {
   "cell_type": "code",
   "execution_count": 7,
   "metadata": {},
   "outputs": [],
   "source": [
    "# Brahmaputra River Annual Qs (MT/yr), RCP4P5 (2019-2020):\n",
    "gfdl_qs_4p5_new = 403.1\n",
    "hadgem_qs_4p5_new = 274.2\n",
    "ipsl_qs_4p5_new = 434.1\n",
    "miroc_qs_4p5_new = 329.0\n",
    "noresm_qs_4p5_new = 410.7\n",
    "\n",
    "# Brahmaputra River Annual Qs (MT/yr), RCP8P5 (2019-2020):\n",
    "gfdl_qs_8p5_new = 308.5\n",
    "hadgem_qs_8p5_new = 264.2\n",
    "ipsl_qs_8p5_new = 382.2\n",
    "miroc_qs_8p5_new = 208.9\n",
    "noresm_qs_8p5_new = 263.4"
   ]
  },
  {
   "cell_type": "markdown",
   "metadata": {},
   "source": [
    "#### Established rating curve-generated annual Qs:\n",
    "\n",
    "Brahmaputra rating curve:\n",
    "\n",
    "$$Qs = 0.005 x Q^{1.56} (R^2 = 0.78)$$"
   ]
  },
  {
   "cell_type": "code",
   "execution_count": 8,
   "metadata": {},
   "outputs": [],
   "source": [
    "# Brahmaputra River Average Annual Qw (cms), RCP4P5 (2019-2020):\n",
    "\n",
    "gfdl_qw_4p5_old = 21169.5\n",
    "hadgem_qw_4p5_old = 17538.4\n",
    "ipsl_qw_4p5_old = 22071.7\n",
    "miroc_qw_4p5_old = 19808.7\n",
    "noresm_qw_4p5_old = 20925.9\n",
    "\n",
    "# Brahmaputra River Average Annual Qw (cms), RCP8P5 (2019-2020):\n",
    "gfdl_qw_8p5_old = 18668.1\n",
    "hadgem_qw_8p5_old = 17467.4\n",
    "ipsl_qw_8p5_old = 20790.2\n",
    "miroc_qw_8p5_old = 16070.7\n",
    "noresm_qw_8p5_old = 17266.2"
   ]
  },
  {
   "cell_type": "code",
   "execution_count": 9,
   "metadata": {},
   "outputs": [],
   "source": [
    "# calculate annual qs using established rating curves and hydrotrend Qw outputs for RCP4P5\n",
    "\n",
    "gfdl_qs_4p5_old = (0.005*gfdl_qw_4p5_old**1.56)*3.154e7/1e9\n",
    "hadgem_qs_4p5_old = (0.005*hadgem_qw_4p5_old**1.56)*3.154e7/1e9\n",
    "ipsl_qs_4p5_old = (0.005*ipsl_qw_4p5_old**1.56)*3.154e7/1e9\n",
    "miroc_qs_4p5_old = (0.005*miroc_qw_4p5_old**1.56)*3.154e7/1e9\n",
    "noresm_qs_4p5_old = (0.005*noresm_qw_4p5_old**1.56)*3.154e7/1e9"
   ]
  },
  {
   "cell_type": "code",
   "execution_count": 10,
   "metadata": {},
   "outputs": [],
   "source": [
    "# calculate annual qs using established rating curves and hydrotrend Qw outputs for RCP8P5\n",
    "\n",
    "gfdl_qs_8p5_old = (0.005*gfdl_qw_8p5_old**1.56)*3.154e7/1e9\n",
    "hadgem_qs_8p5_old = (0.005*hadgem_qw_8p5_old**1.56)*3.154e7/1e9\n",
    "ipsl_qs_8p5_old = (0.005*ipsl_qw_8p5_old**1.56)*3.154e7/1e9\n",
    "miroc_qs_8p5_old = (0.005*miroc_qw_8p5_old**1.56)*3.154e7/1e9\n",
    "noresm_qs_8p5_old = (0.005*noresm_qw_8p5_old**1.56)*3.154e7/1e9"
   ]
  },
  {
   "cell_type": "code",
   "execution_count": 11,
   "metadata": {},
   "outputs": [
    {
     "name": "stdout",
     "output_type": "stream",
     "text": [
      "882.958 MT/yr (GFDL_ESM2M)\n",
      "658.349 MT/yr (HadGEM2)\n",
      "942.357 MT/yr (IPSL_CM5A)\n",
      "796.026 MT/yr (MIROC-ESM-CHEM)\n",
      "867.159 MT/yr (NORESM-M)\n"
     ]
    }
   ],
   "source": [
    "# print results\n",
    "\n",
    "print('{:.6} MT/yr (GFDL_ESM2M)'.format(gfdl_qs_4p5_old))\n",
    "print('{:.6} MT/yr (HadGEM2)'.format(hadgem_qs_4p5_old))\n",
    "print('{:.6} MT/yr (IPSL_CM5A)'.format(ipsl_qs_4p5_old))\n",
    "print('{:.6} MT/yr (MIROC-ESM-CHEM)'.format(miroc_qs_4p5_old))\n",
    "print('{:.6} MT/yr (NORESM-M)'.format(noresm_qs_4p5_old))"
   ]
  },
  {
   "cell_type": "code",
   "execution_count": 12,
   "metadata": {},
   "outputs": [
    {
     "name": "stdout",
     "output_type": "stream",
     "text": [
      "725.685 MT/yr (GFDL_ESM2M)\n",
      "654.196 MT/yr (HadGEM2)\n",
      "858.403 MT/yr (IPSL_CM5A)\n",
      "574.442 MT/yr (MIROC-ESM-CHEM)\n",
      "642.479 MT/yr (NORESM-M)\n"
     ]
    }
   ],
   "source": [
    "# print results\n",
    "\n",
    "print('{:.6} MT/yr (GFDL_ESM2M)'.format(gfdl_qs_8p5_old))\n",
    "print('{:.6} MT/yr (HadGEM2)'.format(hadgem_qs_8p5_old))\n",
    "print('{:.6} MT/yr (IPSL_CM5A)'.format(ipsl_qs_8p5_old))\n",
    "print('{:.6} MT/yr (MIROC-ESM-CHEM)'.format(miroc_qs_8p5_old))\n",
    "print('{:.6} MT/yr (NORESM-M)'.format(noresm_qs_8p5_old))"
   ]
  },
  {
   "cell_type": "markdown",
   "metadata": {},
   "source": [
    "## Part 3: Compare new rating curve with established curve"
   ]
  },
  {
   "cell_type": "code",
   "execution_count": 13,
   "metadata": {},
   "outputs": [
    {
     "data": {
      "text/html": [
       "<div>\n",
       "<style scoped>\n",
       "    .dataframe tbody tr th:only-of-type {\n",
       "        vertical-align: middle;\n",
       "    }\n",
       "\n",
       "    .dataframe tbody tr th {\n",
       "        vertical-align: top;\n",
       "    }\n",
       "\n",
       "    .dataframe thead th {\n",
       "        text-align: right;\n",
       "    }\n",
       "</style>\n",
       "<table border=\"1\" class=\"dataframe\">\n",
       "  <thead>\n",
       "    <tr style=\"text-align: right;\">\n",
       "      <th></th>\n",
       "      <th>Climate Model</th>\n",
       "      <th>Annual Qs (new curve)</th>\n",
       "      <th>Annual Qs (old curve)</th>\n",
       "      <th>Percent Difference</th>\n",
       "    </tr>\n",
       "  </thead>\n",
       "  <tbody>\n",
       "    <tr>\n",
       "      <th>0</th>\n",
       "      <td>GFDL_ESM2M</td>\n",
       "      <td>403.1</td>\n",
       "      <td>882.958375</td>\n",
       "      <td>119.042018</td>\n",
       "    </tr>\n",
       "    <tr>\n",
       "      <th>1</th>\n",
       "      <td>HadGEM2</td>\n",
       "      <td>274.2</td>\n",
       "      <td>658.348799</td>\n",
       "      <td>140.098030</td>\n",
       "    </tr>\n",
       "    <tr>\n",
       "      <th>2</th>\n",
       "      <td>IPSL_CM5A</td>\n",
       "      <td>434.1</td>\n",
       "      <td>942.357122</td>\n",
       "      <td>117.082958</td>\n",
       "    </tr>\n",
       "    <tr>\n",
       "      <th>3</th>\n",
       "      <td>MIROC-ESM-CHEM</td>\n",
       "      <td>329.0</td>\n",
       "      <td>796.025562</td>\n",
       "      <td>141.953058</td>\n",
       "    </tr>\n",
       "    <tr>\n",
       "      <th>4</th>\n",
       "      <td>NORESM-M</td>\n",
       "      <td>410.7</td>\n",
       "      <td>867.159448</td>\n",
       "      <td>111.141818</td>\n",
       "    </tr>\n",
       "  </tbody>\n",
       "</table>\n",
       "</div>"
      ],
      "text/plain": [
       "    Climate Model  Annual Qs (new curve)  Annual Qs (old curve)  \\\n",
       "0      GFDL_ESM2M                  403.1             882.958375   \n",
       "1         HadGEM2                  274.2             658.348799   \n",
       "2       IPSL_CM5A                  434.1             942.357122   \n",
       "3  MIROC-ESM-CHEM                  329.0             796.025562   \n",
       "4        NORESM-M                  410.7             867.159448   \n",
       "\n",
       "   Percent Difference  \n",
       "0          119.042018  \n",
       "1          140.098030  \n",
       "2          117.082958  \n",
       "3          141.953058  \n",
       "4          111.141818  "
      ]
     },
     "execution_count": 13,
     "metadata": {},
     "output_type": "execute_result"
    }
   ],
   "source": [
    "val_RCP4P5 = pd.DataFrame()\n",
    "val_RCP4P5['Climate Model'] = ['GFDL_ESM2M', 'HadGEM2', 'IPSL_CM5A', 'MIROC-ESM-CHEM', 'NORESM-M']\n",
    "val_RCP4P5['Annual Qs (new curve)'] = [gfdl_qs_4p5_new, hadgem_qs_4p5_new, ipsl_qs_4p5_new, miroc_qs_4p5_new, noresm_qs_4p5_new]\n",
    "val_RCP4P5['Annual Qs (old curve)'] = [gfdl_qs_4p5_old, hadgem_qs_4p5_old, ipsl_qs_4p5_old, miroc_qs_4p5_old, noresm_qs_4p5_old]\n",
    "val_RCP4P5['Percent Difference'] = (val_RCP4P5['Annual Qs (old curve)'] - val_RCP4P5['Annual Qs (new curve)'])/val_RCP4P5['Annual Qs (new curve)']*100\n",
    "val_RCP4P5"
   ]
  },
  {
   "cell_type": "code",
   "execution_count": 14,
   "metadata": {},
   "outputs": [
    {
     "data": {
      "text/html": [
       "<div>\n",
       "<style scoped>\n",
       "    .dataframe tbody tr th:only-of-type {\n",
       "        vertical-align: middle;\n",
       "    }\n",
       "\n",
       "    .dataframe tbody tr th {\n",
       "        vertical-align: top;\n",
       "    }\n",
       "\n",
       "    .dataframe thead th {\n",
       "        text-align: right;\n",
       "    }\n",
       "</style>\n",
       "<table border=\"1\" class=\"dataframe\">\n",
       "  <thead>\n",
       "    <tr style=\"text-align: right;\">\n",
       "      <th></th>\n",
       "      <th>Climate Model</th>\n",
       "      <th>Annual Qs (new curve)</th>\n",
       "      <th>Annual Qs (old curve)</th>\n",
       "      <th>Percent Difference</th>\n",
       "    </tr>\n",
       "  </thead>\n",
       "  <tbody>\n",
       "    <tr>\n",
       "      <th>0</th>\n",
       "      <td>GFDL_ESM2M</td>\n",
       "      <td>308.5</td>\n",
       "      <td>725.684552</td>\n",
       "      <td>135.230001</td>\n",
       "    </tr>\n",
       "    <tr>\n",
       "      <th>1</th>\n",
       "      <td>HadGEM2</td>\n",
       "      <td>264.2</td>\n",
       "      <td>654.195854</td>\n",
       "      <td>147.613874</td>\n",
       "    </tr>\n",
       "    <tr>\n",
       "      <th>2</th>\n",
       "      <td>IPSL_CM5A</td>\n",
       "      <td>382.2</td>\n",
       "      <td>858.402975</td>\n",
       "      <td>124.595232</td>\n",
       "    </tr>\n",
       "    <tr>\n",
       "      <th>3</th>\n",
       "      <td>MIROC-ESM-CHEM</td>\n",
       "      <td>208.9</td>\n",
       "      <td>574.441717</td>\n",
       "      <td>174.984068</td>\n",
       "    </tr>\n",
       "    <tr>\n",
       "      <th>4</th>\n",
       "      <td>NORESM-M</td>\n",
       "      <td>263.4</td>\n",
       "      <td>642.478576</td>\n",
       "      <td>143.917455</td>\n",
       "    </tr>\n",
       "  </tbody>\n",
       "</table>\n",
       "</div>"
      ],
      "text/plain": [
       "    Climate Model  Annual Qs (new curve)  Annual Qs (old curve)  \\\n",
       "0      GFDL_ESM2M                  308.5             725.684552   \n",
       "1         HadGEM2                  264.2             654.195854   \n",
       "2       IPSL_CM5A                  382.2             858.402975   \n",
       "3  MIROC-ESM-CHEM                  208.9             574.441717   \n",
       "4        NORESM-M                  263.4             642.478576   \n",
       "\n",
       "   Percent Difference  \n",
       "0          135.230001  \n",
       "1          147.613874  \n",
       "2          124.595232  \n",
       "3          174.984068  \n",
       "4          143.917455  "
      ]
     },
     "execution_count": 14,
     "metadata": {},
     "output_type": "execute_result"
    }
   ],
   "source": [
    "val_RCP4P5 = pd.DataFrame()\n",
    "val_RCP4P5['Climate Model'] = ['GFDL_ESM2M', 'HadGEM2', 'IPSL_CM5A', 'MIROC-ESM-CHEM', 'NORESM-M']\n",
    "val_RCP4P5['Annual Qs (new curve)'] = [gfdl_qs_8p5_new, hadgem_qs_8p5_new, ipsl_qs_8p5_new, miroc_qs_8p5_new, noresm_qs_8p5_new]\n",
    "val_RCP4P5['Annual Qs (old curve)'] = [gfdl_qs_8p5_old, hadgem_qs_8p5_old, ipsl_qs_8p5_old, miroc_qs_8p5_old, noresm_qs_8p5_old]\n",
    "val_RCP4P5['Percent Difference'] = (val_RCP4P5['Annual Qs (old curve)'] - val_RCP4P5['Annual Qs (new curve)'])/val_RCP4P5['Annual Qs (new curve)']*100\n",
    "val_RCP4P5"
   ]
  },
  {
   "cell_type": "code",
   "execution_count": null,
   "metadata": {},
   "outputs": [],
   "source": []
  }
 ],
 "metadata": {
  "kernelspec": {
   "display_name": "Python 3",
   "language": "python",
   "name": "python3"
  },
  "language_info": {
   "codemirror_mode": {
    "name": "ipython",
    "version": 3
   },
   "file_extension": ".py",
   "mimetype": "text/x-python",
   "name": "python",
   "nbconvert_exporter": "python",
   "pygments_lexer": "ipython3",
   "version": "3.7.7"
  }
 },
 "nbformat": 4,
 "nbformat_minor": 4
}
