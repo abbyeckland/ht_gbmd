{
 "cells": [
  {
   "cell_type": "code",
   "execution_count": 1,
   "metadata": {},
   "outputs": [],
   "source": [
    "import numpy as np\n",
    "import pandas as pd\n",
    "import matplotlib.pyplot as plt"
   ]
  },
  {
   "cell_type": "markdown",
   "metadata": {},
   "source": [
    "This notebook compares observed water discharge and SSC data with HydroTrend outputs. There are two parts:\n",
    "\n",
    "**Part 1: Import observed data and generate rating curve**\n",
    "- Data was collected from April 2019-January 2020\n",
    "    - Discharge data was collected via boat and ADCP\n",
    "    - SSC was calculated from water bottle samples, averaged across 3 locations along a transect\n",
    "- Data are plotted as Water Discharge vs. SSC\n",
    "- A rating curve is generated using a power law function\n",
    "    \n",
    "**Part 2: Report Annual Qs values for each climate model**\n",
    "- The new rating curve is used to generate annual Qs from HydroTrend Qw outputs\n",
    "- The previously established rating curve is used to generate annual Qs from HydroTrend Qw outputs\n",
    "\n",
    "**Part 3: Compare new rating curve with established curve**\n",
    "- Compare Annual Qs results from the new rating curve and previously established rating curve "
   ]
  },
  {
   "cell_type": "markdown",
   "metadata": {},
   "source": [
    "## Part 1: Import observed data and generate rating curve"
   ]
  },
  {
   "cell_type": "code",
   "execution_count": 2,
   "metadata": {},
   "outputs": [
    {
     "data": {
      "text/html": [
       "<div>\n",
       "<style scoped>\n",
       "    .dataframe tbody tr th:only-of-type {\n",
       "        vertical-align: middle;\n",
       "    }\n",
       "\n",
       "    .dataframe tbody tr th {\n",
       "        vertical-align: top;\n",
       "    }\n",
       "\n",
       "    .dataframe thead th {\n",
       "        text-align: right;\n",
       "    }\n",
       "</style>\n",
       "<table border=\"1\" class=\"dataframe\">\n",
       "  <thead>\n",
       "    <tr style=\"text-align: right;\">\n",
       "      <th></th>\n",
       "      <th>Date</th>\n",
       "      <th>Discharge (m3/S)</th>\n",
       "      <th>Water Level mPWD</th>\n",
       "      <th>SSC (mg/l)</th>\n",
       "    </tr>\n",
       "  </thead>\n",
       "  <tbody>\n",
       "    <tr>\n",
       "      <th>0</th>\n",
       "      <td>2019-04-13</td>\n",
       "      <td>1357.40</td>\n",
       "      <td>5.24</td>\n",
       "      <td>22.82</td>\n",
       "    </tr>\n",
       "    <tr>\n",
       "      <th>1</th>\n",
       "      <td>2019-04-29</td>\n",
       "      <td>1520.14</td>\n",
       "      <td>5.25</td>\n",
       "      <td>37.78</td>\n",
       "    </tr>\n",
       "    <tr>\n",
       "      <th>2</th>\n",
       "      <td>2019-05-23</td>\n",
       "      <td>1755.34</td>\n",
       "      <td>6.58</td>\n",
       "      <td>43.10</td>\n",
       "    </tr>\n",
       "    <tr>\n",
       "      <th>3</th>\n",
       "      <td>2019-06-11</td>\n",
       "      <td>1409.00</td>\n",
       "      <td>5.70</td>\n",
       "      <td>9.80</td>\n",
       "    </tr>\n",
       "    <tr>\n",
       "      <th>4</th>\n",
       "      <td>2019-07-01</td>\n",
       "      <td>3002.96</td>\n",
       "      <td>7.63</td>\n",
       "      <td>31.02</td>\n",
       "    </tr>\n",
       "    <tr>\n",
       "      <th>5</th>\n",
       "      <td>2019-07-15</td>\n",
       "      <td>10061.00</td>\n",
       "      <td>10.28</td>\n",
       "      <td>596.38</td>\n",
       "    </tr>\n",
       "    <tr>\n",
       "      <th>6</th>\n",
       "      <td>2019-08-03</td>\n",
       "      <td>17674.29</td>\n",
       "      <td>11.86</td>\n",
       "      <td>527.21</td>\n",
       "    </tr>\n",
       "    <tr>\n",
       "      <th>7</th>\n",
       "      <td>2019-08-17</td>\n",
       "      <td>21470.65</td>\n",
       "      <td>11.77</td>\n",
       "      <td>491.09</td>\n",
       "    </tr>\n",
       "    <tr>\n",
       "      <th>8</th>\n",
       "      <td>2019-09-07</td>\n",
       "      <td>26552.03</td>\n",
       "      <td>12.23</td>\n",
       "      <td>794.17</td>\n",
       "    </tr>\n",
       "    <tr>\n",
       "      <th>9</th>\n",
       "      <td>2019-09-24</td>\n",
       "      <td>41809.50</td>\n",
       "      <td>13.74</td>\n",
       "      <td>1229.08</td>\n",
       "    </tr>\n",
       "    <tr>\n",
       "      <th>10</th>\n",
       "      <td>2019-10-01</td>\n",
       "      <td>48451.79</td>\n",
       "      <td>13.90</td>\n",
       "      <td>946.71</td>\n",
       "    </tr>\n",
       "    <tr>\n",
       "      <th>11</th>\n",
       "      <td>2019-10-13</td>\n",
       "      <td>37491.93</td>\n",
       "      <td>13.67</td>\n",
       "      <td>669.73</td>\n",
       "    </tr>\n",
       "    <tr>\n",
       "      <th>12</th>\n",
       "      <td>2019-11-04</td>\n",
       "      <td>11025.82</td>\n",
       "      <td>11.72</td>\n",
       "      <td>145.15</td>\n",
       "    </tr>\n",
       "    <tr>\n",
       "      <th>13</th>\n",
       "      <td>2019-11-17</td>\n",
       "      <td>8842.31</td>\n",
       "      <td>9.24</td>\n",
       "      <td>134.73</td>\n",
       "    </tr>\n",
       "    <tr>\n",
       "      <th>14</th>\n",
       "      <td>2019-12-26</td>\n",
       "      <td>4487.51</td>\n",
       "      <td>7.10</td>\n",
       "      <td>31.23</td>\n",
       "    </tr>\n",
       "    <tr>\n",
       "      <th>15</th>\n",
       "      <td>2020-01-08</td>\n",
       "      <td>2976.82</td>\n",
       "      <td>6.67</td>\n",
       "      <td>13.77</td>\n",
       "    </tr>\n",
       "    <tr>\n",
       "      <th>16</th>\n",
       "      <td>2020-01-23</td>\n",
       "      <td>2633.14</td>\n",
       "      <td>6.38</td>\n",
       "      <td>25.62</td>\n",
       "    </tr>\n",
       "  </tbody>\n",
       "</table>\n",
       "</div>"
      ],
      "text/plain": [
       "         Date  Discharge (m3/S)  Water Level mPWD  SSC (mg/l)\n",
       "0  2019-04-13           1357.40              5.24       22.82\n",
       "1  2019-04-29           1520.14              5.25       37.78\n",
       "2  2019-05-23           1755.34              6.58       43.10\n",
       "3  2019-06-11           1409.00              5.70        9.80\n",
       "4  2019-07-01           3002.96              7.63       31.02\n",
       "5  2019-07-15          10061.00             10.28      596.38\n",
       "6  2019-08-03          17674.29             11.86      527.21\n",
       "7  2019-08-17          21470.65             11.77      491.09\n",
       "8  2019-09-07          26552.03             12.23      794.17\n",
       "9  2019-09-24          41809.50             13.74     1229.08\n",
       "10 2019-10-01          48451.79             13.90      946.71\n",
       "11 2019-10-13          37491.93             13.67      669.73\n",
       "12 2019-11-04          11025.82             11.72      145.15\n",
       "13 2019-11-17           8842.31              9.24      134.73\n",
       "14 2019-12-26           4487.51              7.10       31.23\n",
       "15 2020-01-08           2976.82              6.67       13.77\n",
       "16 2020-01-23           2633.14              6.38       25.62"
      ]
     },
     "execution_count": 2,
     "metadata": {},
     "output_type": "execute_result"
    }
   ],
   "source": [
    "data = pd.DataFrame(pd.read_csv('/Users/aeckland/hydrotrend_gbmd/sediment_calibration/sed_data/Ganges_q_ssc.txt', delimiter = '\\t'))\n",
    "data['Date'] = pd.to_datetime(data['Date'], format=\"%m/%d/%y\")\n",
    "data"
   ]
  },
  {
   "cell_type": "code",
   "execution_count": 3,
   "metadata": {},
   "outputs": [
    {
     "data": {
      "image/png": "[encoded data removed]",
      "text/plain": [
       "<Figure size 1008x576 with 2 Axes>"
      ]
     },
     "metadata": {
      "needs_background": "light"
     },
     "output_type": "display_data"
    }
   ],
   "source": [
    "from matplotlib.dates import DateFormatter\n",
    "import matplotlib.dates as mdates\n",
    "\n",
    "fig, ax1 = plt.subplots(figsize = (14, 8))\n",
    "ax1.plot(data['Date'], data['Discharge (m3/S)'],\n",
    "         '-o', color='tab:blue', markersize=15, \n",
    "         linewidth=4,markerfacecolor='tab:blue', \n",
    "         markeredgecolor='k', markeredgewidth=2)\n",
    "ax1.set_xlabel('Date', size = 14)\n",
    "ax1.set_ylabel('Water Discharge (m$^3/$s)', size = 14)\n",
    "\n",
    "ax2 = ax1.twinx()\n",
    "ax2.xaxis.set_major_locator(mdates.WeekdayLocator(interval=4))\n",
    "ax2.xaxis.set_major_formatter(DateFormatter(\"%b %Y\"))\n",
    "ax2.set_ylabel('SSC (mg/l))', size = 14)\n",
    "ax2.plot(data['Date'], data['SSC (mg/l)'], \n",
    "         '-o', color='tab:brown', markersize=15, linewidth=4,\n",
    "         markerfacecolor='tab:brown', markeredgecolor='k', markeredgewidth=2)\n",
    "\n",
    "plt.title('Q vs. SSC, Hardinge Bridge (April 2019 - Jan 2020)', size = 16)\n",
    "\n",
    "fig.savefig('/Users/aeckland/hydrotrend_gbmd/figures/v1/sed_cal/q_ssc_GR.png')\n",
    "\n",
    "plt.show()"
   ]
  },
  {
   "cell_type": "code",
   "execution_count": 4,
   "metadata": {},
   "outputs": [
    {
     "name": "stdout",
     "output_type": "stream",
     "text": [
      "slope: 1.233509    intercept: 0.002089\n"
     ]
    },
    {
     "data": {
      "image/png": "[encoded data removed]",
      "text/plain": [
       "<Figure size 720x576 with 1 Axes>"
      ]
     },
     "metadata": {
      "needs_background": "light"
     },
     "output_type": "display_data"
    }
   ],
   "source": [
    "from scipy.optimize import curve_fit\n",
    "from scipy import stats\n",
    "\n",
    "x = data['Discharge (m3/S)']\n",
    "y = data['SSC (mg/l)']\n",
    "\n",
    "slope, intercept, r_value, p_value, std_err = stats.linregress(np.log(x), np.log(y))\n",
    "print(\"slope: %f    intercept: %f\" % (slope, np.exp(intercept)))\n",
    "\n",
    "y_2 = 0.002089*x**1.233509\n",
    "\n",
    "fig, ax = plt.subplots(figsize = (10,8))\n",
    "plt.scatter(x, y, label='actual data', color = \"k\")\n",
    "plt.plot(x, y_2, label = 'power-fit: y=0.002089x$^{1.233509}$', color = \"k\", linestyle = \"dotted\")\n",
    "ax.set_yscale('log')\n",
    "ax.set_xscale('log')\n",
    "ax.set_xlim(8e2, 10e4)\n",
    "ax.set_ylim(5, 10e3)\n",
    "ax.set_ylabel('SSC (mg/l)', size = 14)\n",
    "ax.set_xlabel('Qw (m$^3/$s)', size = 14)\n",
    "plt.title('Sediment Rating Curve, Hardinge Bridge (Apr 2019 - Jan 2020)', size = 16)\n",
    "plt.legend(prop={'size': 14})\n",
    "plt.show()\n",
    "\n",
    "fig.savefig('/Users/aeckland/hydrotrend_gbmd/figures/v1/sed_cal/rating_curve_GR.png')"
   ]
  },
  {
   "cell_type": "code",
   "execution_count": 5,
   "metadata": {},
   "outputs": [
    {
     "data": {
      "text/plain": [
       "0       15.281351\n",
       "1       17.571971\n",
       "2       20.983950\n",
       "3       16.001050\n",
       "4       40.693693\n",
       "5      180.814111\n",
       "6      362.303888\n",
       "7      460.583602\n",
       "8      598.553269\n",
       "9     1047.906928\n",
       "10    1256.927645\n",
       "11     916.076787\n",
       "12     202.436428\n",
       "13     154.192339\n",
       "14      66.791317\n",
       "15      40.257194\n",
       "16      34.603804\n",
       "Name: Discharge (m3/S), dtype: float64"
      ]
     },
     "execution_count": 5,
     "metadata": {},
     "output_type": "execute_result"
    }
   ],
   "source": [
    "# check that rating curve SSC values match with observed data\n",
    "\n",
    "def rating_curve(intercept, Qw, slope):\n",
    "    return intercept*Qw**slope\n",
    "\n",
    "SSC_obs = rating_curve(intercept = 0.002089, Qw = data['Discharge (m3/S)'], slope = 1.233509)\n",
    "SSC_obs"
   ]
  },
  {
   "cell_type": "markdown",
   "metadata": {},
   "source": [
    "So the rating curve does a pretty good job at generating SSC values that correspond with observed data (below)."
   ]
  },
  {
   "cell_type": "code",
   "execution_count": 6,
   "metadata": {},
   "outputs": [
    {
     "data": {
      "text/plain": [
       "0       22.82\n",
       "1       37.78\n",
       "2       43.10\n",
       "3        9.80\n",
       "4       31.02\n",
       "5      596.38\n",
       "6      527.21\n",
       "7      491.09\n",
       "8      794.17\n",
       "9     1229.08\n",
       "10     946.71\n",
       "11     669.73\n",
       "12     145.15\n",
       "13     134.73\n",
       "14      31.23\n",
       "15      13.77\n",
       "16      25.62\n",
       "Name: SSC (mg/l), dtype: float64"
      ]
     },
     "execution_count": 6,
     "metadata": {},
     "output_type": "execute_result"
    }
   ],
   "source": [
    "# observed data\n",
    "\n",
    "data['SSC (mg/l)']"
   ]
  },
  {
   "cell_type": "markdown",
   "metadata": {},
   "source": [
    "## Part 2: Report Annual Qs values for each climate model"
   ]
  },
  {
   "cell_type": "markdown",
   "metadata": {},
   "source": [
    "Annual Qs values were generated in the post-processing notebooks, found within the repository in the folder `post-processing/GR_rcp4p5.ipynb` AND `post-processing/GR_rcp8p5.ipynb`\n",
    "\n",
    "#### New rating curve-generated annual Qs:"
   ]
  },
  {
   "cell_type": "code",
   "execution_count": 7,
   "metadata": {},
   "outputs": [],
   "source": [
    "# Ganges River Annual Qs (MT/yr), RCP4P5 (2019-2020):\n",
    "gfdl_qs_4p5_new = 256.9\n",
    "hadgem_qs_4p5_new = 2615.7\n",
    "ipsl_qs_4p5_new = 1272.8\n",
    "miroc_qs_4p5_new = 198.8\n",
    "noresm_qs_4p5_new = 934.5\n",
    "\n",
    "# Ganges River Annual Qs (MT/yr), RCP8P5 (2019-2020):\n",
    "gfdl_qs_8p5_new = 709.6\n",
    "hadgem_qs_8p5_new = 1811.1\n",
    "ipsl_qs_8p5_new = 286.9\n",
    "miroc_qs_8p5_new = 340.7\n",
    "noresm_qs_8p5_new = 762.6"
   ]
  },
  {
   "cell_type": "markdown",
   "metadata": {},
   "source": [
    "#### Established rating curve-generated annual Qs:\n",
    "\n",
    "Ganges rating curve:\n",
    "\n",
    "$$Qs = 0.007 x Q^{1.51} (R^2 = 0.68)$$"
   ]
  },
  {
   "cell_type": "code",
   "execution_count": 8,
   "metadata": {},
   "outputs": [],
   "source": [
    "# Ganges River Average Annual Qw (cms), RCP4P5 (2019-2020):\n",
    "gfdl_qw_4p5_old = 10768.4\n",
    "hadgem_qw_4p5_old = 22718.9\n",
    "ipsl_qw_4p5_old = 18534.5\n",
    "miroc_qw_4p5_old = 9145.39\n",
    "noresm_qw_4p5_old = 16067.2\n",
    "\n",
    "# Ganges River Average Annual Qw (cms), RCP8P5 (2019-2020):\n",
    "gfdl_qw_8p5_old = 15650.8\n",
    "hadgem_qw_8p5_old = 22180.4\n",
    "ipsl_qw_8p5_old = 7706.8\n",
    "miroc_qw_8p5_old = 10681.5\n",
    "noresm_qw_8p5_old = 16018.5"
   ]
  },
  {
   "cell_type": "code",
   "execution_count": 9,
   "metadata": {},
   "outputs": [],
   "source": [
    "# calculate annual qs using established rating curves and hydrotrend Qw outputs for RCP4P5\n",
    "\n",
    "gfdl_qs_4p5_old = (0.007*gfdl_qw_4p5_old**1.51)*3.154e7/1e9\n",
    "hadgem_qs_4p5_old = (0.007*hadgem_qw_4p5_old**1.51)*3.154e7/1e9\n",
    "ipsl_qs_4p5_old = (0.007*ipsl_qw_4p5_old**1.51)*3.154e7/1e9\n",
    "miroc_qs_4p5_old = (0.007*miroc_qw_4p5_old**1.51)*3.154e7/1e9\n",
    "noresm_qs_4p5_old = (0.007*noresm_qw_4p5_old**1.51)*3.154e7/1e9"
   ]
  },
  {
   "cell_type": "code",
   "execution_count": 10,
   "metadata": {},
   "outputs": [],
   "source": [
    "# calculate annual qs using established rating curves and hydrotrend Qw outputs for RCP8P5\n",
    "\n",
    "gfdl_qs_8p5_old = (0.007*gfdl_qw_8p5_old**1.51)*3.154e7/1e9\n",
    "hadgem_qs_8p5_old = (0.007*hadgem_qw_8p5_old**1.51)*3.154e7/1e9\n",
    "ipsl_qs_8p5_old = (0.007*ipsl_qw_8p5_old**1.51)*3.154e7/1e9\n",
    "miroc_qs_8p5_old = (0.007*miroc_qw_8p5_old**1.51)*3.154e7/1e9\n",
    "noresm_qs_8p5_old = (0.007*noresm_qw_8p5_old**1.51)*3.154e7/1e9"
   ]
  },
  {
   "cell_type": "code",
   "execution_count": 11,
   "metadata": {},
   "outputs": [
    {
     "name": "stdout",
     "output_type": "stream",
     "text": [
      "270.712 MT/yr (GFDL_ESM2M)\n",
      "835.804 MT/yr (HadGEM2)\n",
      "614.626 MT/yr (IPSL_CM5A)\n",
      "211.532 MT/yr (MIROC-ESM-CHEM)\n",
      "495.37 MT/yr (NORESM-M)\n"
     ]
    }
   ],
   "source": [
    "# print results\n",
    "\n",
    "print('{:.6} MT/yr (GFDL_ESM2M)'.format(gfdl_qs_4p5_old))\n",
    "print('{:.6} MT/yr (HadGEM2)'.format(hadgem_qs_4p5_old))\n",
    "print('{:.6} MT/yr (IPSL_CM5A)'.format(ipsl_qs_4p5_old))\n",
    "print('{:.6} MT/yr (MIROC-ESM-CHEM)'.format(miroc_qs_4p5_old))\n",
    "print('{:.6} MT/yr (NORESM-M)'.format(noresm_qs_4p5_old))"
   ]
  },
  {
   "cell_type": "code",
   "execution_count": 12,
   "metadata": {},
   "outputs": [
    {
     "name": "stdout",
     "output_type": "stream",
     "text": [
      "476.113 MT/yr (GFDL_ESM2M)\n",
      "806.071 MT/yr (HadGEM2)\n",
      "163.358 MT/yr (IPSL_CM5A)\n",
      "267.42 MT/yr (MIROC-ESM-CHEM)\n",
      "493.104 MT/yr (NORESM-M)\n"
     ]
    }
   ],
   "source": [
    "# print results\n",
    "\n",
    "print('{:.6} MT/yr (GFDL_ESM2M)'.format(gfdl_qs_8p5_old))\n",
    "print('{:.6} MT/yr (HadGEM2)'.format(hadgem_qs_8p5_old))\n",
    "print('{:.6} MT/yr (IPSL_CM5A)'.format(ipsl_qs_8p5_old))\n",
    "print('{:.6} MT/yr (MIROC-ESM-CHEM)'.format(miroc_qs_8p5_old))\n",
    "print('{:.6} MT/yr (NORESM-M)'.format(noresm_qs_8p5_old))"
   ]
  },
  {
   "cell_type": "markdown",
   "metadata": {},
   "source": [
    "## Part 3: Compare new rating curve with established curve"
   ]
  },
  {
   "cell_type": "code",
   "execution_count": 13,
   "metadata": {},
   "outputs": [
    {
     "data": {
      "text/html": [
       "<div>\n",
       "<style scoped>\n",
       "    .dataframe tbody tr th:only-of-type {\n",
       "        vertical-align: middle;\n",
       "    }\n",
       "\n",
       "    .dataframe tbody tr th {\n",
       "        vertical-align: top;\n",
       "    }\n",
       "\n",
       "    .dataframe thead th {\n",
       "        text-align: right;\n",
       "    }\n",
       "</style>\n",
       "<table border=\"1\" class=\"dataframe\">\n",
       "  <thead>\n",
       "    <tr style=\"text-align: right;\">\n",
       "      <th></th>\n",
       "      <th>Climate Model</th>\n",
       "      <th>Annual Qs (new curve)</th>\n",
       "      <th>Annual Qs (old curve)</th>\n",
       "      <th>Percent Difference</th>\n",
       "    </tr>\n",
       "  </thead>\n",
       "  <tbody>\n",
       "    <tr>\n",
       "      <th>0</th>\n",
       "      <td>GFDL_ESM2M</td>\n",
       "      <td>256.9</td>\n",
       "      <td>270.712313</td>\n",
       "      <td>5.376533</td>\n",
       "    </tr>\n",
       "    <tr>\n",
       "      <th>1</th>\n",
       "      <td>HadGEM2</td>\n",
       "      <td>2615.7</td>\n",
       "      <td>835.804205</td>\n",
       "      <td>-68.046634</td>\n",
       "    </tr>\n",
       "    <tr>\n",
       "      <th>2</th>\n",
       "      <td>IPSL_CM5A</td>\n",
       "      <td>1272.8</td>\n",
       "      <td>614.625889</td>\n",
       "      <td>-51.710725</td>\n",
       "    </tr>\n",
       "    <tr>\n",
       "      <th>3</th>\n",
       "      <td>MIROC-ESM-CHEM</td>\n",
       "      <td>198.8</td>\n",
       "      <td>211.531523</td>\n",
       "      <td>6.404187</td>\n",
       "    </tr>\n",
       "    <tr>\n",
       "      <th>4</th>\n",
       "      <td>NORESM-M</td>\n",
       "      <td>934.5</td>\n",
       "      <td>495.369691</td>\n",
       "      <td>-46.990937</td>\n",
       "    </tr>\n",
       "  </tbody>\n",
       "</table>\n",
       "</div>"
      ],
      "text/plain": [
       "    Climate Model  Annual Qs (new curve)  Annual Qs (old curve)  \\\n",
       "0      GFDL_ESM2M                  256.9             270.712313   \n",
       "1         HadGEM2                 2615.7             835.804205   \n",
       "2       IPSL_CM5A                 1272.8             614.625889   \n",
       "3  MIROC-ESM-CHEM                  198.8             211.531523   \n",
       "4        NORESM-M                  934.5             495.369691   \n",
       "\n",
       "   Percent Difference  \n",
       "0            5.376533  \n",
       "1          -68.046634  \n",
       "2          -51.710725  \n",
       "3            6.404187  \n",
       "4          -46.990937  "
      ]
     },
     "execution_count": 13,
     "metadata": {},
     "output_type": "execute_result"
    }
   ],
   "source": [
    "val_RCP4P5 = pd.DataFrame()\n",
    "val_RCP4P5['Climate Model'] = ['GFDL_ESM2M', 'HadGEM2', 'IPSL_CM5A', 'MIROC-ESM-CHEM', 'NORESM-M']\n",
    "val_RCP4P5['Annual Qs (new curve)'] = [gfdl_qs_4p5_new, hadgem_qs_4p5_new, ipsl_qs_4p5_new, miroc_qs_4p5_new, noresm_qs_4p5_new]\n",
    "val_RCP4P5['Annual Qs (old curve)'] = [gfdl_qs_4p5_old, hadgem_qs_4p5_old, ipsl_qs_4p5_old, miroc_qs_4p5_old, noresm_qs_4p5_old]\n",
    "val_RCP4P5['Percent Difference'] = (val_RCP4P5['Annual Qs (old curve)'] - val_RCP4P5['Annual Qs (new curve)'])/val_RCP4P5['Annual Qs (new curve)']*100\n",
    "val_RCP4P5"
   ]
  },
  {
   "cell_type": "code",
   "execution_count": 14,
   "metadata": {},
   "outputs": [
    {
     "data": {
      "text/html": [
       "<div>\n",
       "<style scoped>\n",
       "    .dataframe tbody tr th:only-of-type {\n",
       "        vertical-align: middle;\n",
       "    }\n",
       "\n",
       "    .dataframe tbody tr th {\n",
       "        vertical-align: top;\n",
       "    }\n",
       "\n",
       "    .dataframe thead th {\n",
       "        text-align: right;\n",
       "    }\n",
       "</style>\n",
       "<table border=\"1\" class=\"dataframe\">\n",
       "  <thead>\n",
       "    <tr style=\"text-align: right;\">\n",
       "      <th></th>\n",
       "      <th>Climate Model</th>\n",
       "      <th>Annual Qs (new curve)</th>\n",
       "      <th>Annual Qs (old curve)</th>\n",
       "      <th>Percent Difference</th>\n",
       "    </tr>\n",
       "  </thead>\n",
       "  <tbody>\n",
       "    <tr>\n",
       "      <th>0</th>\n",
       "      <td>GFDL_ESM2M</td>\n",
       "      <td>709.6</td>\n",
       "      <td>476.112854</td>\n",
       "      <td>-32.904051</td>\n",
       "    </tr>\n",
       "    <tr>\n",
       "      <th>1</th>\n",
       "      <td>HadGEM2</td>\n",
       "      <td>1811.1</td>\n",
       "      <td>806.071347</td>\n",
       "      <td>-55.492720</td>\n",
       "    </tr>\n",
       "    <tr>\n",
       "      <th>2</th>\n",
       "      <td>IPSL_CM5A</td>\n",
       "      <td>286.9</td>\n",
       "      <td>163.357697</td>\n",
       "      <td>-43.061102</td>\n",
       "    </tr>\n",
       "    <tr>\n",
       "      <th>3</th>\n",
       "      <td>MIROC-ESM-CHEM</td>\n",
       "      <td>340.7</td>\n",
       "      <td>267.420329</td>\n",
       "      <td>-21.508562</td>\n",
       "    </tr>\n",
       "    <tr>\n",
       "      <th>4</th>\n",
       "      <td>NORESM-M</td>\n",
       "      <td>762.6</td>\n",
       "      <td>493.104216</td>\n",
       "      <td>-35.339075</td>\n",
       "    </tr>\n",
       "  </tbody>\n",
       "</table>\n",
       "</div>"
      ],
      "text/plain": [
       "    Climate Model  Annual Qs (new curve)  Annual Qs (old curve)  \\\n",
       "0      GFDL_ESM2M                  709.6             476.112854   \n",
       "1         HadGEM2                 1811.1             806.071347   \n",
       "2       IPSL_CM5A                  286.9             163.357697   \n",
       "3  MIROC-ESM-CHEM                  340.7             267.420329   \n",
       "4        NORESM-M                  762.6             493.104216   \n",
       "\n",
       "   Percent Difference  \n",
       "0          -32.904051  \n",
       "1          -55.492720  \n",
       "2          -43.061102  \n",
       "3          -21.508562  \n",
       "4          -35.339075  "
      ]
     },
     "execution_count": 14,
     "metadata": {},
     "output_type": "execute_result"
    }
   ],
   "source": [
    "val_RCP8P5 = pd.DataFrame()\n",
    "val_RCP8P5['Climate Model'] = ['GFDL_ESM2M', 'HadGEM2', 'IPSL_CM5A', 'MIROC-ESM-CHEM', 'NORESM-M']\n",
    "val_RCP8P5['Annual Qs (new curve)'] = [gfdl_qs_8p5_new, hadgem_qs_8p5_new, ipsl_qs_8p5_new, miroc_qs_8p5_new, noresm_qs_8p5_new]\n",
    "val_RCP8P5['Annual Qs (old curve)'] = [gfdl_qs_8p5_old, hadgem_qs_8p5_old, ipsl_qs_8p5_old, miroc_qs_8p5_old, noresm_qs_8p5_old]\n",
    "val_RCP8P5['Percent Difference'] = (val_RCP8P5['Annual Qs (old curve)'] - val_RCP8P5['Annual Qs (new curve)'])/val_RCP8P5['Annual Qs (new curve)']*100\n",
    "val_RCP8P5"
   ]
  },
  {
   "cell_type": "code",
   "execution_count": null,
   "metadata": {},
   "outputs": [],
   "source": []
  }
 ],
 "metadata": {
  "kernelspec": {
   "display_name": "Python 3",
   "language": "python",
   "name": "python3"
  },
  "language_info": {
   "codemirror_mode": {
    "name": "ipython",
    "version": 3
   },
   "file_extension": ".py",
   "mimetype": "text/x-python",
   "name": "python",
   "nbconvert_exporter": "python",
   "pygments_lexer": "ipython3",
   "version": "3.7.7"
  }
 },
 "nbformat": 4,
 "nbformat_minor": 4
}
