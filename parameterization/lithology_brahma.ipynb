{
 "cells": [
  {
   "cell_type": "code",
   "execution_count": 6,
   "metadata": {},
   "outputs": [],
   "source": [
    "import numpy as np\n",
    "import pandas as pd\n",
    "import matplotlib.pyplot as plt"
   ]
  },
  {
   "cell_type": "code",
   "execution_count": 7,
   "metadata": {},
   "outputs": [],
   "source": [
    "brahma_data = pd.read_csv('Lithology_data/clip_brahma.txt')\n",
    "brahma = pd.DataFrame(brahma_data)"
   ]
  },
  {
   "cell_type": "code",
   "execution_count": 8,
   "metadata": {},
   "outputs": [
    {
     "data": {
      "text/html": [
       "<div>\n",
       "<style scoped>\n",
       "    .dataframe tbody tr th:only-of-type {\n",
       "        vertical-align: middle;\n",
       "    }\n",
       "\n",
       "    .dataframe tbody tr th {\n",
       "        vertical-align: top;\n",
       "    }\n",
       "\n",
       "    .dataframe thead th {\n",
       "        text-align: right;\n",
       "    }\n",
       "</style>\n",
       "<table border=\"1\" class=\"dataframe\">\n",
       "  <thead>\n",
       "    <tr style=\"text-align: right;\">\n",
       "      <th></th>\n",
       "      <th>FID</th>\n",
       "      <th>IDENTITY_</th>\n",
       "      <th>Litho</th>\n",
       "      <th>xx</th>\n",
       "      <th>Shape_Leng</th>\n",
       "      <th>Shape_Area</th>\n",
       "    </tr>\n",
       "  </thead>\n",
       "  <tbody>\n",
       "    <tr>\n",
       "      <th>0</th>\n",
       "      <td>0</td>\n",
       "      <td>SASI1247</td>\n",
       "      <td>pa__mt</td>\n",
       "      <td>pa</td>\n",
       "      <td>4.606367e+04</td>\n",
       "      <td>8.433581e+07</td>\n",
       "    </tr>\n",
       "    <tr>\n",
       "      <th>1</th>\n",
       "      <td>1</td>\n",
       "      <td>SASI1256</td>\n",
       "      <td>mt____</td>\n",
       "      <td>mt</td>\n",
       "      <td>7.197060e+04</td>\n",
       "      <td>1.979824e+08</td>\n",
       "    </tr>\n",
       "    <tr>\n",
       "      <th>2</th>\n",
       "      <td>2</td>\n",
       "      <td>SASI1261</td>\n",
       "      <td>mtpu__</td>\n",
       "      <td>mt</td>\n",
       "      <td>2.486609e+05</td>\n",
       "      <td>9.007092e+08</td>\n",
       "    </tr>\n",
       "    <tr>\n",
       "      <th>3</th>\n",
       "      <td>3</td>\n",
       "      <td>SASI1285</td>\n",
       "      <td>mt____</td>\n",
       "      <td>mt</td>\n",
       "      <td>5.217638e+04</td>\n",
       "      <td>2.064544e+07</td>\n",
       "    </tr>\n",
       "    <tr>\n",
       "      <th>4</th>\n",
       "      <td>4</td>\n",
       "      <td>SASI1305</td>\n",
       "      <td>mtpu__</td>\n",
       "      <td>mt</td>\n",
       "      <td>2.600287e+05</td>\n",
       "      <td>8.032660e+08</td>\n",
       "    </tr>\n",
       "    <tr>\n",
       "      <th>...</th>\n",
       "      <td>...</td>\n",
       "      <td>...</td>\n",
       "      <td>...</td>\n",
       "      <td>...</td>\n",
       "      <td>...</td>\n",
       "      <td>...</td>\n",
       "    </tr>\n",
       "    <tr>\n",
       "      <th>1715</th>\n",
       "      <td>1715</td>\n",
       "      <td>HIMAL1443</td>\n",
       "      <td>smmxev</td>\n",
       "      <td>sm</td>\n",
       "      <td>1.361087e+05</td>\n",
       "      <td>6.867382e+08</td>\n",
       "    </tr>\n",
       "    <tr>\n",
       "      <th>1716</th>\n",
       "      <td>1716</td>\n",
       "      <td>HIMAL1446</td>\n",
       "      <td>smmxmt</td>\n",
       "      <td>sm</td>\n",
       "      <td>8.823971e+04</td>\n",
       "      <td>5.625200e+07</td>\n",
       "    </tr>\n",
       "    <tr>\n",
       "      <th>1717</th>\n",
       "      <td>1717</td>\n",
       "      <td>HIMAL1447</td>\n",
       "      <td>mtpu__</td>\n",
       "      <td>mt</td>\n",
       "      <td>1.139806e+05</td>\n",
       "      <td>1.025466e+08</td>\n",
       "    </tr>\n",
       "    <tr>\n",
       "      <th>1718</th>\n",
       "      <td>1718</td>\n",
       "      <td>HIMAL1450</td>\n",
       "      <td>smshfe</td>\n",
       "      <td>sm</td>\n",
       "      <td>5.488479e+04</td>\n",
       "      <td>1.423495e+08</td>\n",
       "    </tr>\n",
       "    <tr>\n",
       "      <th>1719</th>\n",
       "      <td>1719</td>\n",
       "      <td>IND201</td>\n",
       "      <td>sumx__</td>\n",
       "      <td>su</td>\n",
       "      <td>3.319492e+07</td>\n",
       "      <td>8.358544e+11</td>\n",
       "    </tr>\n",
       "  </tbody>\n",
       "</table>\n",
       "<p>1720 rows × 6 columns</p>\n",
       "</div>"
      ],
      "text/plain": [
       "       FID  IDENTITY_   Litho  xx    Shape_Leng    Shape_Area\n",
       "0        0   SASI1247  pa__mt  pa  4.606367e+04  8.433581e+07\n",
       "1        1   SASI1256  mt____  mt  7.197060e+04  1.979824e+08\n",
       "2        2   SASI1261  mtpu__  mt  2.486609e+05  9.007092e+08\n",
       "3        3   SASI1285  mt____  mt  5.217638e+04  2.064544e+07\n",
       "4        4   SASI1305  mtpu__  mt  2.600287e+05  8.032660e+08\n",
       "...    ...        ...     ...  ..           ...           ...\n",
       "1715  1715  HIMAL1443  smmxev  sm  1.361087e+05  6.867382e+08\n",
       "1716  1716  HIMAL1446  smmxmt  sm  8.823971e+04  5.625200e+07\n",
       "1717  1717  HIMAL1447  mtpu__  mt  1.139806e+05  1.025466e+08\n",
       "1718  1718  HIMAL1450  smshfe  sm  5.488479e+04  1.423495e+08\n",
       "1719  1719     IND201  sumx__  su  3.319492e+07  8.358544e+11\n",
       "\n",
       "[1720 rows x 6 columns]"
      ]
     },
     "execution_count": 8,
     "metadata": {},
     "output_type": "execute_result"
    }
   ],
   "source": [
    "brahma"
   ]
  },
  {
   "cell_type": "code",
   "execution_count": 9,
   "metadata": {},
   "outputs": [
    {
     "data": {
      "text/plain": [
       "1475790980134.7498"
      ]
     },
     "execution_count": 9,
     "metadata": {},
     "output_type": "execute_result"
    }
   ],
   "source": [
    "total_area = sum(brahma['Shape_Area'])\n",
    "total_area"
   ]
  },
  {
   "cell_type": "code",
   "execution_count": 10,
   "metadata": {},
   "outputs": [
    {
     "data": {
      "text/html": [
       "<div>\n",
       "<style scoped>\n",
       "    .dataframe tbody tr th:only-of-type {\n",
       "        vertical-align: middle;\n",
       "    }\n",
       "\n",
       "    .dataframe tbody tr th {\n",
       "        vertical-align: top;\n",
       "    }\n",
       "\n",
       "    .dataframe thead th {\n",
       "        text-align: right;\n",
       "    }\n",
       "</style>\n",
       "<table border=\"1\" class=\"dataframe\">\n",
       "  <thead>\n",
       "    <tr style=\"text-align: right;\">\n",
       "      <th></th>\n",
       "      <th>FID</th>\n",
       "      <th>IDENTITY_</th>\n",
       "      <th>Litho</th>\n",
       "      <th>xx</th>\n",
       "      <th>Shape_Leng</th>\n",
       "      <th>Shape_Area</th>\n",
       "    </tr>\n",
       "  </thead>\n",
       "  <tbody>\n",
       "    <tr>\n",
       "      <th>843</th>\n",
       "      <td>843</td>\n",
       "      <td>CHN40316</td>\n",
       "      <td>ig____</td>\n",
       "      <td>ig</td>\n",
       "      <td>482334.514659</td>\n",
       "      <td>1.115624e+09</td>\n",
       "    </tr>\n",
       "    <tr>\n",
       "      <th>1003</th>\n",
       "      <td>1003</td>\n",
       "      <td>CHN40980</td>\n",
       "      <td>ig____</td>\n",
       "      <td>ig</td>\n",
       "      <td>59240.956590</td>\n",
       "      <td>7.926916e+07</td>\n",
       "    </tr>\n",
       "    <tr>\n",
       "      <th>988</th>\n",
       "      <td>988</td>\n",
       "      <td>CHN40922</td>\n",
       "      <td>ig____</td>\n",
       "      <td>ig</td>\n",
       "      <td>85180.864451</td>\n",
       "      <td>1.092163e+08</td>\n",
       "    </tr>\n",
       "    <tr>\n",
       "      <th>1318</th>\n",
       "      <td>1318</td>\n",
       "      <td>CHN42523</td>\n",
       "      <td>ig____</td>\n",
       "      <td>ig</td>\n",
       "      <td>71126.361322</td>\n",
       "      <td>9.851186e+07</td>\n",
       "    </tr>\n",
       "    <tr>\n",
       "      <th>1144</th>\n",
       "      <td>1144</td>\n",
       "      <td>CHN42194</td>\n",
       "      <td>ig____</td>\n",
       "      <td>ig</td>\n",
       "      <td>95180.516902</td>\n",
       "      <td>1.232283e+08</td>\n",
       "    </tr>\n",
       "    <tr>\n",
       "      <th>...</th>\n",
       "      <td>...</td>\n",
       "      <td>...</td>\n",
       "      <td>...</td>\n",
       "      <td>...</td>\n",
       "      <td>...</td>\n",
       "      <td>...</td>\n",
       "    </tr>\n",
       "    <tr>\n",
       "      <th>99</th>\n",
       "      <td>99</td>\n",
       "      <td>BGD125</td>\n",
       "      <td>wb____</td>\n",
       "      <td>wb</td>\n",
       "      <td>7299.759387</td>\n",
       "      <td>2.447790e+06</td>\n",
       "    </tr>\n",
       "    <tr>\n",
       "      <th>252</th>\n",
       "      <td>252</td>\n",
       "      <td>BGD680</td>\n",
       "      <td>wb____</td>\n",
       "      <td>wb</td>\n",
       "      <td>6933.497697</td>\n",
       "      <td>1.070878e+06</td>\n",
       "    </tr>\n",
       "    <tr>\n",
       "      <th>101</th>\n",
       "      <td>101</td>\n",
       "      <td>BGD127</td>\n",
       "      <td>wb____</td>\n",
       "      <td>wb</td>\n",
       "      <td>4740.680628</td>\n",
       "      <td>7.781583e+05</td>\n",
       "    </tr>\n",
       "    <tr>\n",
       "      <th>268</th>\n",
       "      <td>268</td>\n",
       "      <td>BGD755</td>\n",
       "      <td>wb____</td>\n",
       "      <td>wb</td>\n",
       "      <td>4899.109242</td>\n",
       "      <td>7.741954e+05</td>\n",
       "    </tr>\n",
       "    <tr>\n",
       "      <th>117</th>\n",
       "      <td>117</td>\n",
       "      <td>BGD154</td>\n",
       "      <td>wb____</td>\n",
       "      <td>wb</td>\n",
       "      <td>8982.115993</td>\n",
       "      <td>1.799801e+06</td>\n",
       "    </tr>\n",
       "  </tbody>\n",
       "</table>\n",
       "<p>1720 rows × 6 columns</p>\n",
       "</div>"
      ],
      "text/plain": [
       "       FID IDENTITY_   Litho  xx     Shape_Leng    Shape_Area\n",
       "843    843  CHN40316  ig____  ig  482334.514659  1.115624e+09\n",
       "1003  1003  CHN40980  ig____  ig   59240.956590  7.926916e+07\n",
       "988    988  CHN40922  ig____  ig   85180.864451  1.092163e+08\n",
       "1318  1318  CHN42523  ig____  ig   71126.361322  9.851186e+07\n",
       "1144  1144  CHN42194  ig____  ig   95180.516902  1.232283e+08\n",
       "...    ...       ...     ...  ..            ...           ...\n",
       "99      99    BGD125  wb____  wb    7299.759387  2.447790e+06\n",
       "252    252    BGD680  wb____  wb    6933.497697  1.070878e+06\n",
       "101    101    BGD127  wb____  wb    4740.680628  7.781583e+05\n",
       "268    268    BGD755  wb____  wb    4899.109242  7.741954e+05\n",
       "117    117    BGD154  wb____  wb    8982.115993  1.799801e+06\n",
       "\n",
       "[1720 rows x 6 columns]"
      ]
     },
     "execution_count": 10,
     "metadata": {},
     "output_type": "execute_result"
    }
   ],
   "source": [
    "brahma.sort_values('xx', axis = 0)"
   ]
  },
  {
   "cell_type": "code",
   "execution_count": 11,
   "metadata": {},
   "outputs": [],
   "source": [
    "# one way to calculate area of each rock type, but not most efficient\n",
    "ice_and_glaciers = brahma.loc[brahma['xx'] == 'ig', 'Shape_Area'].sum()\n",
    "metamorphic_rocks = brahma.loc[brahma['xx'] == 'mt', 'Shape_Area'].sum()"
   ]
  },
  {
   "cell_type": "code",
   "execution_count": 12,
   "metadata": {},
   "outputs": [],
   "source": [
    "rock_types = ['su', 'ss', 'sm', 'py', 'sc', 'ev', 'mt', 'pa', 'pi', 'pb', 'va', 'vi', 'vb', 'ig', 'wb', 'nd']"
   ]
  },
  {
   "cell_type": "code",
   "execution_count": 13,
   "metadata": {},
   "outputs": [
    {
     "data": {
      "text/plain": [
       "{'su': 888161196555.0415,\n",
       " 'ss': 74240560420.5433,\n",
       " 'sm': 192599815061.3406,\n",
       " 'py': 0.0,\n",
       " 'sc': 12670557753.408108,\n",
       " 'ev': 0.0,\n",
       " 'mt': 135616571013.48488,\n",
       " 'pa': 89628398419.0444,\n",
       " 'pi': 3119223557.481892,\n",
       " 'pb': 3615269822.199301,\n",
       " 'va': 57216218716.814804,\n",
       " 'vi': 1894107295.5757496,\n",
       " 'vb': 1350493118.600953,\n",
       " 'ig': 9758386630.1975,\n",
       " 'wb': 5920181771.018463,\n",
       " 'nd': 0.0}"
      ]
     },
     "execution_count": 13,
     "metadata": {},
     "output_type": "execute_result"
    }
   ],
   "source": [
    "litho = {}\n",
    "for x in rock_types:\n",
    "    litho[x] = brahma.loc[brahma['xx'] == x, 'Shape_Area'].sum()\n",
    "    \n",
    "litho"
   ]
  },
  {
   "cell_type": "code",
   "execution_count": 14,
   "metadata": {},
   "outputs": [
    {
     "data": {
      "text/plain": [
       "1475790980134.7517"
      ]
     },
     "execution_count": 14,
     "metadata": {},
     "output_type": "execute_result"
    }
   ],
   "source": [
    "sum(litho.values())"
   ]
  },
  {
   "cell_type": "code",
   "execution_count": 15,
   "metadata": {},
   "outputs": [
    {
     "data": {
      "text/plain": [
       "1475790980134.7498"
      ]
     },
     "execution_count": 15,
     "metadata": {},
     "output_type": "execute_result"
    }
   ],
   "source": [
    "# check that sum of litho values is same as total area\n",
    "total_area"
   ]
  },
  {
   "cell_type": "code",
   "execution_count": 16,
   "metadata": {},
   "outputs": [
    {
     "data": {
      "text/plain": [
       "array([0.60182045, 0.05030561, 0.13050616, 0.        , 0.0085856 ,\n",
       "       0.        , 0.09189416, 0.06073245, 0.00211359, 0.00244972,\n",
       "       0.03876987, 0.00128345, 0.0009151 , 0.00661231, 0.00401153,\n",
       "       0.        ])"
      ]
     },
     "execution_count": 16,
     "metadata": {},
     "output_type": "execute_result"
    }
   ],
   "source": [
    "from numpy import array\n",
    "rock_type_area = array([litho[x] for x in litho])/sum(litho.values())\n",
    "rock_type_area"
   ]
  },
  {
   "cell_type": "code",
   "execution_count": 17,
   "metadata": {},
   "outputs": [
    {
     "name": "stdout",
     "output_type": "stream",
     "text": [
      "0.6018204532419261\n"
     ]
    }
   ],
   "source": [
    "# check that array matches manual calculation\n",
    "print(litho['su']/total_area)"
   ]
  },
  {
   "cell_type": "markdown",
   "metadata": {},
   "source": [
    "##### From Syvitski and Milliman, 2007:\n",
    "\n",
    "1. For basins composed principally of hard, acid plutonic and/or high-grade metamorphic rocks, we assigned L p 0.5. The database contains 122 river basins, including the shield terrains from northeast Canada, Africa, Australia, Scandinavia, east South America, and India. Type basins include the Sag- uenay (Canada), Manzanares (Venezuela), Herbert (Australia), Congo/Zaire, and Muonio Alv (Swe- den). Globally, 23% of the land surface is covered in acid plutonic rocks, Precambrian basement, or high-grade metamorphic rocks (Du ̈rr et al., forth- coming).\n",
    "2. For basins composed of mixed, mostly hard lithology, sometimes including shield material, we assigned L p 0.75 to 18 basins. Type basins include the Columbia, Zambezi, Chao Phraya, and Yenisei. Only 5% of the global land surface is covered with these hard mixed lithologies (Du ̈rr et al., forth- coming).\n",
    "3. For basins composed of volcanic, mostly ba- saltic rocks (e.g., Tapti, India), or carbonate out- crops (e.g., Suwannee, United States), or mixture of hard and soft lithologies (Niger, Orinoco, Amazon), we assigned L p 1.0 to 112 basins. Globally 17% of the earth surface is covered in volcanic and car- bonate rocks (Du ̈ rr et al., forthcoming).\n",
    "4. For basins characterized by a predominance of softer lithologies but having a significant area of harder lithologies, we assigned L p 1.5 to 65 ba- sins. Type examples include the Yukon and the Lena, with their mixture of Precambrian granites, hard carbonates, and softer siliciclastic sedimen- tary rocks.\n",
    "5. The largest category with 165 L p 2 basins, is reserved for fluvial systems draining a significant proportion of sedimentary rocks, unconsolidated sedimentary cover, or alluvial deposits. Type basins include the Mississippi, Orange, Danube. Fully 50% of the earth surface is covered in these softer sedimentary materials (Du ̈ rr et al., forthcoming).\n",
    "6. Four basins in the database are identified as having an abundance of exceptionally weak ma- terial, such as crushed rock (e.g., Waipaoa or Waiapu, New Zealand; Eel, United States) or loess deposits (e.g., Huanghe, China), and merit an L p 3 designation. Only 4% of the world is covered in these highly erodable lithologies (Du ̈ rr et al., forthcoming).\n"
   ]
  },
  {
   "cell_type": "code",
   "execution_count": 18,
   "metadata": {},
   "outputs": [
    {
     "data": {
      "text/plain": [
       "['su',\n",
       " 'ss',\n",
       " 'sm',\n",
       " 'py',\n",
       " 'sc',\n",
       " 'ev',\n",
       " 'mt',\n",
       " 'pa',\n",
       " 'pi',\n",
       " 'pb',\n",
       " 'va',\n",
       " 'vi',\n",
       " 'vb',\n",
       " 'ig',\n",
       " 'wb',\n",
       " 'nd']"
      ]
     },
     "execution_count": 18,
     "metadata": {},
     "output_type": "execute_result"
    }
   ],
   "source": [
    "rock_types"
   ]
  },
  {
   "cell_type": "code",
   "execution_count": 19,
   "metadata": {},
   "outputs": [],
   "source": [
    "l_factor = [2, 2, 2, 1, 1, 1, 0.5, 0.5, 0.5, 0.75, 0.75, 1, 1, 0, 0, 0]"
   ]
  },
  {
   "cell_type": "code",
   "execution_count": 20,
   "metadata": {},
   "outputs": [
    {
     "data": {
      "text/plain": [
       "1.684333383656902"
      ]
     },
     "execution_count": 20,
     "metadata": {},
     "output_type": "execute_result"
    }
   ],
   "source": [
    "weighted_average = rock_type_area*l_factor\n",
    "weighted_average\n",
    "weighted_average.sum()"
   ]
  },
  {
   "cell_type": "markdown",
   "metadata": {},
   "source": []
  }
 ],
 "metadata": {
  "kernelspec": {
   "display_name": "Python 3",
   "language": "python",
   "name": "python3"
  },
  "language_info": {
   "codemirror_mode": {
    "name": "ipython",
    "version": 3
   },
   "file_extension": ".py",
   "mimetype": "text/x-python",
   "name": "python",
   "nbconvert_exporter": "python",
   "pygments_lexer": "ipython3",
   "version": "3.7.7"
  }
 },
 "nbformat": 4,
 "nbformat_minor": 4
}
