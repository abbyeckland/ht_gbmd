{
 "cells": [
  {
   "cell_type": "code",
   "execution_count": 1,
   "metadata": {},
   "outputs": [],
   "source": [
    "import numpy as np\n",
    "import pandas as pd\n",
    "import matplotlib.pyplot as plt"
   ]
  },
  {
   "cell_type": "code",
   "execution_count": 2,
   "metadata": {},
   "outputs": [],
   "source": [
    "farakka_data = pd.read_csv('Lithology_data/clip_farakka.txt')\n",
    "farakka = pd.DataFrame(farakka_data)"
   ]
  },
  {
   "cell_type": "code",
   "execution_count": 3,
   "metadata": {},
   "outputs": [
    {
     "data": {
      "text/html": [
       "<div>\n",
       "<style scoped>\n",
       "    .dataframe tbody tr th:only-of-type {\n",
       "        vertical-align: middle;\n",
       "    }\n",
       "\n",
       "    .dataframe tbody tr th {\n",
       "        vertical-align: top;\n",
       "    }\n",
       "\n",
       "    .dataframe thead th {\n",
       "        text-align: right;\n",
       "    }\n",
       "</style>\n",
       "<table border=\"1\" class=\"dataframe\">\n",
       "  <thead>\n",
       "    <tr style=\"text-align: right;\">\n",
       "      <th></th>\n",
       "      <th>FID</th>\n",
       "      <th>IDENTITY_</th>\n",
       "      <th>Litho</th>\n",
       "      <th>xx</th>\n",
       "      <th>Shape_Leng</th>\n",
       "      <th>Shape_Area</th>\n",
       "    </tr>\n",
       "  </thead>\n",
       "  <tbody>\n",
       "    <tr>\n",
       "      <th>0</th>\n",
       "      <td>0</td>\n",
       "      <td>SASI1134</td>\n",
       "      <td>pa____</td>\n",
       "      <td>pa</td>\n",
       "      <td>6.385604e+04</td>\n",
       "      <td>1.348826e+08</td>\n",
       "    </tr>\n",
       "    <tr>\n",
       "      <th>1</th>\n",
       "      <td>1</td>\n",
       "      <td>SASI1170</td>\n",
       "      <td>mtpu__</td>\n",
       "      <td>mt</td>\n",
       "      <td>2.467384e+04</td>\n",
       "      <td>2.413643e+07</td>\n",
       "    </tr>\n",
       "    <tr>\n",
       "      <th>2</th>\n",
       "      <td>2</td>\n",
       "      <td>SASI1196</td>\n",
       "      <td>mt____</td>\n",
       "      <td>mt</td>\n",
       "      <td>9.934210e+04</td>\n",
       "      <td>1.221268e+08</td>\n",
       "    </tr>\n",
       "    <tr>\n",
       "      <th>3</th>\n",
       "      <td>3</td>\n",
       "      <td>SASI1200</td>\n",
       "      <td>mt____</td>\n",
       "      <td>mt</td>\n",
       "      <td>8.761628e+04</td>\n",
       "      <td>1.718087e+08</td>\n",
       "    </tr>\n",
       "    <tr>\n",
       "      <th>4</th>\n",
       "      <td>4</td>\n",
       "      <td>SASI1201</td>\n",
       "      <td>mt____</td>\n",
       "      <td>mt</td>\n",
       "      <td>7.078859e+05</td>\n",
       "      <td>4.015614e+09</td>\n",
       "    </tr>\n",
       "    <tr>\n",
       "      <th>...</th>\n",
       "      <td>...</td>\n",
       "      <td>...</td>\n",
       "      <td>...</td>\n",
       "      <td>...</td>\n",
       "      <td>...</td>\n",
       "      <td>...</td>\n",
       "    </tr>\n",
       "    <tr>\n",
       "      <th>1407</th>\n",
       "      <td>1407</td>\n",
       "      <td>HIMAL1448</td>\n",
       "      <td>vb____</td>\n",
       "      <td>vb</td>\n",
       "      <td>2.901862e+04</td>\n",
       "      <td>1.371334e+07</td>\n",
       "    </tr>\n",
       "    <tr>\n",
       "      <th>1408</th>\n",
       "      <td>1408</td>\n",
       "      <td>IND201</td>\n",
       "      <td>sumx__</td>\n",
       "      <td>su</td>\n",
       "      <td>3.319492e+07</td>\n",
       "      <td>8.358544e+11</td>\n",
       "    </tr>\n",
       "    <tr>\n",
       "      <th>1409</th>\n",
       "      <td>1409</td>\n",
       "      <td>CHN33568</td>\n",
       "      <td>sush__</td>\n",
       "      <td>su</td>\n",
       "      <td>9.614567e+05</td>\n",
       "      <td>4.180746e+09</td>\n",
       "    </tr>\n",
       "    <tr>\n",
       "      <th>1410</th>\n",
       "      <td>1410</td>\n",
       "      <td>HIMAL618</td>\n",
       "      <td>smshmt</td>\n",
       "      <td>sm</td>\n",
       "      <td>1.174065e+06</td>\n",
       "      <td>1.919033e+09</td>\n",
       "    </tr>\n",
       "    <tr>\n",
       "      <th>1411</th>\n",
       "      <td>1411</td>\n",
       "      <td>HIMAL935</td>\n",
       "      <td>pa____</td>\n",
       "      <td>pa</td>\n",
       "      <td>7.315090e+05</td>\n",
       "      <td>2.354452e+09</td>\n",
       "    </tr>\n",
       "  </tbody>\n",
       "</table>\n",
       "<p>1412 rows × 6 columns</p>\n",
       "</div>"
      ],
      "text/plain": [
       "       FID  IDENTITY_   Litho  xx    Shape_Leng    Shape_Area\n",
       "0        0   SASI1134  pa____  pa  6.385604e+04  1.348826e+08\n",
       "1        1   SASI1170  mtpu__  mt  2.467384e+04  2.413643e+07\n",
       "2        2   SASI1196  mt____  mt  9.934210e+04  1.221268e+08\n",
       "3        3   SASI1200  mt____  mt  8.761628e+04  1.718087e+08\n",
       "4        4   SASI1201  mt____  mt  7.078859e+05  4.015614e+09\n",
       "...    ...        ...     ...  ..           ...           ...\n",
       "1407  1407  HIMAL1448  vb____  vb  2.901862e+04  1.371334e+07\n",
       "1408  1408     IND201  sumx__  su  3.319492e+07  8.358544e+11\n",
       "1409  1409   CHN33568  sush__  su  9.614567e+05  4.180746e+09\n",
       "1410  1410   HIMAL618  smshmt  sm  1.174065e+06  1.919033e+09\n",
       "1411  1411   HIMAL935  pa____  pa  7.315090e+05  2.354452e+09\n",
       "\n",
       "[1412 rows x 6 columns]"
      ]
     },
     "execution_count": 3,
     "metadata": {},
     "output_type": "execute_result"
    }
   ],
   "source": [
    "farakka"
   ]
  },
  {
   "cell_type": "code",
   "execution_count": 4,
   "metadata": {},
   "outputs": [
    {
     "data": {
      "text/plain": [
       "1928927743487.8032"
      ]
     },
     "execution_count": 4,
     "metadata": {},
     "output_type": "execute_result"
    }
   ],
   "source": [
    "total_area = sum(farakka['Shape_Area'])\n",
    "total_area"
   ]
  },
  {
   "cell_type": "code",
   "execution_count": 5,
   "metadata": {},
   "outputs": [
    {
     "data": {
      "text/html": [
       "<div>\n",
       "<style scoped>\n",
       "    .dataframe tbody tr th:only-of-type {\n",
       "        vertical-align: middle;\n",
       "    }\n",
       "\n",
       "    .dataframe tbody tr th {\n",
       "        vertical-align: top;\n",
       "    }\n",
       "\n",
       "    .dataframe thead th {\n",
       "        text-align: right;\n",
       "    }\n",
       "</style>\n",
       "<table border=\"1\" class=\"dataframe\">\n",
       "  <thead>\n",
       "    <tr style=\"text-align: right;\">\n",
       "      <th></th>\n",
       "      <th>FID</th>\n",
       "      <th>IDENTITY_</th>\n",
       "      <th>Litho</th>\n",
       "      <th>xx</th>\n",
       "      <th>Shape_Leng</th>\n",
       "      <th>Shape_Area</th>\n",
       "    </tr>\n",
       "  </thead>\n",
       "  <tbody>\n",
       "    <tr>\n",
       "      <th>884</th>\n",
       "      <td>884</td>\n",
       "      <td>CHN45168</td>\n",
       "      <td>ig____</td>\n",
       "      <td>ig</td>\n",
       "      <td>35643.819635</td>\n",
       "      <td>4.605724e+07</td>\n",
       "    </tr>\n",
       "    <tr>\n",
       "      <th>883</th>\n",
       "      <td>883</td>\n",
       "      <td>CHN45081</td>\n",
       "      <td>ig____</td>\n",
       "      <td>ig</td>\n",
       "      <td>99710.629542</td>\n",
       "      <td>2.027622e+08</td>\n",
       "    </tr>\n",
       "    <tr>\n",
       "      <th>765</th>\n",
       "      <td>765</td>\n",
       "      <td>CHN43372</td>\n",
       "      <td>ig____</td>\n",
       "      <td>ig</td>\n",
       "      <td>29730.450622</td>\n",
       "      <td>2.842827e+07</td>\n",
       "    </tr>\n",
       "    <tr>\n",
       "      <th>882</th>\n",
       "      <td>882</td>\n",
       "      <td>CHN44879</td>\n",
       "      <td>ig____</td>\n",
       "      <td>ig</td>\n",
       "      <td>83642.095024</td>\n",
       "      <td>1.351959e+08</td>\n",
       "    </tr>\n",
       "    <tr>\n",
       "      <th>770</th>\n",
       "      <td>770</td>\n",
       "      <td>CHN43407</td>\n",
       "      <td>ig____</td>\n",
       "      <td>ig</td>\n",
       "      <td>230021.784828</td>\n",
       "      <td>4.397050e+08</td>\n",
       "    </tr>\n",
       "    <tr>\n",
       "      <th>...</th>\n",
       "      <td>...</td>\n",
       "      <td>...</td>\n",
       "      <td>...</td>\n",
       "      <td>...</td>\n",
       "      <td>...</td>\n",
       "      <td>...</td>\n",
       "    </tr>\n",
       "    <tr>\n",
       "      <th>112</th>\n",
       "      <td>112</td>\n",
       "      <td>BGD92</td>\n",
       "      <td>wb____</td>\n",
       "      <td>wb</td>\n",
       "      <td>3534.053459</td>\n",
       "      <td>5.972265e+05</td>\n",
       "    </tr>\n",
       "    <tr>\n",
       "      <th>110</th>\n",
       "      <td>110</td>\n",
       "      <td>BGD67</td>\n",
       "      <td>wb____</td>\n",
       "      <td>wb</td>\n",
       "      <td>25893.094188</td>\n",
       "      <td>6.479268e+06</td>\n",
       "    </tr>\n",
       "    <tr>\n",
       "      <th>558</th>\n",
       "      <td>558</td>\n",
       "      <td>IND1840</td>\n",
       "      <td>wb____</td>\n",
       "      <td>wb</td>\n",
       "      <td>77825.077265</td>\n",
       "      <td>1.535025e+08</td>\n",
       "    </tr>\n",
       "    <tr>\n",
       "      <th>11</th>\n",
       "      <td>11</td>\n",
       "      <td>SASI1248</td>\n",
       "      <td>wb____</td>\n",
       "      <td>wb</td>\n",
       "      <td>11756.807102</td>\n",
       "      <td>3.064535e+06</td>\n",
       "    </tr>\n",
       "    <tr>\n",
       "      <th>111</th>\n",
       "      <td>111</td>\n",
       "      <td>BGD77</td>\n",
       "      <td>wb____</td>\n",
       "      <td>wb</td>\n",
       "      <td>2735.255157</td>\n",
       "      <td>3.202303e+05</td>\n",
       "    </tr>\n",
       "  </tbody>\n",
       "</table>\n",
       "<p>1412 rows × 6 columns</p>\n",
       "</div>"
      ],
      "text/plain": [
       "     FID IDENTITY_   Litho  xx     Shape_Leng    Shape_Area\n",
       "884  884  CHN45168  ig____  ig   35643.819635  4.605724e+07\n",
       "883  883  CHN45081  ig____  ig   99710.629542  2.027622e+08\n",
       "765  765  CHN43372  ig____  ig   29730.450622  2.842827e+07\n",
       "882  882  CHN44879  ig____  ig   83642.095024  1.351959e+08\n",
       "770  770  CHN43407  ig____  ig  230021.784828  4.397050e+08\n",
       "..   ...       ...     ...  ..            ...           ...\n",
       "112  112     BGD92  wb____  wb    3534.053459  5.972265e+05\n",
       "110  110     BGD67  wb____  wb   25893.094188  6.479268e+06\n",
       "558  558   IND1840  wb____  wb   77825.077265  1.535025e+08\n",
       "11    11  SASI1248  wb____  wb   11756.807102  3.064535e+06\n",
       "111  111     BGD77  wb____  wb    2735.255157  3.202303e+05\n",
       "\n",
       "[1412 rows x 6 columns]"
      ]
     },
     "execution_count": 5,
     "metadata": {},
     "output_type": "execute_result"
    }
   ],
   "source": [
    "farakka.sort_values('xx', axis = 0)"
   ]
  },
  {
   "cell_type": "code",
   "execution_count": 6,
   "metadata": {},
   "outputs": [],
   "source": [
    "# one way to calculate area of each rock type, but not most efficient\n",
    "ice_and_glaciers = farakka.loc[farakka['xx'] == 'ig', 'Shape_Area'].sum()\n",
    "metamorphic_rocks = farakka.loc[farakka['xx'] == 'mt', 'Shape_Area'].sum()"
   ]
  },
  {
   "cell_type": "code",
   "execution_count": 7,
   "metadata": {},
   "outputs": [],
   "source": [
    "rock_types = ['su', 'ss', 'sm', 'py', 'sc', 'ev', 'mt', 'pa', 'pi', 'pb', 'va', 'vi', 'vb', 'ig', 'wb', 'nd']"
   ]
  },
  {
   "cell_type": "code",
   "execution_count": 8,
   "metadata": {},
   "outputs": [
    {
     "data": {
      "text/plain": [
       "{'su': 883010044165.9683,\n",
       " 'ss': 127796678660.58548,\n",
       " 'sm': 122650264282.60649,\n",
       " 'py': 0.0,\n",
       " 'sc': 25247601740.81341,\n",
       " 'ev': 0.0,\n",
       " 'mt': 253637138773.23526,\n",
       " 'pa': 54411308504.4707,\n",
       " 'pi': 111987206.78299998,\n",
       " 'pb': 1211602798.67238,\n",
       " 'va': 3079720.70432,\n",
       " 'vi': 102260617.55844,\n",
       " 'vb': 457676126295.84326,\n",
       " 'ig': 2084086145.354,\n",
       " 'wb': 960442314.9089029,\n",
       " 'nd': 25122260.2985}"
      ]
     },
     "execution_count": 8,
     "metadata": {},
     "output_type": "execute_result"
    }
   ],
   "source": [
    "litho = {}\n",
    "for x in rock_types:\n",
    "    litho[x] = farakka.loc[farakka['xx'] == x, 'Shape_Area'].sum()\n",
    "    \n",
    "litho"
   ]
  },
  {
   "cell_type": "code",
   "execution_count": 9,
   "metadata": {},
   "outputs": [
    {
     "data": {
      "text/plain": [
       "1928927743487.8025"
      ]
     },
     "execution_count": 9,
     "metadata": {},
     "output_type": "execute_result"
    }
   ],
   "source": [
    "sum(litho.values())"
   ]
  },
  {
   "cell_type": "code",
   "execution_count": 10,
   "metadata": {},
   "outputs": [
    {
     "data": {
      "text/plain": [
       "1928927743487.8032"
      ]
     },
     "execution_count": 10,
     "metadata": {},
     "output_type": "execute_result"
    }
   ],
   "source": [
    "# check that sum of litho values is same as total area\n",
    "total_area"
   ]
  },
  {
   "cell_type": "code",
   "execution_count": 11,
   "metadata": {},
   "outputs": [
    {
     "data": {
      "text/plain": [
       "array([4.57772484e-01, 6.62527039e-02, 6.35846857e-02, 0.00000000e+00,\n",
       "       1.30889308e-02, 0.00000000e+00, 1.31491260e-01, 2.82080595e-02,\n",
       "       5.80567142e-05, 6.28122439e-04, 1.59659724e-06, 5.30142292e-05,\n",
       "       2.37269710e-01, 1.08043764e-03, 4.97915133e-04, 1.30239509e-05])"
      ]
     },
     "execution_count": 11,
     "metadata": {},
     "output_type": "execute_result"
    }
   ],
   "source": [
    "from numpy import array\n",
    "rock_type_area = array([litho[x] for x in litho])/sum(litho.values())\n",
    "rock_type_area"
   ]
  },
  {
   "cell_type": "code",
   "execution_count": 12,
   "metadata": {},
   "outputs": [
    {
     "name": "stdout",
     "output_type": "stream",
     "text": [
      "0.45777248377865515\n"
     ]
    }
   ],
   "source": [
    "# check that array matches manual calculation\n",
    "print(litho['su']/total_area)"
   ]
  },
  {
   "cell_type": "markdown",
   "metadata": {},
   "source": [
    "##### From Syvitski and Milliman, 2007:\n",
    "\n",
    "1. For basins composed principally of hard, acid plutonic and/or high-grade metamorphic rocks, we assigned L p 0.5. The database contains 122 river basins, including the shield terrains from northeast Canada, Africa, Australia, Scandinavia, east South America, and India. Type basins include the Sag- uenay (Canada), Manzanares (Venezuela), Herbert (Australia), Congo/Zaire, and Muonio Alv (Swe- den). Globally, 23% of the land surface is covered in acid plutonic rocks, Precambrian basement, or high-grade metamorphic rocks (Du ̈rr et al., forth- coming).\n",
    "2. For basins composed of mixed, mostly hard lithology, sometimes including shield material, we assigned L p 0.75 to 18 basins. Type basins include the Columbia, Zambezi, Chao Phraya, and Yenisei. Only 5% of the global land surface is covered with these hard mixed lithologies (Du ̈rr et al., forth- coming).\n",
    "3. For basins composed of volcanic, mostly ba- saltic rocks (e.g., Tapti, India), or carbonate out- crops (e.g., Suwannee, United States), or mixture of hard and soft lithologies (Niger, Orinoco, Amazon), we assigned L p 1.0 to 112 basins. Globally 17% of the earth surface is covered in volcanic and car- bonate rocks (Du ̈ rr et al., forthcoming).\n",
    "4. For basins characterized by a predominance of softer lithologies but having a significant area of harder lithologies, we assigned L p 1.5 to 65 ba- sins. Type examples include the Yukon and the Lena, with their mixture of Precambrian granites, hard carbonates, and softer siliciclastic sedimen- tary rocks.\n",
    "5. The largest category with 165 L p 2 basins, is reserved for fluvial systems draining a significant proportion of sedimentary rocks, unconsolidated sedimentary cover, or alluvial deposits. Type basins include the Mississippi, Orange, Danube. Fully 50% of the earth surface is covered in these softer sedimentary materials (Du ̈ rr et al., forthcoming).\n",
    "6. Four basins in the database are identified as having an abundance of exceptionally weak ma- terial, such as crushed rock (e.g., Waipaoa or Waiapu, New Zealand; Eel, United States) or loess deposits (e.g., Huanghe, China), and merit an L p 3 designation. Only 4% of the world is covered in these highly erodable lithologies (Du ̈ rr et al., forthcoming).\n"
   ]
  },
  {
   "cell_type": "code",
   "execution_count": 13,
   "metadata": {},
   "outputs": [],
   "source": [
    "l_factor = [2, 2, 2, 1, 1, 1, 0.5, 0.5, 0.5, 0.75, 0.75, 1, 1, 0, 0, 0]"
   ]
  },
  {
   "cell_type": "code",
   "execution_count": 14,
   "metadata": {},
   "outputs": [
    {
     "data": {
      "text/plain": [
       "1.5059823789727569"
      ]
     },
     "execution_count": 14,
     "metadata": {},
     "output_type": "execute_result"
    }
   ],
   "source": [
    "weighted_average = rock_type_area*l_factor\n",
    "weighted_average\n",
    "weighted_average.sum()"
   ]
  },
  {
   "cell_type": "code",
   "execution_count": null,
   "metadata": {},
   "outputs": [],
   "source": []
  }
 ],
 "metadata": {
  "kernelspec": {
   "display_name": "Python 3",
   "language": "python",
   "name": "python3"
  },
  "language_info": {
   "codemirror_mode": {
    "name": "ipython",
    "version": 3
   },
   "file_extension": ".py",
   "mimetype": "text/x-python",
   "name": "python",
   "nbconvert_exporter": "python",
   "pygments_lexer": "ipython3",
   "version": "3.7.7"
  }
 },
 "nbformat": 4,
 "nbformat_minor": 4
}
